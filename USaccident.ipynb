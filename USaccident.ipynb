{
  "nbformat": 4,
  "nbformat_minor": 0,
  "metadata": {
    "colab": {
      "name": "USaccident.ipynb",
      "provenance": [],
      "collapsed_sections": [],
      "authorship_tag": "ABX9TyM6NRxWDogSNk9K+9hbPgrZ",
      "include_colab_link": true
    },
    "kernelspec": {
      "name": "python3",
      "display_name": "Python 3"
    },
    "language_info": {
      "name": "python"
    }
  },
  "cells": [
    {
      "cell_type": "markdown",
      "metadata": {
        "id": "view-in-github",
        "colab_type": "text"
      },
      "source": [
        "<a href=\"https://colab.research.google.com/github/amarshrivastava/silver-barnacle/blob/main/USaccident.ipynb\" target=\"_parent\"><img src=\"https://colab.research.google.com/assets/colab-badge.svg\" alt=\"Open In Colab\"/></a>"
      ]
    },
    {
      "cell_type": "code",
      "metadata": {
        "id": "6Yc5qNgLQihK"
      },
      "source": [
        "##US Accidents Exploratory Data Analysis"
      ],
      "execution_count": null,
      "outputs": []
    },
    {
      "cell_type": "code",
      "metadata": {
        "id": "zFXYKlb5S4vR"
      },
      "source": [
        "pip install opendatasets --quiet"
      ],
      "execution_count": 2,
      "outputs": []
    },
    {
      "cell_type": "code",
      "metadata": {
        "id": "GKTFe_I7Ut9x"
      },
      "source": [
        "##Download Data"
      ],
      "execution_count": 3,
      "outputs": []
    },
    {
      "cell_type": "code",
      "metadata": {
        "colab": {
          "base_uri": "https://localhost:8080/"
        },
        "id": "ZBd3jxaFS_jL",
        "outputId": "8c451043-5566-441f-e7d0-319444c10f13"
      },
      "source": [
        "import opendatasets as od\n",
        "download_url = 'https://www.kaggle.com/sobhanmoosavi/us-accidents'\n",
        "od.download(download_url)"
      ],
      "execution_count": 4,
      "outputs": [
        {
          "output_type": "stream",
          "text": [
            "Please provide your Kaggle credentials to download this dataset. Learn more: http://bit.ly/kaggle-creds\n",
            "Your Kaggle username: amarshrivastava\n",
            "Your Kaggle Key: ··········\n"
          ],
          "name": "stdout"
        },
        {
          "output_type": "stream",
          "text": [
            "  3%|▎         | 8.00M/290M [00:00<00:03, 79.0MB/s]"
          ],
          "name": "stderr"
        },
        {
          "output_type": "stream",
          "text": [
            "Downloading us-accidents.zip to ./us-accidents\n"
          ],
          "name": "stdout"
        },
        {
          "output_type": "stream",
          "text": [
            "100%|██████████| 290M/290M [00:02<00:00, 105MB/s]\n"
          ],
          "name": "stderr"
        },
        {
          "output_type": "stream",
          "text": [
            "\n"
          ],
          "name": "stdout"
        }
      ]
    },
    {
      "cell_type": "code",
      "metadata": {
        "id": "j7W3LBg6TChN"
      },
      "source": [
        "#Load File using Pandas"
      ],
      "execution_count": 5,
      "outputs": []
    },
    {
      "cell_type": "code",
      "metadata": {
        "id": "27iuD8MuTCk8"
      },
      "source": [
        "import pandas as pd"
      ],
      "execution_count": 8,
      "outputs": []
    },
    {
      "cell_type": "code",
      "metadata": {
        "id": "7Gg5CwgfTCp9"
      },
      "source": [
        "df=pd.read_csv('/content/us-accidents/US_Accidents_Dec20_Updated.csv')"
      ],
      "execution_count": 9,
      "outputs": []
    },
    {
      "cell_type": "code",
      "metadata": {
        "colab": {
          "base_uri": "https://localhost:8080/",
          "height": 949
        },
        "id": "8liMME1rU7XZ",
        "outputId": "3ca7f8bc-b3b6-4a93-cc15-39652f7b28e1"
      },
      "source": [
        "df"
      ],
      "execution_count": 10,
      "outputs": [
        {
          "output_type": "execute_result",
          "data": {
            "text/html": [
              "<div>\n",
              "<style scoped>\n",
              "    .dataframe tbody tr th:only-of-type {\n",
              "        vertical-align: middle;\n",
              "    }\n",
              "\n",
              "    .dataframe tbody tr th {\n",
              "        vertical-align: top;\n",
              "    }\n",
              "\n",
              "    .dataframe thead th {\n",
              "        text-align: right;\n",
              "    }\n",
              "</style>\n",
              "<table border=\"1\" class=\"dataframe\">\n",
              "  <thead>\n",
              "    <tr style=\"text-align: right;\">\n",
              "      <th></th>\n",
              "      <th>ID</th>\n",
              "      <th>Severity</th>\n",
              "      <th>Start_Time</th>\n",
              "      <th>End_Time</th>\n",
              "      <th>Start_Lat</th>\n",
              "      <th>Start_Lng</th>\n",
              "      <th>End_Lat</th>\n",
              "      <th>End_Lng</th>\n",
              "      <th>Distance(mi)</th>\n",
              "      <th>Description</th>\n",
              "      <th>Number</th>\n",
              "      <th>Street</th>\n",
              "      <th>Side</th>\n",
              "      <th>City</th>\n",
              "      <th>County</th>\n",
              "      <th>State</th>\n",
              "      <th>Zipcode</th>\n",
              "      <th>Country</th>\n",
              "      <th>Timezone</th>\n",
              "      <th>Airport_Code</th>\n",
              "      <th>Weather_Timestamp</th>\n",
              "      <th>Temperature(F)</th>\n",
              "      <th>Wind_Chill(F)</th>\n",
              "      <th>Humidity(%)</th>\n",
              "      <th>Pressure(in)</th>\n",
              "      <th>Visibility(mi)</th>\n",
              "      <th>Wind_Direction</th>\n",
              "      <th>Wind_Speed(mph)</th>\n",
              "      <th>Precipitation(in)</th>\n",
              "      <th>Weather_Condition</th>\n",
              "      <th>Amenity</th>\n",
              "      <th>Bump</th>\n",
              "      <th>Crossing</th>\n",
              "      <th>Give_Way</th>\n",
              "      <th>Junction</th>\n",
              "      <th>No_Exit</th>\n",
              "      <th>Railway</th>\n",
              "      <th>Roundabout</th>\n",
              "      <th>Station</th>\n",
              "      <th>Stop</th>\n",
              "      <th>Traffic_Calming</th>\n",
              "      <th>Traffic_Signal</th>\n",
              "      <th>Turning_Loop</th>\n",
              "      <th>Sunrise_Sunset</th>\n",
              "      <th>Civil_Twilight</th>\n",
              "      <th>Nautical_Twilight</th>\n",
              "      <th>Astronomical_Twilight</th>\n",
              "    </tr>\n",
              "  </thead>\n",
              "  <tbody>\n",
              "    <tr>\n",
              "      <th>0</th>\n",
              "      <td>A-1</td>\n",
              "      <td>2</td>\n",
              "      <td>2019-05-21 08:29:55</td>\n",
              "      <td>2019-05-21 09:29:40</td>\n",
              "      <td>34.808868</td>\n",
              "      <td>-82.269157</td>\n",
              "      <td>34.808868</td>\n",
              "      <td>-82.269157</td>\n",
              "      <td>0.000</td>\n",
              "      <td>Accident on Tanner Rd at Pennbrooke Ln.</td>\n",
              "      <td>439.0</td>\n",
              "      <td>Tanner Rd</td>\n",
              "      <td>R</td>\n",
              "      <td>Greenville</td>\n",
              "      <td>Greenville</td>\n",
              "      <td>SC</td>\n",
              "      <td>29607-6027</td>\n",
              "      <td>US</td>\n",
              "      <td>US/Eastern</td>\n",
              "      <td>KGMU</td>\n",
              "      <td>2019-05-21 08:53:00</td>\n",
              "      <td>76.0</td>\n",
              "      <td>76.0</td>\n",
              "      <td>52.0</td>\n",
              "      <td>28.91</td>\n",
              "      <td>10.0</td>\n",
              "      <td>N</td>\n",
              "      <td>7.0</td>\n",
              "      <td>0.0</td>\n",
              "      <td>Fair</td>\n",
              "      <td>False</td>\n",
              "      <td>False</td>\n",
              "      <td>False</td>\n",
              "      <td>False</td>\n",
              "      <td>False</td>\n",
              "      <td>False</td>\n",
              "      <td>False</td>\n",
              "      <td>False</td>\n",
              "      <td>False</td>\n",
              "      <td>False</td>\n",
              "      <td>False</td>\n",
              "      <td>False</td>\n",
              "      <td>False</td>\n",
              "      <td>Day</td>\n",
              "      <td>Day</td>\n",
              "      <td>Day</td>\n",
              "      <td>Day</td>\n",
              "    </tr>\n",
              "    <tr>\n",
              "      <th>1</th>\n",
              "      <td>A-2</td>\n",
              "      <td>2</td>\n",
              "      <td>2019-10-07 17:43:09</td>\n",
              "      <td>2019-10-07 19:42:50</td>\n",
              "      <td>35.090080</td>\n",
              "      <td>-80.745560</td>\n",
              "      <td>35.090080</td>\n",
              "      <td>-80.745560</td>\n",
              "      <td>0.000</td>\n",
              "      <td>Accident on Houston Branch Rd at Providence Br...</td>\n",
              "      <td>3299.0</td>\n",
              "      <td>Providence Branch Ln</td>\n",
              "      <td>R</td>\n",
              "      <td>Charlotte</td>\n",
              "      <td>Mecklenburg</td>\n",
              "      <td>NC</td>\n",
              "      <td>28270-8560</td>\n",
              "      <td>US</td>\n",
              "      <td>US/Eastern</td>\n",
              "      <td>KEQY</td>\n",
              "      <td>2019-10-07 17:53:00</td>\n",
              "      <td>76.0</td>\n",
              "      <td>76.0</td>\n",
              "      <td>62.0</td>\n",
              "      <td>29.30</td>\n",
              "      <td>10.0</td>\n",
              "      <td>VAR</td>\n",
              "      <td>3.0</td>\n",
              "      <td>0.0</td>\n",
              "      <td>Cloudy</td>\n",
              "      <td>False</td>\n",
              "      <td>False</td>\n",
              "      <td>False</td>\n",
              "      <td>False</td>\n",
              "      <td>False</td>\n",
              "      <td>False</td>\n",
              "      <td>False</td>\n",
              "      <td>False</td>\n",
              "      <td>False</td>\n",
              "      <td>False</td>\n",
              "      <td>False</td>\n",
              "      <td>False</td>\n",
              "      <td>False</td>\n",
              "      <td>Day</td>\n",
              "      <td>Day</td>\n",
              "      <td>Day</td>\n",
              "      <td>Day</td>\n",
              "    </tr>\n",
              "    <tr>\n",
              "      <th>2</th>\n",
              "      <td>A-3</td>\n",
              "      <td>2</td>\n",
              "      <td>2020-12-13 21:53:00</td>\n",
              "      <td>2020-12-13 22:44:00</td>\n",
              "      <td>37.145730</td>\n",
              "      <td>-121.985052</td>\n",
              "      <td>37.165850</td>\n",
              "      <td>-121.988062</td>\n",
              "      <td>1.400</td>\n",
              "      <td>Stationary traffic on CA-17 from Summit Rd (CA...</td>\n",
              "      <td>NaN</td>\n",
              "      <td>Santa Cruz Hwy</td>\n",
              "      <td>R</td>\n",
              "      <td>Los Gatos</td>\n",
              "      <td>Santa Clara</td>\n",
              "      <td>CA</td>\n",
              "      <td>95033</td>\n",
              "      <td>US</td>\n",
              "      <td>US/Pacific</td>\n",
              "      <td>KSJC</td>\n",
              "      <td>2020-12-13 21:53:00</td>\n",
              "      <td>51.0</td>\n",
              "      <td>51.0</td>\n",
              "      <td>80.0</td>\n",
              "      <td>30.17</td>\n",
              "      <td>10.0</td>\n",
              "      <td>W</td>\n",
              "      <td>6.0</td>\n",
              "      <td>0.0</td>\n",
              "      <td>Fair</td>\n",
              "      <td>False</td>\n",
              "      <td>False</td>\n",
              "      <td>False</td>\n",
              "      <td>False</td>\n",
              "      <td>False</td>\n",
              "      <td>False</td>\n",
              "      <td>False</td>\n",
              "      <td>False</td>\n",
              "      <td>False</td>\n",
              "      <td>False</td>\n",
              "      <td>False</td>\n",
              "      <td>False</td>\n",
              "      <td>False</td>\n",
              "      <td>Night</td>\n",
              "      <td>Night</td>\n",
              "      <td>Night</td>\n",
              "      <td>Night</td>\n",
              "    </tr>\n",
              "    <tr>\n",
              "      <th>3</th>\n",
              "      <td>A-4</td>\n",
              "      <td>2</td>\n",
              "      <td>2018-04-17 16:51:23</td>\n",
              "      <td>2018-04-17 17:50:46</td>\n",
              "      <td>39.110390</td>\n",
              "      <td>-119.773781</td>\n",
              "      <td>39.110390</td>\n",
              "      <td>-119.773781</td>\n",
              "      <td>0.000</td>\n",
              "      <td>Accident on US-395 Southbound at Topsy Ln.</td>\n",
              "      <td>NaN</td>\n",
              "      <td>US Highway 395 S</td>\n",
              "      <td>R</td>\n",
              "      <td>Carson City</td>\n",
              "      <td>Douglas</td>\n",
              "      <td>NV</td>\n",
              "      <td>89705</td>\n",
              "      <td>US</td>\n",
              "      <td>US/Pacific</td>\n",
              "      <td>KCXP</td>\n",
              "      <td>2018-04-17 16:55:00</td>\n",
              "      <td>53.6</td>\n",
              "      <td>NaN</td>\n",
              "      <td>16.0</td>\n",
              "      <td>30.16</td>\n",
              "      <td>10.0</td>\n",
              "      <td>SSW</td>\n",
              "      <td>4.6</td>\n",
              "      <td>NaN</td>\n",
              "      <td>Clear</td>\n",
              "      <td>False</td>\n",
              "      <td>False</td>\n",
              "      <td>False</td>\n",
              "      <td>False</td>\n",
              "      <td>False</td>\n",
              "      <td>False</td>\n",
              "      <td>False</td>\n",
              "      <td>False</td>\n",
              "      <td>False</td>\n",
              "      <td>False</td>\n",
              "      <td>False</td>\n",
              "      <td>True</td>\n",
              "      <td>False</td>\n",
              "      <td>Day</td>\n",
              "      <td>Day</td>\n",
              "      <td>Day</td>\n",
              "      <td>Day</td>\n",
              "    </tr>\n",
              "    <tr>\n",
              "      <th>4</th>\n",
              "      <td>A-5</td>\n",
              "      <td>3</td>\n",
              "      <td>2016-08-31 17:40:49</td>\n",
              "      <td>2016-08-31 18:10:49</td>\n",
              "      <td>26.102942</td>\n",
              "      <td>-80.265091</td>\n",
              "      <td>26.102942</td>\n",
              "      <td>-80.265091</td>\n",
              "      <td>0.000</td>\n",
              "      <td>Accident on I-595 Westbound at Exit 4 / Pine I...</td>\n",
              "      <td>NaN</td>\n",
              "      <td>I-595 W</td>\n",
              "      <td>R</td>\n",
              "      <td>Fort Lauderdale</td>\n",
              "      <td>Broward</td>\n",
              "      <td>FL</td>\n",
              "      <td>33324</td>\n",
              "      <td>US</td>\n",
              "      <td>US/Eastern</td>\n",
              "      <td>KHWO</td>\n",
              "      <td>2016-08-31 17:53:00</td>\n",
              "      <td>84.2</td>\n",
              "      <td>NaN</td>\n",
              "      <td>84.0</td>\n",
              "      <td>29.92</td>\n",
              "      <td>10.0</td>\n",
              "      <td>SSE</td>\n",
              "      <td>13.8</td>\n",
              "      <td>NaN</td>\n",
              "      <td>Overcast</td>\n",
              "      <td>False</td>\n",
              "      <td>False</td>\n",
              "      <td>False</td>\n",
              "      <td>False</td>\n",
              "      <td>True</td>\n",
              "      <td>False</td>\n",
              "      <td>False</td>\n",
              "      <td>False</td>\n",
              "      <td>False</td>\n",
              "      <td>False</td>\n",
              "      <td>False</td>\n",
              "      <td>True</td>\n",
              "      <td>False</td>\n",
              "      <td>Day</td>\n",
              "      <td>Day</td>\n",
              "      <td>Day</td>\n",
              "      <td>Day</td>\n",
              "    </tr>\n",
              "    <tr>\n",
              "      <th>...</th>\n",
              "      <td>...</td>\n",
              "      <td>...</td>\n",
              "      <td>...</td>\n",
              "      <td>...</td>\n",
              "      <td>...</td>\n",
              "      <td>...</td>\n",
              "      <td>...</td>\n",
              "      <td>...</td>\n",
              "      <td>...</td>\n",
              "      <td>...</td>\n",
              "      <td>...</td>\n",
              "      <td>...</td>\n",
              "      <td>...</td>\n",
              "      <td>...</td>\n",
              "      <td>...</td>\n",
              "      <td>...</td>\n",
              "      <td>...</td>\n",
              "      <td>...</td>\n",
              "      <td>...</td>\n",
              "      <td>...</td>\n",
              "      <td>...</td>\n",
              "      <td>...</td>\n",
              "      <td>...</td>\n",
              "      <td>...</td>\n",
              "      <td>...</td>\n",
              "      <td>...</td>\n",
              "      <td>...</td>\n",
              "      <td>...</td>\n",
              "      <td>...</td>\n",
              "      <td>...</td>\n",
              "      <td>...</td>\n",
              "      <td>...</td>\n",
              "      <td>...</td>\n",
              "      <td>...</td>\n",
              "      <td>...</td>\n",
              "      <td>...</td>\n",
              "      <td>...</td>\n",
              "      <td>...</td>\n",
              "      <td>...</td>\n",
              "      <td>...</td>\n",
              "      <td>...</td>\n",
              "      <td>...</td>\n",
              "      <td>...</td>\n",
              "      <td>...</td>\n",
              "      <td>...</td>\n",
              "      <td>...</td>\n",
              "      <td>...</td>\n",
              "    </tr>\n",
              "    <tr>\n",
              "      <th>2906605</th>\n",
              "      <td>A-2906606</td>\n",
              "      <td>2</td>\n",
              "      <td>2018-06-28 08:49:01</td>\n",
              "      <td>2018-06-28 09:18:51</td>\n",
              "      <td>29.813824</td>\n",
              "      <td>-95.399437</td>\n",
              "      <td>29.813824</td>\n",
              "      <td>-95.399437</td>\n",
              "      <td>0.000</td>\n",
              "      <td>Accident on 30th St at Yale St.</td>\n",
              "      <td>3001.0</td>\n",
              "      <td>Yale St</td>\n",
              "      <td>L</td>\n",
              "      <td>Houston</td>\n",
              "      <td>Harris</td>\n",
              "      <td>TX</td>\n",
              "      <td>77018-8433</td>\n",
              "      <td>US</td>\n",
              "      <td>US/Central</td>\n",
              "      <td>KMCJ</td>\n",
              "      <td>2018-06-28 08:35:00</td>\n",
              "      <td>84.2</td>\n",
              "      <td>NaN</td>\n",
              "      <td>70.0</td>\n",
              "      <td>30.02</td>\n",
              "      <td>9.0</td>\n",
              "      <td>Variable</td>\n",
              "      <td>5.8</td>\n",
              "      <td>NaN</td>\n",
              "      <td>Clear</td>\n",
              "      <td>False</td>\n",
              "      <td>False</td>\n",
              "      <td>False</td>\n",
              "      <td>False</td>\n",
              "      <td>False</td>\n",
              "      <td>False</td>\n",
              "      <td>False</td>\n",
              "      <td>False</td>\n",
              "      <td>False</td>\n",
              "      <td>True</td>\n",
              "      <td>False</td>\n",
              "      <td>False</td>\n",
              "      <td>False</td>\n",
              "      <td>Day</td>\n",
              "      <td>Day</td>\n",
              "      <td>Day</td>\n",
              "      <td>Day</td>\n",
              "    </tr>\n",
              "    <tr>\n",
              "      <th>2906606</th>\n",
              "      <td>A-2906607</td>\n",
              "      <td>2</td>\n",
              "      <td>2019-01-10 02:01:01</td>\n",
              "      <td>2019-01-10 02:30:32</td>\n",
              "      <td>34.068890</td>\n",
              "      <td>-117.342010</td>\n",
              "      <td>34.068890</td>\n",
              "      <td>-117.342010</td>\n",
              "      <td>0.000</td>\n",
              "      <td>At Valley Blvd - Accident.</td>\n",
              "      <td>NaN</td>\n",
              "      <td>Cypress Ave</td>\n",
              "      <td>R</td>\n",
              "      <td>Colton</td>\n",
              "      <td>San Bernardino</td>\n",
              "      <td>CA</td>\n",
              "      <td>92324</td>\n",
              "      <td>US</td>\n",
              "      <td>US/Pacific</td>\n",
              "      <td>KSBD</td>\n",
              "      <td>2019-01-10 02:00:00</td>\n",
              "      <td>46.9</td>\n",
              "      <td>NaN</td>\n",
              "      <td>74.0</td>\n",
              "      <td>30.14</td>\n",
              "      <td>10.0</td>\n",
              "      <td>Calm</td>\n",
              "      <td>NaN</td>\n",
              "      <td>NaN</td>\n",
              "      <td>Clear</td>\n",
              "      <td>False</td>\n",
              "      <td>False</td>\n",
              "      <td>False</td>\n",
              "      <td>False</td>\n",
              "      <td>False</td>\n",
              "      <td>False</td>\n",
              "      <td>False</td>\n",
              "      <td>False</td>\n",
              "      <td>False</td>\n",
              "      <td>False</td>\n",
              "      <td>False</td>\n",
              "      <td>False</td>\n",
              "      <td>False</td>\n",
              "      <td>Night</td>\n",
              "      <td>Night</td>\n",
              "      <td>Night</td>\n",
              "      <td>Night</td>\n",
              "    </tr>\n",
              "    <tr>\n",
              "      <th>2906607</th>\n",
              "      <td>A-2906608</td>\n",
              "      <td>2</td>\n",
              "      <td>2020-11-23 12:52:00</td>\n",
              "      <td>2020-11-24 00:47:37</td>\n",
              "      <td>25.702200</td>\n",
              "      <td>-80.335556</td>\n",
              "      <td>25.703040</td>\n",
              "      <td>-80.334099</td>\n",
              "      <td>0.108</td>\n",
              "      <td>Stationary traffic on County Hwy-913 - FL-986 ...</td>\n",
              "      <td>8798.0</td>\n",
              "      <td>SW 72nd St</td>\n",
              "      <td>L</td>\n",
              "      <td>Miami</td>\n",
              "      <td>Miami-Dade</td>\n",
              "      <td>FL</td>\n",
              "      <td>33173-3512</td>\n",
              "      <td>US</td>\n",
              "      <td>US/Eastern</td>\n",
              "      <td>KTMB</td>\n",
              "      <td>2020-11-23 12:53:00</td>\n",
              "      <td>76.0</td>\n",
              "      <td>76.0</td>\n",
              "      <td>85.0</td>\n",
              "      <td>30.00</td>\n",
              "      <td>10.0</td>\n",
              "      <td>NNW</td>\n",
              "      <td>16.0</td>\n",
              "      <td>0.0</td>\n",
              "      <td>Mostly Cloudy</td>\n",
              "      <td>False</td>\n",
              "      <td>False</td>\n",
              "      <td>False</td>\n",
              "      <td>False</td>\n",
              "      <td>False</td>\n",
              "      <td>False</td>\n",
              "      <td>False</td>\n",
              "      <td>False</td>\n",
              "      <td>False</td>\n",
              "      <td>False</td>\n",
              "      <td>False</td>\n",
              "      <td>False</td>\n",
              "      <td>False</td>\n",
              "      <td>Day</td>\n",
              "      <td>Day</td>\n",
              "      <td>Day</td>\n",
              "      <td>Day</td>\n",
              "    </tr>\n",
              "    <tr>\n",
              "      <th>2906608</th>\n",
              "      <td>A-2906609</td>\n",
              "      <td>2</td>\n",
              "      <td>2019-12-29 22:38:00</td>\n",
              "      <td>2019-12-29 23:38:00</td>\n",
              "      <td>40.660140</td>\n",
              "      <td>-111.952460</td>\n",
              "      <td>40.660140</td>\n",
              "      <td>-111.952460</td>\n",
              "      <td>0.000</td>\n",
              "      <td>At UT-266/4700/Exit 15 - Accident.</td>\n",
              "      <td>NaN</td>\n",
              "      <td>I-215 N</td>\n",
              "      <td>R</td>\n",
              "      <td>Salt Lake City</td>\n",
              "      <td>Salt Lake</td>\n",
              "      <td>UT</td>\n",
              "      <td>84129</td>\n",
              "      <td>US</td>\n",
              "      <td>US/Mountain</td>\n",
              "      <td>KU42</td>\n",
              "      <td>2019-12-29 22:54:00</td>\n",
              "      <td>27.0</td>\n",
              "      <td>19.0</td>\n",
              "      <td>81.0</td>\n",
              "      <td>25.81</td>\n",
              "      <td>10.0</td>\n",
              "      <td>SSE</td>\n",
              "      <td>8.0</td>\n",
              "      <td>0.0</td>\n",
              "      <td>Cloudy</td>\n",
              "      <td>False</td>\n",
              "      <td>False</td>\n",
              "      <td>False</td>\n",
              "      <td>False</td>\n",
              "      <td>False</td>\n",
              "      <td>False</td>\n",
              "      <td>False</td>\n",
              "      <td>False</td>\n",
              "      <td>False</td>\n",
              "      <td>False</td>\n",
              "      <td>False</td>\n",
              "      <td>False</td>\n",
              "      <td>False</td>\n",
              "      <td>Night</td>\n",
              "      <td>Night</td>\n",
              "      <td>Night</td>\n",
              "      <td>Night</td>\n",
              "    </tr>\n",
              "    <tr>\n",
              "      <th>2906609</th>\n",
              "      <td>A-2906610</td>\n",
              "      <td>2</td>\n",
              "      <td>2018-03-26 13:35:03</td>\n",
              "      <td>2018-03-26 14:39:00</td>\n",
              "      <td>38.831749</td>\n",
              "      <td>-104.748161</td>\n",
              "      <td>38.831749</td>\n",
              "      <td>-104.748161</td>\n",
              "      <td>0.000</td>\n",
              "      <td>Accident on Murray Blvd at Byron Dr.</td>\n",
              "      <td>NaN</td>\n",
              "      <td>Byron Dr</td>\n",
              "      <td>R</td>\n",
              "      <td>Colorado Springs</td>\n",
              "      <td>El Paso</td>\n",
              "      <td>CO</td>\n",
              "      <td>80916</td>\n",
              "      <td>US</td>\n",
              "      <td>US/Mountain</td>\n",
              "      <td>KCOS</td>\n",
              "      <td>2018-03-26 13:54:00</td>\n",
              "      <td>51.1</td>\n",
              "      <td>NaN</td>\n",
              "      <td>38.0</td>\n",
              "      <td>29.77</td>\n",
              "      <td>10.0</td>\n",
              "      <td>SE</td>\n",
              "      <td>13.8</td>\n",
              "      <td>NaN</td>\n",
              "      <td>Scattered Clouds</td>\n",
              "      <td>False</td>\n",
              "      <td>False</td>\n",
              "      <td>True</td>\n",
              "      <td>False</td>\n",
              "      <td>False</td>\n",
              "      <td>False</td>\n",
              "      <td>False</td>\n",
              "      <td>False</td>\n",
              "      <td>False</td>\n",
              "      <td>False</td>\n",
              "      <td>False</td>\n",
              "      <td>True</td>\n",
              "      <td>False</td>\n",
              "      <td>Day</td>\n",
              "      <td>Day</td>\n",
              "      <td>Day</td>\n",
              "      <td>Day</td>\n",
              "    </tr>\n",
              "  </tbody>\n",
              "</table>\n",
              "<p>2906610 rows × 47 columns</p>\n",
              "</div>"
            ],
            "text/plain": [
              "                ID  Severity  ... Nautical_Twilight Astronomical_Twilight\n",
              "0              A-1         2  ...               Day                   Day\n",
              "1              A-2         2  ...               Day                   Day\n",
              "2              A-3         2  ...             Night                 Night\n",
              "3              A-4         2  ...               Day                   Day\n",
              "4              A-5         3  ...               Day                   Day\n",
              "...            ...       ...  ...               ...                   ...\n",
              "2906605  A-2906606         2  ...               Day                   Day\n",
              "2906606  A-2906607         2  ...             Night                 Night\n",
              "2906607  A-2906608         2  ...               Day                   Day\n",
              "2906608  A-2906609         2  ...             Night                 Night\n",
              "2906609  A-2906610         2  ...               Day                   Day\n",
              "\n",
              "[2906610 rows x 47 columns]"
            ]
          },
          "metadata": {
            "tags": []
          },
          "execution_count": 10
        }
      ]
    },
    {
      "cell_type": "markdown",
      "metadata": {
        "id": "nWy_dtUdrUWN"
      },
      "source": [
        "# New Section"
      ]
    },
    {
      "cell_type": "code",
      "metadata": {
        "colab": {
          "base_uri": "https://localhost:8080/"
        },
        "id": "xqS-LyyMVRVo",
        "outputId": "aed4303d-b32a-4683-ae6a-d08c2779eaad"
      },
      "source": [
        "df.columns"
      ],
      "execution_count": 11,
      "outputs": [
        {
          "output_type": "execute_result",
          "data": {
            "text/plain": [
              "Index(['ID', 'Severity', 'Start_Time', 'End_Time', 'Start_Lat', 'Start_Lng',\n",
              "       'End_Lat', 'End_Lng', 'Distance(mi)', 'Description', 'Number', 'Street',\n",
              "       'Side', 'City', 'County', 'State', 'Zipcode', 'Country', 'Timezone',\n",
              "       'Airport_Code', 'Weather_Timestamp', 'Temperature(F)', 'Wind_Chill(F)',\n",
              "       'Humidity(%)', 'Pressure(in)', 'Visibility(mi)', 'Wind_Direction',\n",
              "       'Wind_Speed(mph)', 'Precipitation(in)', 'Weather_Condition', 'Amenity',\n",
              "       'Bump', 'Crossing', 'Give_Way', 'Junction', 'No_Exit', 'Railway',\n",
              "       'Roundabout', 'Station', 'Stop', 'Traffic_Calming', 'Traffic_Signal',\n",
              "       'Turning_Loop', 'Sunrise_Sunset', 'Civil_Twilight', 'Nautical_Twilight',\n",
              "       'Astronomical_Twilight'],\n",
              "      dtype='object')"
            ]
          },
          "metadata": {
            "tags": []
          },
          "execution_count": 11
        }
      ]
    },
    {
      "cell_type": "code",
      "metadata": {
        "colab": {
          "base_uri": "https://localhost:8080/",
          "height": 317
        },
        "id": "9R0fVF9yVgu4",
        "outputId": "7e8bef40-fec5-4abb-f1a8-19c649c0a9a9"
      },
      "source": [
        "df.describe()"
      ],
      "execution_count": 12,
      "outputs": [
        {
          "output_type": "execute_result",
          "data": {
            "text/html": [
              "<div>\n",
              "<style scoped>\n",
              "    .dataframe tbody tr th:only-of-type {\n",
              "        vertical-align: middle;\n",
              "    }\n",
              "\n",
              "    .dataframe tbody tr th {\n",
              "        vertical-align: top;\n",
              "    }\n",
              "\n",
              "    .dataframe thead th {\n",
              "        text-align: right;\n",
              "    }\n",
              "</style>\n",
              "<table border=\"1\" class=\"dataframe\">\n",
              "  <thead>\n",
              "    <tr style=\"text-align: right;\">\n",
              "      <th></th>\n",
              "      <th>Severity</th>\n",
              "      <th>Start_Lat</th>\n",
              "      <th>Start_Lng</th>\n",
              "      <th>End_Lat</th>\n",
              "      <th>End_Lng</th>\n",
              "      <th>Distance(mi)</th>\n",
              "      <th>Number</th>\n",
              "      <th>Temperature(F)</th>\n",
              "      <th>Wind_Chill(F)</th>\n",
              "      <th>Humidity(%)</th>\n",
              "      <th>Pressure(in)</th>\n",
              "      <th>Visibility(mi)</th>\n",
              "      <th>Wind_Speed(mph)</th>\n",
              "      <th>Precipitation(in)</th>\n",
              "    </tr>\n",
              "  </thead>\n",
              "  <tbody>\n",
              "    <tr>\n",
              "      <th>count</th>\n",
              "      <td>2.906610e+06</td>\n",
              "      <td>2.906610e+06</td>\n",
              "      <td>2.906610e+06</td>\n",
              "      <td>2.623789e+06</td>\n",
              "      <td>2.623789e+06</td>\n",
              "      <td>2.906610e+06</td>\n",
              "      <td>1.014938e+06</td>\n",
              "      <td>2.839386e+06</td>\n",
              "      <td>1.722751e+06</td>\n",
              "      <td>2.835340e+06</td>\n",
              "      <td>2.849702e+06</td>\n",
              "      <td>2.834532e+06</td>\n",
              "      <td>2.599447e+06</td>\n",
              "      <td>1.605284e+06</td>\n",
              "    </tr>\n",
              "    <tr>\n",
              "      <th>mean</th>\n",
              "      <td>2.288649e+00</td>\n",
              "      <td>3.653027e+01</td>\n",
              "      <td>-9.642676e+01</td>\n",
              "      <td>3.651733e+01</td>\n",
              "      <td>-9.620367e+01</td>\n",
              "      <td>3.980541e-01</td>\n",
              "      <td>6.789728e+03</td>\n",
              "      <td>6.098873e+01</td>\n",
              "      <td>5.499048e+01</td>\n",
              "      <td>6.537758e+01</td>\n",
              "      <td>2.965685e+01</td>\n",
              "      <td>9.116766e+00</td>\n",
              "      <td>7.818111e+00</td>\n",
              "      <td>1.119459e-02</td>\n",
              "    </tr>\n",
              "    <tr>\n",
              "      <th>std</th>\n",
              "      <td>5.541618e-01</td>\n",
              "      <td>5.013964e+00</td>\n",
              "      <td>1.775412e+01</td>\n",
              "      <td>5.016609e+00</td>\n",
              "      <td>1.765971e+01</td>\n",
              "      <td>1.592556e+00</td>\n",
              "      <td>1.697225e+04</td>\n",
              "      <td>1.845258e+01</td>\n",
              "      <td>2.219542e+01</td>\n",
              "      <td>2.287854e+01</td>\n",
              "      <td>9.094133e-01</td>\n",
              "      <td>2.837271e+00</td>\n",
              "      <td>5.431171e+00</td>\n",
              "      <td>1.540812e-01</td>\n",
              "    </tr>\n",
              "    <tr>\n",
              "      <th>min</th>\n",
              "      <td>1.000000e+00</td>\n",
              "      <td>2.455527e+01</td>\n",
              "      <td>-1.246238e+02</td>\n",
              "      <td>2.455527e+01</td>\n",
              "      <td>-1.246238e+02</td>\n",
              "      <td>0.000000e+00</td>\n",
              "      <td>0.000000e+00</td>\n",
              "      <td>-8.900000e+01</td>\n",
              "      <td>-8.900000e+01</td>\n",
              "      <td>1.000000e+00</td>\n",
              "      <td>0.000000e+00</td>\n",
              "      <td>0.000000e+00</td>\n",
              "      <td>0.000000e+00</td>\n",
              "      <td>0.000000e+00</td>\n",
              "    </tr>\n",
              "    <tr>\n",
              "      <th>25%</th>\n",
              "      <td>2.000000e+00</td>\n",
              "      <td>3.366453e+01</td>\n",
              "      <td>-1.178232e+02</td>\n",
              "      <td>3.364659e+01</td>\n",
              "      <td>-1.177020e+02</td>\n",
              "      <td>0.000000e+00</td>\n",
              "      <td>9.650000e+02</td>\n",
              "      <td>4.890000e+01</td>\n",
              "      <td>3.900000e+01</td>\n",
              "      <td>4.900000e+01</td>\n",
              "      <td>2.959000e+01</td>\n",
              "      <td>1.000000e+01</td>\n",
              "      <td>4.600000e+00</td>\n",
              "      <td>0.000000e+00</td>\n",
              "    </tr>\n",
              "    <tr>\n",
              "      <th>50%</th>\n",
              "      <td>2.000000e+00</td>\n",
              "      <td>3.609977e+01</td>\n",
              "      <td>-9.116690e+01</td>\n",
              "      <td>3.605898e+01</td>\n",
              "      <td>-9.105163e+01</td>\n",
              "      <td>0.000000e+00</td>\n",
              "      <td>3.093000e+03</td>\n",
              "      <td>6.300000e+01</td>\n",
              "      <td>5.800000e+01</td>\n",
              "      <td>6.800000e+01</td>\n",
              "      <td>2.992000e+01</td>\n",
              "      <td>1.000000e+01</td>\n",
              "      <td>7.000000e+00</td>\n",
              "      <td>0.000000e+00</td>\n",
              "    </tr>\n",
              "    <tr>\n",
              "      <th>75%</th>\n",
              "      <td>3.000000e+00</td>\n",
              "      <td>4.037505e+01</td>\n",
              "      <td>-8.085814e+01</td>\n",
              "      <td>4.033133e+01</td>\n",
              "      <td>-8.084679e+01</td>\n",
              "      <td>2.790000e-01</td>\n",
              "      <td>7.976000e+03</td>\n",
              "      <td>7.500000e+01</td>\n",
              "      <td>7.200000e+01</td>\n",
              "      <td>8.500000e+01</td>\n",
              "      <td>3.007000e+01</td>\n",
              "      <td>1.000000e+01</td>\n",
              "      <td>1.040000e+01</td>\n",
              "      <td>0.000000e+00</td>\n",
              "    </tr>\n",
              "    <tr>\n",
              "      <th>max</th>\n",
              "      <td>4.000000e+00</td>\n",
              "      <td>4.900220e+01</td>\n",
              "      <td>-6.711317e+01</td>\n",
              "      <td>4.907500e+01</td>\n",
              "      <td>-6.710924e+01</td>\n",
              "      <td>3.336300e+02</td>\n",
              "      <td>9.999997e+06</td>\n",
              "      <td>2.030000e+02</td>\n",
              "      <td>1.740000e+02</td>\n",
              "      <td>1.000000e+02</td>\n",
              "      <td>5.804000e+01</td>\n",
              "      <td>1.400000e+02</td>\n",
              "      <td>9.840000e+02</td>\n",
              "      <td>2.400000e+01</td>\n",
              "    </tr>\n",
              "  </tbody>\n",
              "</table>\n",
              "</div>"
            ],
            "text/plain": [
              "           Severity     Start_Lat  ...  Wind_Speed(mph)  Precipitation(in)\n",
              "count  2.906610e+06  2.906610e+06  ...     2.599447e+06       1.605284e+06\n",
              "mean   2.288649e+00  3.653027e+01  ...     7.818111e+00       1.119459e-02\n",
              "std    5.541618e-01  5.013964e+00  ...     5.431171e+00       1.540812e-01\n",
              "min    1.000000e+00  2.455527e+01  ...     0.000000e+00       0.000000e+00\n",
              "25%    2.000000e+00  3.366453e+01  ...     4.600000e+00       0.000000e+00\n",
              "50%    2.000000e+00  3.609977e+01  ...     7.000000e+00       0.000000e+00\n",
              "75%    3.000000e+00  4.037505e+01  ...     1.040000e+01       0.000000e+00\n",
              "max    4.000000e+00  4.900220e+01  ...     9.840000e+02       2.400000e+01\n",
              "\n",
              "[8 rows x 14 columns]"
            ]
          },
          "metadata": {
            "tags": []
          },
          "execution_count": 12
        }
      ]
    },
    {
      "cell_type": "code",
      "metadata": {
        "id": "GHs5elqwVzo0"
      },
      "source": [
        "missing_data= df.isna().sum().sort_values(ascending=False) / len(df)\n",
        "missing_data=missing_data[missing_data !=0]"
      ],
      "execution_count": 13,
      "outputs": []
    },
    {
      "cell_type": "code",
      "metadata": {
        "colab": {
          "base_uri": "https://localhost:8080/",
          "height": 282
        },
        "id": "UGLjvV3DWI1m",
        "outputId": "03a94e1e-63d6-4548-b1a8-4f3665477303"
      },
      "source": [
        "missing_data.plot(kind='barh')"
      ],
      "execution_count": 14,
      "outputs": [
        {
          "output_type": "execute_result",
          "data": {
            "text/plain": [
              "<matplotlib.axes._subplots.AxesSubplot at 0x7f7ab245a1d0>"
            ]
          },
          "metadata": {
            "tags": []
          },
          "execution_count": 14
        },
        {
          "output_type": "display_data",
          "data": {
            "image/png": "[encoded data removed]",
            "text/plain": [
              "<Figure size 432x288 with 1 Axes>"
            ]
          },
          "metadata": {
            "tags": [],
            "needs_background": "light"
          }
        }
      ]
    },
    {
      "cell_type": "code",
      "metadata": {
        "id": "9LTcMQKYWI6S"
      },
      "source": [
        "#Remove cloumns that you dont want to use"
      ],
      "execution_count": 15,
      "outputs": []
    },
    {
      "cell_type": "markdown",
      "metadata": {
        "id": "h0B2Bqevk9V3"
      },
      "source": [
        "Cloumn we'll analyze:\n",
        "1. City\n",
        "2. Start Time\n",
        "3. Start Lat, Start Lng \n",
        "4. Temprature\n",
        "5. Weather Condition"
      ]
    },
    {
      "cell_type": "code",
      "metadata": {
        "id": "HcXvmsoYkbxO"
      },
      "source": [
        "cities= df.City.unique()"
      ],
      "execution_count": 16,
      "outputs": []
    },
    {
      "cell_type": "code",
      "metadata": {
        "colab": {
          "base_uri": "https://localhost:8080/"
        },
        "id": "u5xCkhn0kb74",
        "outputId": "746f68ef-815d-4641-e12f-ce1ebf47973b"
      },
      "source": [
        "cities_by_accident= df.City.value_counts()\n",
        "cities_by_accident[:20]"
      ],
      "execution_count": 17,
      "outputs": [
        {
          "output_type": "execute_result",
          "data": {
            "text/plain": [
              "Los Angeles      68411\n",
              "Houston          68265\n",
              "Charlotte        56176\n",
              "Miami            49965\n",
              "Dallas           48525\n",
              "Austin           38808\n",
              "Raleigh          31355\n",
              "Atlanta          29244\n",
              "Sacramento       28984\n",
              "Orlando          28092\n",
              "Nashville        25277\n",
              "Baton Rouge      25080\n",
              "Minneapolis      22469\n",
              "San Diego        22329\n",
              "Phoenix          21370\n",
              "Oklahoma City    21292\n",
              "Portland         19432\n",
              "Richmond         18343\n",
              "Seattle          17384\n",
              "Saint Paul       17266\n",
              "Name: City, dtype: int64"
            ]
          },
          "metadata": {
            "tags": []
          },
          "execution_count": 17
        }
      ]
    },
    {
      "cell_type": "code",
      "metadata": {
        "colab": {
          "base_uri": "https://localhost:8080/",
          "height": 282
        },
        "id": "1lhhBI1XWJHr",
        "outputId": "37ef47dc-513a-432a-fb6c-b7d48f25f288"
      },
      "source": [
        "cities_by_accident[:20].plot(kind='barh')"
      ],
      "execution_count": 31,
      "outputs": [
        {
          "output_type": "execute_result",
          "data": {
            "text/plain": [
              "<matplotlib.axes._subplots.AxesSubplot at 0x7f7a40c5c710>"
            ]
          },
          "metadata": {
            "tags": []
          },
          "execution_count": 31
        },
        {
          "output_type": "display_data",
          "data": {
            "image/png": "[encoded data removed]",
            "text/plain": [
              "<Figure size 432x288 with 1 Axes>"
            ]
          },
          "metadata": {
            "tags": []
          }
        }
      ]
    },
    {
      "cell_type": "code",
      "metadata": {
        "id": "qBOoIk-1mArM"
      },
      "source": [
        "import seaborn as sns\n",
        "sns.set_style(\"darkgrid\")"
      ],
      "execution_count": 32,
      "outputs": []
    },
    {
      "cell_type": "code",
      "metadata": {
        "colab": {
          "base_uri": "https://localhost:8080/",
          "height": 300
        },
        "id": "9NVZNZe0mAuO",
        "outputId": "abc954f4-c4d1-40df-ec57-466882d567e6"
      },
      "source": [
        "sns.histplot(cities_by_accident[cities_by_accident>=10], log_scale=True)"
      ],
      "execution_count": 33,
      "outputs": [
        {
          "output_type": "execute_result",
          "data": {
            "text/plain": [
              "<matplotlib.axes._subplots.AxesSubplot at 0x7f7a40c61c90>"
            ]
          },
          "metadata": {
            "tags": []
          },
          "execution_count": 33
        },
        {
          "output_type": "display_data",
          "data": {
            "image/png": "[encoded data removed]",
            "text/plain": [
              "<Figure size 432x288 with 1 Axes>"
            ]
          },
          "metadata": {
            "tags": []
          }
        }
      ]
    },
    {
      "cell_type": "code",
      "metadata": {
        "colab": {
          "base_uri": "https://localhost:8080/"
        },
        "id": "6E07Me4etYVt",
        "outputId": "2211b546-cd52-40fd-955f-3c24d7252069"
      },
      "source": [
        "cities_by_accident[cities_by_accident==1]"
      ],
      "execution_count": 34,
      "outputs": [
        {
          "output_type": "execute_result",
          "data": {
            "text/plain": [
              "Eola                 1\n",
              "Saint Jacob          1\n",
              "Kewanee              1\n",
              "Trego                1\n",
              "Harrodsburg          1\n",
              "                    ..\n",
              "Beaver City          1\n",
              "Nags Head            1\n",
              "Semora               1\n",
              "Manitowish Waters    1\n",
              "Tupper Lake          1\n",
              "Name: City, Length: 1306, dtype: int64"
            ]
          },
          "metadata": {
            "tags": []
          },
          "execution_count": 34
        }
      ]
    },
    {
      "cell_type": "code",
      "metadata": {
        "id": "bQD9RJ7bmAwo"
      },
      "source": [
        "high_accident_cities= cities_by_accident[cities_by_accident>=1000]\n",
        "low_accident_cities= cities_by_accident[cities_by_accident<1000]"
      ],
      "execution_count": 35,
      "outputs": []
    },
    {
      "cell_type": "code",
      "metadata": {
        "colab": {
          "base_uri": "https://localhost:8080/"
        },
        "id": "GcuYk6ALoo_d",
        "outputId": "4b80c013-fddb-4587-840e-76ca477e9d45"
      },
      "source": [
        "len(high_accident_cities)"
      ],
      "execution_count": 36,
      "outputs": [
        {
          "output_type": "execute_result",
          "data": {
            "text/plain": [
              "513"
            ]
          },
          "metadata": {
            "tags": []
          },
          "execution_count": 36
        }
      ]
    },
    {
      "cell_type": "code",
      "metadata": {
        "colab": {
          "base_uri": "https://localhost:8080/",
          "height": 350
        },
        "id": "l82BOdVVopCY",
        "outputId": "2ef74b7d-bae0-4830-85a5-aa529c01d1b6"
      },
      "source": [
        "sns.distplot(high_accident_cities)"
      ],
      "execution_count": 37,
      "outputs": [
        {
          "output_type": "stream",
          "text": [
            "/usr/local/lib/python3.7/dist-packages/seaborn/distributions.py:2557: FutureWarning: `distplot` is a deprecated function and will be removed in a future version. Please adapt your code to use either `displot` (a figure-level function with similar flexibility) or `histplot` (an axes-level function for histograms).\n",
            "  warnings.warn(msg, FutureWarning)\n"
          ],
          "name": "stderr"
        },
        {
          "output_type": "execute_result",
          "data": {
            "text/plain": [
              "<matplotlib.axes._subplots.AxesSubplot at 0x7f7a08aa5f90>"
            ]
          },
          "metadata": {
            "tags": []
          },
          "execution_count": 37
        },
        {
          "output_type": "display_data",
          "data": {
            "image/png": "[encoded data removed]",
            "text/plain": [
              "<Figure size 432x288 with 1 Axes>"
            ]
          },
          "metadata": {
            "tags": []
          }
        }
      ]
    },
    {
      "cell_type": "markdown",
      "metadata": {
        "id": "2OPtqEhquj95"
      },
      "source": [
        "#Start Time"
      ]
    },
    {
      "cell_type": "code",
      "metadata": {
        "id": "BiK-wMyDurhq"
      },
      "source": [
        "df.Start_Time= pd.to_datetime(df.Start_Time)"
      ],
      "execution_count": 38,
      "outputs": []
    },
    {
      "cell_type": "code",
      "metadata": {
        "colab": {
          "base_uri": "https://localhost:8080/",
          "height": 351
        },
        "id": "aR7xYGMWvBVG",
        "outputId": "e2a5a0d9-90c7-4972-9949-22b54245fc93"
      },
      "source": [
        "sns.distplot(df.Start_Time.dt.hour, bins=24, kde=False, norm_hist=True)"
      ],
      "execution_count": 39,
      "outputs": [
        {
          "output_type": "stream",
          "text": [
            "/usr/local/lib/python3.7/dist-packages/seaborn/distributions.py:2557: FutureWarning: `distplot` is a deprecated function and will be removed in a future version. Please adapt your code to use either `displot` (a figure-level function with similar flexibility) or `histplot` (an axes-level function for histograms).\n",
            "  warnings.warn(msg, FutureWarning)\n"
          ],
          "name": "stderr"
        },
        {
          "output_type": "execute_result",
          "data": {
            "text/plain": [
              "<matplotlib.axes._subplots.AxesSubplot at 0x7f7a3bda0850>"
            ]
          },
          "metadata": {
            "tags": []
          },
          "execution_count": 39
        },
        {
          "output_type": "display_data",
          "data": {
            "image/png": "[encoded data removed]",
            "text/plain": [
              "<Figure size 432x288 with 1 Axes>"
            ]
          },
          "metadata": {
            "tags": []
          }
        }
      ]
    },
    {
      "cell_type": "code",
      "metadata": {
        "colab": {
          "base_uri": "https://localhost:8080/",
          "height": 351
        },
        "id": "JReAE4levBX0",
        "outputId": "d9de3da9-811a-4d11-e80d-8dffea0abdfb"
      },
      "source": [
        "friday_start_time=df.Start_Time[df.Start_Time.dt.dayofweek == 4]\n",
        "sns.distplot(friday_start_time.dt.hour, bins=24, kde=False, norm_hist=True)"
      ],
      "execution_count": 42,
      "outputs": [
        {
          "output_type": "stream",
          "text": [
            "/usr/local/lib/python3.7/dist-packages/seaborn/distributions.py:2557: FutureWarning: `distplot` is a deprecated function and will be removed in a future version. Please adapt your code to use either `displot` (a figure-level function with similar flexibility) or `histplot` (an axes-level function for histograms).\n",
            "  warnings.warn(msg, FutureWarning)\n"
          ],
          "name": "stderr"
        },
        {
          "output_type": "execute_result",
          "data": {
            "text/plain": [
              "<matplotlib.axes._subplots.AxesSubplot at 0x7f7a17832210>"
            ]
          },
          "metadata": {
            "tags": []
          },
          "execution_count": 42
        },
        {
          "output_type": "display_data",
          "data": {
            "image/png": "[encoded data removed]",
            "text/plain": [
              "<Figure size 432x288 with 1 Axes>"
            ]
          },
          "metadata": {
            "tags": []
          }
        }
      ]
    },
    {
      "cell_type": "code",
      "metadata": {
        "id": "-4yYeGrgA5N_",
        "colab": {
          "base_uri": "https://localhost:8080/",
          "height": 351
        },
        "outputId": "64082e2d-1959-4335-acfc-d406bc8e2016"
      },
      "source": [
        "df_2018=df[df.Start_Time.dt.year == 2018]\n",
        "\n",
        "sns.distplot(df_2018.Start_Time.dt.month, bins=12, kde=False, norm_hist=True)"
      ],
      "execution_count": 45,
      "outputs": [
        {
          "output_type": "stream",
          "text": [
            "/usr/local/lib/python3.7/dist-packages/seaborn/distributions.py:2557: FutureWarning: `distplot` is a deprecated function and will be removed in a future version. Please adapt your code to use either `displot` (a figure-level function with similar flexibility) or `histplot` (an axes-level function for histograms).\n",
            "  warnings.warn(msg, FutureWarning)\n"
          ],
          "name": "stderr"
        },
        {
          "output_type": "execute_result",
          "data": {
            "text/plain": [
              "<matplotlib.axes._subplots.AxesSubplot at 0x7f7a187fa0d0>"
            ]
          },
          "metadata": {
            "tags": []
          },
          "execution_count": 45
        },
        {
          "output_type": "display_data",
          "data": {
            "image/png": "[encoded data removed]",
            "text/plain": [
              "<Figure size 432x288 with 1 Axes>"
            ]
          },
          "metadata": {
            "tags": []
          }
        }
      ]
    },
    {
      "cell_type": "code",
      "metadata": {
        "colab": {
          "base_uri": "https://localhost:8080/",
          "height": 265
        },
        "id": "wYaaaxLcIEt_",
        "outputId": "a56020fc-0ed6-4eeb-cfa3-193456ec0f94"
      },
      "source": [
        "df.Traffic_Signal.value_counts().plot(kind='pie')"
      ],
      "execution_count": 48,
      "outputs": [
        {
          "output_type": "execute_result",
          "data": {
            "text/plain": [
              "<matplotlib.axes._subplots.AxesSubplot at 0x7f7a05cbe3d0>"
            ]
          },
          "metadata": {
            "tags": []
          },
          "execution_count": 48
        },
        {
          "output_type": "display_data",
          "data": {
            "image/png": "[encoded data removed]",
            "text/plain": [
              "<Figure size 432x288 with 1 Axes>"
            ]
          },
          "metadata": {
            "tags": []
          }
        }
      ]
    },
    {
      "cell_type": "code",
      "metadata": {
        "id": "ekNPdNZBIFA1"
      },
      "source": [
        "##Start Lat& Long"
      ],
      "execution_count": null,
      "outputs": []
    },
    {
      "cell_type": "code",
      "metadata": {
        "colab": {
          "base_uri": "https://localhost:8080/"
        },
        "id": "h3WVUOmUOs7h",
        "outputId": "07178f37-140b-442c-c7a5-64b9eba22015"
      },
      "source": [
        "df.Start_Lat"
      ],
      "execution_count": 49,
      "outputs": [
        {
          "output_type": "execute_result",
          "data": {
            "text/plain": [
              "0          34.808868\n",
              "1          35.090080\n",
              "2          37.145730\n",
              "3          39.110390\n",
              "4          26.102942\n",
              "             ...    \n",
              "2906605    29.813824\n",
              "2906606    34.068890\n",
              "2906607    25.702200\n",
              "2906608    40.660140\n",
              "2906609    38.831749\n",
              "Name: Start_Lat, Length: 2906610, dtype: float64"
            ]
          },
          "metadata": {
            "tags": []
          },
          "execution_count": 49
        }
      ]
    },
    {
      "cell_type": "code",
      "metadata": {
        "colab": {
          "base_uri": "https://localhost:8080/"
        },
        "id": "UtDFrt4BOs-w",
        "outputId": "e88d5855-22ee-4578-abd4-1f1463b804dd"
      },
      "source": [
        "df.Start_Lng"
      ],
      "execution_count": 50,
      "outputs": [
        {
          "output_type": "execute_result",
          "data": {
            "text/plain": [
              "0          -82.269157\n",
              "1          -80.745560\n",
              "2         -121.985052\n",
              "3         -119.773781\n",
              "4          -80.265091\n",
              "              ...    \n",
              "2906605    -95.399437\n",
              "2906606   -117.342010\n",
              "2906607    -80.335556\n",
              "2906608   -111.952460\n",
              "2906609   -104.748161\n",
              "Name: Start_Lng, Length: 2906610, dtype: float64"
            ]
          },
          "metadata": {
            "tags": []
          },
          "execution_count": 50
        }
      ]
    },
    {
      "cell_type": "code",
      "metadata": {
        "colab": {
          "base_uri": "https://localhost:8080/",
          "height": 462
        },
        "id": "iBw7K9xWOtBq",
        "outputId": "1753b0a8-655a-4d58-a26a-bc38184abebb"
      },
      "source": [
        "sns.scatterplot(x=df.Start_Lng, y=df.Start_Lat)"
      ],
      "execution_count": 55,
      "outputs": [
        {
          "output_type": "execute_result",
          "data": {
            "text/plain": [
              "<matplotlib.axes._subplots.AxesSubplot at 0x7f7a5bde0d90>"
            ]
          },
          "metadata": {
            "tags": []
          },
          "execution_count": 55
        },
        {
          "output_type": "stream",
          "text": [
            "Error in callback <function flush_figures at 0x7f7ac0419440> (for post_execute):\n"
          ],
          "name": "stdout"
        },
        {
          "output_type": "error",
          "ename": "KeyboardInterrupt",
          "evalue": "ignored",
          "traceback": [
            "\u001b[0;31m---------------------------------------------------------------------------\u001b[0m",
            "\u001b[0;31mKeyboardInterrupt\u001b[0m                         Traceback (most recent call last)",
            "\u001b[0;32m/usr/local/lib/python3.7/dist-packages/ipykernel/pylab/backend_inline.py\u001b[0m in \u001b[0;36mflush_figures\u001b[0;34m()\u001b[0m\n\u001b[1;32m    115\u001b[0m         \u001b[0;31m# ignore the tracking, just draw and close all figures\u001b[0m\u001b[0;34m\u001b[0m\u001b[0;34m\u001b[0m\u001b[0;34m\u001b[0m\u001b[0m\n\u001b[1;32m    116\u001b[0m         \u001b[0;32mtry\u001b[0m\u001b[0;34m:\u001b[0m\u001b[0;34m\u001b[0m\u001b[0;34m\u001b[0m\u001b[0m\n\u001b[0;32m--> 117\u001b[0;31m             \u001b[0;32mreturn\u001b[0m \u001b[0mshow\u001b[0m\u001b[0;34m(\u001b[0m\u001b[0;32mTrue\u001b[0m\u001b[0;34m)\u001b[0m\u001b[0;34m\u001b[0m\u001b[0;34m\u001b[0m\u001b[0m\n\u001b[0m\u001b[1;32m    118\u001b[0m         \u001b[0;32mexcept\u001b[0m \u001b[0mException\u001b[0m \u001b[0;32mas\u001b[0m \u001b[0me\u001b[0m\u001b[0;34m:\u001b[0m\u001b[0;34m\u001b[0m\u001b[0;34m\u001b[0m\u001b[0m\n\u001b[1;32m    119\u001b[0m             \u001b[0;31m# safely show traceback if in IPython, else raise\u001b[0m\u001b[0;34m\u001b[0m\u001b[0;34m\u001b[0m\u001b[0;34m\u001b[0m\u001b[0m\n",
            "\u001b[0;32m/usr/local/lib/python3.7/dist-packages/ipykernel/pylab/backend_inline.py\u001b[0m in \u001b[0;36mshow\u001b[0;34m(close, block)\u001b[0m\n\u001b[1;32m     37\u001b[0m             display(\n\u001b[1;32m     38\u001b[0m                 \u001b[0mfigure_manager\u001b[0m\u001b[0;34m.\u001b[0m\u001b[0mcanvas\u001b[0m\u001b[0;34m.\u001b[0m\u001b[0mfigure\u001b[0m\u001b[0;34m,\u001b[0m\u001b[0;34m\u001b[0m\u001b[0;34m\u001b[0m\u001b[0m\n\u001b[0;32m---> 39\u001b[0;31m                 \u001b[0mmetadata\u001b[0m\u001b[0;34m=\u001b[0m\u001b[0m_fetch_figure_metadata\u001b[0m\u001b[0;34m(\u001b[0m\u001b[0mfigure_manager\u001b[0m\u001b[0;34m.\u001b[0m\u001b[0mcanvas\u001b[0m\u001b[0;34m.\u001b[0m\u001b[0mfigure\u001b[0m\u001b[0;34m)\u001b[0m\u001b[0;34m\u001b[0m\u001b[0;34m\u001b[0m\u001b[0m\n\u001b[0m\u001b[1;32m     40\u001b[0m             )\n\u001b[1;32m     41\u001b[0m     \u001b[0;32mfinally\u001b[0m\u001b[0;34m:\u001b[0m\u001b[0;34m\u001b[0m\u001b[0;34m\u001b[0m\u001b[0m\n",
            "\u001b[0;32m/usr/local/lib/python3.7/dist-packages/IPython/core/display.py\u001b[0m in \u001b[0;36mdisplay\u001b[0;34m(*objs, **kwargs)\u001b[0m\n\u001b[1;32m    304\u001b[0m             \u001b[0mpublish_display_data\u001b[0m\u001b[0;34m(\u001b[0m\u001b[0mdata\u001b[0m\u001b[0;34m=\u001b[0m\u001b[0mobj\u001b[0m\u001b[0;34m,\u001b[0m \u001b[0mmetadata\u001b[0m\u001b[0;34m=\u001b[0m\u001b[0mmetadata\u001b[0m\u001b[0;34m,\u001b[0m \u001b[0;34m**\u001b[0m\u001b[0mkwargs\u001b[0m\u001b[0;34m)\u001b[0m\u001b[0;34m\u001b[0m\u001b[0;34m\u001b[0m\u001b[0m\n\u001b[1;32m    305\u001b[0m         \u001b[0;32melse\u001b[0m\u001b[0;34m:\u001b[0m\u001b[0;34m\u001b[0m\u001b[0;34m\u001b[0m\u001b[0m\n\u001b[0;32m--> 306\u001b[0;31m             \u001b[0mformat_dict\u001b[0m\u001b[0;34m,\u001b[0m \u001b[0mmd_dict\u001b[0m \u001b[0;34m=\u001b[0m \u001b[0mformat\u001b[0m\u001b[0;34m(\u001b[0m\u001b[0mobj\u001b[0m\u001b[0;34m,\u001b[0m \u001b[0minclude\u001b[0m\u001b[0;34m=\u001b[0m\u001b[0minclude\u001b[0m\u001b[0;34m,\u001b[0m \u001b[0mexclude\u001b[0m\u001b[0;34m=\u001b[0m\u001b[0mexclude\u001b[0m\u001b[0;34m)\u001b[0m\u001b[0;34m\u001b[0m\u001b[0;34m\u001b[0m\u001b[0m\n\u001b[0m\u001b[1;32m    307\u001b[0m             \u001b[0;32mif\u001b[0m \u001b[0;32mnot\u001b[0m \u001b[0mformat_dict\u001b[0m\u001b[0;34m:\u001b[0m\u001b[0;34m\u001b[0m\u001b[0;34m\u001b[0m\u001b[0m\n\u001b[1;32m    308\u001b[0m                 \u001b[0;31m# nothing to display (e.g. _ipython_display_ took over)\u001b[0m\u001b[0;34m\u001b[0m\u001b[0;34m\u001b[0m\u001b[0;34m\u001b[0m\u001b[0m\n",
            "\u001b[0;32m/usr/local/lib/python3.7/dist-packages/IPython/core/formatters.py\u001b[0m in \u001b[0;36mformat\u001b[0;34m(self, obj, include, exclude)\u001b[0m\n\u001b[1;32m    171\u001b[0m             \u001b[0mmd\u001b[0m \u001b[0;34m=\u001b[0m \u001b[0;32mNone\u001b[0m\u001b[0;34m\u001b[0m\u001b[0;34m\u001b[0m\u001b[0m\n\u001b[1;32m    172\u001b[0m             \u001b[0;32mtry\u001b[0m\u001b[0;34m:\u001b[0m\u001b[0;34m\u001b[0m\u001b[0;34m\u001b[0m\u001b[0m\n\u001b[0;32m--> 173\u001b[0;31m                 \u001b[0mdata\u001b[0m \u001b[0;34m=\u001b[0m \u001b[0mformatter\u001b[0m\u001b[0;34m(\u001b[0m\u001b[0mobj\u001b[0m\u001b[0;34m)\u001b[0m\u001b[0;34m\u001b[0m\u001b[0;34m\u001b[0m\u001b[0m\n\u001b[0m\u001b[1;32m    174\u001b[0m             \u001b[0;32mexcept\u001b[0m\u001b[0;34m:\u001b[0m\u001b[0;34m\u001b[0m\u001b[0;34m\u001b[0m\u001b[0m\n\u001b[1;32m    175\u001b[0m                 \u001b[0;31m# FIXME: log the exception\u001b[0m\u001b[0;34m\u001b[0m\u001b[0;34m\u001b[0m\u001b[0;34m\u001b[0m\u001b[0m\n",
            "\u001b[0;32m<decorator-gen-2>\u001b[0m in \u001b[0;36m__call__\u001b[0;34m(self, obj)\u001b[0m\n",
            "\u001b[0;32m/usr/local/lib/python3.7/dist-packages/IPython/core/formatters.py\u001b[0m in \u001b[0;36mcatch_format_error\u001b[0;34m(method, self, *args, **kwargs)\u001b[0m\n\u001b[1;32m    215\u001b[0m     \u001b[0;34m\"\"\"show traceback on failed format call\"\"\"\u001b[0m\u001b[0;34m\u001b[0m\u001b[0;34m\u001b[0m\u001b[0m\n\u001b[1;32m    216\u001b[0m     \u001b[0;32mtry\u001b[0m\u001b[0;34m:\u001b[0m\u001b[0;34m\u001b[0m\u001b[0;34m\u001b[0m\u001b[0m\n\u001b[0;32m--> 217\u001b[0;31m         \u001b[0mr\u001b[0m \u001b[0;34m=\u001b[0m \u001b[0mmethod\u001b[0m\u001b[0;34m(\u001b[0m\u001b[0mself\u001b[0m\u001b[0;34m,\u001b[0m \u001b[0;34m*\u001b[0m\u001b[0margs\u001b[0m\u001b[0;34m,\u001b[0m \u001b[0;34m**\u001b[0m\u001b[0mkwargs\u001b[0m\u001b[0;34m)\u001b[0m\u001b[0;34m\u001b[0m\u001b[0;34m\u001b[0m\u001b[0m\n\u001b[0m\u001b[1;32m    218\u001b[0m     \u001b[0;32mexcept\u001b[0m \u001b[0mNotImplementedError\u001b[0m\u001b[0;34m:\u001b[0m\u001b[0;34m\u001b[0m\u001b[0;34m\u001b[0m\u001b[0m\n\u001b[1;32m    219\u001b[0m         \u001b[0;31m# don't warn on NotImplementedErrors\u001b[0m\u001b[0;34m\u001b[0m\u001b[0;34m\u001b[0m\u001b[0;34m\u001b[0m\u001b[0m\n",
            "\u001b[0;32m/usr/local/lib/python3.7/dist-packages/IPython/core/formatters.py\u001b[0m in \u001b[0;36m__call__\u001b[0;34m(self, obj)\u001b[0m\n\u001b[1;32m    332\u001b[0m                 \u001b[0;32mpass\u001b[0m\u001b[0;34m\u001b[0m\u001b[0;34m\u001b[0m\u001b[0m\n\u001b[1;32m    333\u001b[0m             \u001b[0;32melse\u001b[0m\u001b[0;34m:\u001b[0m\u001b[0;34m\u001b[0m\u001b[0;34m\u001b[0m\u001b[0m\n\u001b[0;32m--> 334\u001b[0;31m                 \u001b[0;32mreturn\u001b[0m \u001b[0mprinter\u001b[0m\u001b[0;34m(\u001b[0m\u001b[0mobj\u001b[0m\u001b[0;34m)\u001b[0m\u001b[0;34m\u001b[0m\u001b[0;34m\u001b[0m\u001b[0m\n\u001b[0m\u001b[1;32m    335\u001b[0m             \u001b[0;31m# Finally look for special method names\u001b[0m\u001b[0;34m\u001b[0m\u001b[0;34m\u001b[0m\u001b[0;34m\u001b[0m\u001b[0m\n\u001b[1;32m    336\u001b[0m             \u001b[0mmethod\u001b[0m \u001b[0;34m=\u001b[0m \u001b[0mget_real_method\u001b[0m\u001b[0;34m(\u001b[0m\u001b[0mobj\u001b[0m\u001b[0;34m,\u001b[0m \u001b[0mself\u001b[0m\u001b[0;34m.\u001b[0m\u001b[0mprint_method\u001b[0m\u001b[0;34m)\u001b[0m\u001b[0;34m\u001b[0m\u001b[0;34m\u001b[0m\u001b[0m\n",
            "\u001b[0;32m/usr/local/lib/python3.7/dist-packages/IPython/core/pylabtools.py\u001b[0m in \u001b[0;36m<lambda>\u001b[0;34m(fig)\u001b[0m\n\u001b[1;32m    239\u001b[0m \u001b[0;34m\u001b[0m\u001b[0m\n\u001b[1;32m    240\u001b[0m     \u001b[0;32mif\u001b[0m \u001b[0;34m'png'\u001b[0m \u001b[0;32min\u001b[0m \u001b[0mformats\u001b[0m\u001b[0;34m:\u001b[0m\u001b[0;34m\u001b[0m\u001b[0;34m\u001b[0m\u001b[0m\n\u001b[0;32m--> 241\u001b[0;31m         \u001b[0mpng_formatter\u001b[0m\u001b[0;34m.\u001b[0m\u001b[0mfor_type\u001b[0m\u001b[0;34m(\u001b[0m\u001b[0mFigure\u001b[0m\u001b[0;34m,\u001b[0m \u001b[0;32mlambda\u001b[0m \u001b[0mfig\u001b[0m\u001b[0;34m:\u001b[0m \u001b[0mprint_figure\u001b[0m\u001b[0;34m(\u001b[0m\u001b[0mfig\u001b[0m\u001b[0;34m,\u001b[0m \u001b[0;34m'png'\u001b[0m\u001b[0;34m,\u001b[0m \u001b[0;34m**\u001b[0m\u001b[0mkwargs\u001b[0m\u001b[0;34m)\u001b[0m\u001b[0;34m)\u001b[0m\u001b[0;34m\u001b[0m\u001b[0;34m\u001b[0m\u001b[0m\n\u001b[0m\u001b[1;32m    242\u001b[0m     \u001b[0;32mif\u001b[0m \u001b[0;34m'retina'\u001b[0m \u001b[0;32min\u001b[0m \u001b[0mformats\u001b[0m \u001b[0;32mor\u001b[0m \u001b[0;34m'png2x'\u001b[0m \u001b[0;32min\u001b[0m \u001b[0mformats\u001b[0m\u001b[0;34m:\u001b[0m\u001b[0;34m\u001b[0m\u001b[0;34m\u001b[0m\u001b[0m\n\u001b[1;32m    243\u001b[0m         \u001b[0mpng_formatter\u001b[0m\u001b[0;34m.\u001b[0m\u001b[0mfor_type\u001b[0m\u001b[0;34m(\u001b[0m\u001b[0mFigure\u001b[0m\u001b[0;34m,\u001b[0m \u001b[0;32mlambda\u001b[0m \u001b[0mfig\u001b[0m\u001b[0;34m:\u001b[0m \u001b[0mretina_figure\u001b[0m\u001b[0;34m(\u001b[0m\u001b[0mfig\u001b[0m\u001b[0;34m,\u001b[0m \u001b[0;34m**\u001b[0m\u001b[0mkwargs\u001b[0m\u001b[0;34m)\u001b[0m\u001b[0;34m)\u001b[0m\u001b[0;34m\u001b[0m\u001b[0;34m\u001b[0m\u001b[0m\n",
            "\u001b[0;32m/usr/local/lib/python3.7/dist-packages/IPython/core/pylabtools.py\u001b[0m in \u001b[0;36mprint_figure\u001b[0;34m(fig, fmt, bbox_inches, **kwargs)\u001b[0m\n\u001b[1;32m    123\u001b[0m \u001b[0;34m\u001b[0m\u001b[0m\n\u001b[1;32m    124\u001b[0m     \u001b[0mbytes_io\u001b[0m \u001b[0;34m=\u001b[0m \u001b[0mBytesIO\u001b[0m\u001b[0;34m(\u001b[0m\u001b[0;34m)\u001b[0m\u001b[0;34m\u001b[0m\u001b[0;34m\u001b[0m\u001b[0m\n\u001b[0;32m--> 125\u001b[0;31m     \u001b[0mfig\u001b[0m\u001b[0;34m.\u001b[0m\u001b[0mcanvas\u001b[0m\u001b[0;34m.\u001b[0m\u001b[0mprint_figure\u001b[0m\u001b[0;34m(\u001b[0m\u001b[0mbytes_io\u001b[0m\u001b[0;34m,\u001b[0m \u001b[0;34m**\u001b[0m\u001b[0mkw\u001b[0m\u001b[0;34m)\u001b[0m\u001b[0;34m\u001b[0m\u001b[0;34m\u001b[0m\u001b[0m\n\u001b[0m\u001b[1;32m    126\u001b[0m     \u001b[0mdata\u001b[0m \u001b[0;34m=\u001b[0m \u001b[0mbytes_io\u001b[0m\u001b[0;34m.\u001b[0m\u001b[0mgetvalue\u001b[0m\u001b[0;34m(\u001b[0m\u001b[0;34m)\u001b[0m\u001b[0;34m\u001b[0m\u001b[0;34m\u001b[0m\u001b[0m\n\u001b[1;32m    127\u001b[0m     \u001b[0;32mif\u001b[0m \u001b[0mfmt\u001b[0m \u001b[0;34m==\u001b[0m \u001b[0;34m'svg'\u001b[0m\u001b[0;34m:\u001b[0m\u001b[0;34m\u001b[0m\u001b[0;34m\u001b[0m\u001b[0m\n",
            "\u001b[0;32m/usr/local/lib/python3.7/dist-packages/matplotlib/backend_bases.py\u001b[0m in \u001b[0;36mprint_figure\u001b[0;34m(self, filename, dpi, facecolor, edgecolor, orientation, format, bbox_inches, **kwargs)\u001b[0m\n\u001b[1;32m   2124\u001b[0m                     \u001b[0morientation\u001b[0m\u001b[0;34m=\u001b[0m\u001b[0morientation\u001b[0m\u001b[0;34m,\u001b[0m\u001b[0;34m\u001b[0m\u001b[0;34m\u001b[0m\u001b[0m\n\u001b[1;32m   2125\u001b[0m                     \u001b[0mbbox_inches_restore\u001b[0m\u001b[0;34m=\u001b[0m\u001b[0m_bbox_inches_restore\u001b[0m\u001b[0;34m,\u001b[0m\u001b[0;34m\u001b[0m\u001b[0;34m\u001b[0m\u001b[0m\n\u001b[0;32m-> 2126\u001b[0;31m                     **kwargs)\n\u001b[0m\u001b[1;32m   2127\u001b[0m             \u001b[0;32mfinally\u001b[0m\u001b[0;34m:\u001b[0m\u001b[0;34m\u001b[0m\u001b[0;34m\u001b[0m\u001b[0m\n\u001b[1;32m   2128\u001b[0m                 \u001b[0;32mif\u001b[0m \u001b[0mbbox_inches\u001b[0m \u001b[0;32mand\u001b[0m \u001b[0mrestore_bbox\u001b[0m\u001b[0;34m:\u001b[0m\u001b[0;34m\u001b[0m\u001b[0;34m\u001b[0m\u001b[0m\n",
            "\u001b[0;32m/usr/local/lib/python3.7/dist-packages/matplotlib/backends/backend_agg.py\u001b[0m in \u001b[0;36mprint_png\u001b[0;34m(self, filename_or_obj, metadata, pil_kwargs, *args, **kwargs)\u001b[0m\n\u001b[1;32m    512\u001b[0m         }\n\u001b[1;32m    513\u001b[0m \u001b[0;34m\u001b[0m\u001b[0m\n\u001b[0;32m--> 514\u001b[0;31m         \u001b[0mFigureCanvasAgg\u001b[0m\u001b[0;34m.\u001b[0m\u001b[0mdraw\u001b[0m\u001b[0;34m(\u001b[0m\u001b[0mself\u001b[0m\u001b[0;34m)\u001b[0m\u001b[0;34m\u001b[0m\u001b[0;34m\u001b[0m\u001b[0m\n\u001b[0m\u001b[1;32m    515\u001b[0m         \u001b[0;32mif\u001b[0m \u001b[0mpil_kwargs\u001b[0m \u001b[0;32mis\u001b[0m \u001b[0;32mnot\u001b[0m \u001b[0;32mNone\u001b[0m\u001b[0;34m:\u001b[0m\u001b[0;34m\u001b[0m\u001b[0;34m\u001b[0m\u001b[0m\n\u001b[1;32m    516\u001b[0m             \u001b[0;32mfrom\u001b[0m \u001b[0mPIL\u001b[0m \u001b[0;32mimport\u001b[0m \u001b[0mImage\u001b[0m\u001b[0;34m\u001b[0m\u001b[0;34m\u001b[0m\u001b[0m\n",
            "\u001b[0;32m/usr/local/lib/python3.7/dist-packages/matplotlib/backends/backend_agg.py\u001b[0m in \u001b[0;36mdraw\u001b[0;34m(self)\u001b[0m\n\u001b[1;32m    391\u001b[0m              (self.toolbar._wait_cursor_for_draw_cm() if self.toolbar\n\u001b[1;32m    392\u001b[0m               else nullcontext()):\n\u001b[0;32m--> 393\u001b[0;31m             \u001b[0mself\u001b[0m\u001b[0;34m.\u001b[0m\u001b[0mfigure\u001b[0m\u001b[0;34m.\u001b[0m\u001b[0mdraw\u001b[0m\u001b[0;34m(\u001b[0m\u001b[0mself\u001b[0m\u001b[0;34m.\u001b[0m\u001b[0mrenderer\u001b[0m\u001b[0;34m)\u001b[0m\u001b[0;34m\u001b[0m\u001b[0;34m\u001b[0m\u001b[0m\n\u001b[0m\u001b[1;32m    394\u001b[0m             \u001b[0;31m# A GUI class may be need to update a window using this draw, so\u001b[0m\u001b[0;34m\u001b[0m\u001b[0;34m\u001b[0m\u001b[0;34m\u001b[0m\u001b[0m\n\u001b[1;32m    395\u001b[0m             \u001b[0;31m# don't forget to call the superclass.\u001b[0m\u001b[0;34m\u001b[0m\u001b[0;34m\u001b[0m\u001b[0;34m\u001b[0m\u001b[0m\n",
            "\u001b[0;32m/usr/local/lib/python3.7/dist-packages/matplotlib/artist.py\u001b[0m in \u001b[0;36mdraw_wrapper\u001b[0;34m(artist, renderer, *args, **kwargs)\u001b[0m\n\u001b[1;32m     36\u001b[0m                 \u001b[0mrenderer\u001b[0m\u001b[0;34m.\u001b[0m\u001b[0mstart_filter\u001b[0m\u001b[0;34m(\u001b[0m\u001b[0;34m)\u001b[0m\u001b[0;34m\u001b[0m\u001b[0;34m\u001b[0m\u001b[0m\n\u001b[1;32m     37\u001b[0m \u001b[0;34m\u001b[0m\u001b[0m\n\u001b[0;32m---> 38\u001b[0;31m             \u001b[0;32mreturn\u001b[0m \u001b[0mdraw\u001b[0m\u001b[0;34m(\u001b[0m\u001b[0martist\u001b[0m\u001b[0;34m,\u001b[0m \u001b[0mrenderer\u001b[0m\u001b[0;34m,\u001b[0m \u001b[0;34m*\u001b[0m\u001b[0margs\u001b[0m\u001b[0;34m,\u001b[0m \u001b[0;34m**\u001b[0m\u001b[0mkwargs\u001b[0m\u001b[0;34m)\u001b[0m\u001b[0;34m\u001b[0m\u001b[0;34m\u001b[0m\u001b[0m\n\u001b[0m\u001b[1;32m     39\u001b[0m         \u001b[0;32mfinally\u001b[0m\u001b[0;34m:\u001b[0m\u001b[0;34m\u001b[0m\u001b[0;34m\u001b[0m\u001b[0m\n\u001b[1;32m     40\u001b[0m             \u001b[0;32mif\u001b[0m \u001b[0martist\u001b[0m\u001b[0;34m.\u001b[0m\u001b[0mget_agg_filter\u001b[0m\u001b[0;34m(\u001b[0m\u001b[0;34m)\u001b[0m \u001b[0;32mis\u001b[0m \u001b[0;32mnot\u001b[0m \u001b[0;32mNone\u001b[0m\u001b[0;34m:\u001b[0m\u001b[0;34m\u001b[0m\u001b[0;34m\u001b[0m\u001b[0m\n",
            "\u001b[0;32m/usr/local/lib/python3.7/dist-packages/matplotlib/figure.py\u001b[0m in \u001b[0;36mdraw\u001b[0;34m(self, renderer)\u001b[0m\n\u001b[1;32m   1734\u001b[0m             \u001b[0mself\u001b[0m\u001b[0;34m.\u001b[0m\u001b[0mpatch\u001b[0m\u001b[0;34m.\u001b[0m\u001b[0mdraw\u001b[0m\u001b[0;34m(\u001b[0m\u001b[0mrenderer\u001b[0m\u001b[0;34m)\u001b[0m\u001b[0;34m\u001b[0m\u001b[0;34m\u001b[0m\u001b[0m\n\u001b[1;32m   1735\u001b[0m             mimage._draw_list_compositing_images(\n\u001b[0;32m-> 1736\u001b[0;31m                 renderer, self, artists, self.suppressComposite)\n\u001b[0m\u001b[1;32m   1737\u001b[0m \u001b[0;34m\u001b[0m\u001b[0m\n\u001b[1;32m   1738\u001b[0m             \u001b[0mrenderer\u001b[0m\u001b[0;34m.\u001b[0m\u001b[0mclose_group\u001b[0m\u001b[0;34m(\u001b[0m\u001b[0;34m'figure'\u001b[0m\u001b[0;34m)\u001b[0m\u001b[0;34m\u001b[0m\u001b[0;34m\u001b[0m\u001b[0m\n",
            "\u001b[0;32m/usr/local/lib/python3.7/dist-packages/matplotlib/image.py\u001b[0m in \u001b[0;36m_draw_list_compositing_images\u001b[0;34m(renderer, parent, artists, suppress_composite)\u001b[0m\n\u001b[1;32m    135\u001b[0m     \u001b[0;32mif\u001b[0m \u001b[0mnot_composite\u001b[0m \u001b[0;32mor\u001b[0m \u001b[0;32mnot\u001b[0m \u001b[0mhas_images\u001b[0m\u001b[0;34m:\u001b[0m\u001b[0;34m\u001b[0m\u001b[0;34m\u001b[0m\u001b[0m\n\u001b[1;32m    136\u001b[0m         \u001b[0;32mfor\u001b[0m \u001b[0ma\u001b[0m \u001b[0;32min\u001b[0m \u001b[0martists\u001b[0m\u001b[0;34m:\u001b[0m\u001b[0;34m\u001b[0m\u001b[0;34m\u001b[0m\u001b[0m\n\u001b[0;32m--> 137\u001b[0;31m             \u001b[0ma\u001b[0m\u001b[0;34m.\u001b[0m\u001b[0mdraw\u001b[0m\u001b[0;34m(\u001b[0m\u001b[0mrenderer\u001b[0m\u001b[0;34m)\u001b[0m\u001b[0;34m\u001b[0m\u001b[0;34m\u001b[0m\u001b[0m\n\u001b[0m\u001b[1;32m    138\u001b[0m     \u001b[0;32melse\u001b[0m\u001b[0;34m:\u001b[0m\u001b[0;34m\u001b[0m\u001b[0;34m\u001b[0m\u001b[0m\n\u001b[1;32m    139\u001b[0m         \u001b[0;31m# Composite any adjacent images together\u001b[0m\u001b[0;34m\u001b[0m\u001b[0;34m\u001b[0m\u001b[0;34m\u001b[0m\u001b[0m\n",
            "\u001b[0;32m/usr/local/lib/python3.7/dist-packages/matplotlib/artist.py\u001b[0m in \u001b[0;36mdraw_wrapper\u001b[0;34m(artist, renderer, *args, **kwargs)\u001b[0m\n\u001b[1;32m     36\u001b[0m                 \u001b[0mrenderer\u001b[0m\u001b[0;34m.\u001b[0m\u001b[0mstart_filter\u001b[0m\u001b[0;34m(\u001b[0m\u001b[0;34m)\u001b[0m\u001b[0;34m\u001b[0m\u001b[0;34m\u001b[0m\u001b[0m\n\u001b[1;32m     37\u001b[0m \u001b[0;34m\u001b[0m\u001b[0m\n\u001b[0;32m---> 38\u001b[0;31m             \u001b[0;32mreturn\u001b[0m \u001b[0mdraw\u001b[0m\u001b[0;34m(\u001b[0m\u001b[0martist\u001b[0m\u001b[0;34m,\u001b[0m \u001b[0mrenderer\u001b[0m\u001b[0;34m,\u001b[0m \u001b[0;34m*\u001b[0m\u001b[0margs\u001b[0m\u001b[0;34m,\u001b[0m \u001b[0;34m**\u001b[0m\u001b[0mkwargs\u001b[0m\u001b[0;34m)\u001b[0m\u001b[0;34m\u001b[0m\u001b[0;34m\u001b[0m\u001b[0m\n\u001b[0m\u001b[1;32m     39\u001b[0m         \u001b[0;32mfinally\u001b[0m\u001b[0;34m:\u001b[0m\u001b[0;34m\u001b[0m\u001b[0;34m\u001b[0m\u001b[0m\n\u001b[1;32m     40\u001b[0m             \u001b[0;32mif\u001b[0m \u001b[0martist\u001b[0m\u001b[0;34m.\u001b[0m\u001b[0mget_agg_filter\u001b[0m\u001b[0;34m(\u001b[0m\u001b[0;34m)\u001b[0m \u001b[0;32mis\u001b[0m \u001b[0;32mnot\u001b[0m \u001b[0;32mNone\u001b[0m\u001b[0;34m:\u001b[0m\u001b[0;34m\u001b[0m\u001b[0;34m\u001b[0m\u001b[0m\n",
            "\u001b[0;32m/usr/local/lib/python3.7/dist-packages/matplotlib/axes/_base.py\u001b[0m in \u001b[0;36mdraw\u001b[0;34m(self, renderer, inframe)\u001b[0m\n\u001b[1;32m   2628\u001b[0m             \u001b[0mrenderer\u001b[0m\u001b[0;34m.\u001b[0m\u001b[0mstop_rasterizing\u001b[0m\u001b[0;34m(\u001b[0m\u001b[0;34m)\u001b[0m\u001b[0;34m\u001b[0m\u001b[0;34m\u001b[0m\u001b[0m\n\u001b[1;32m   2629\u001b[0m \u001b[0;34m\u001b[0m\u001b[0m\n\u001b[0;32m-> 2630\u001b[0;31m         \u001b[0mmimage\u001b[0m\u001b[0;34m.\u001b[0m\u001b[0m_draw_list_compositing_images\u001b[0m\u001b[0;34m(\u001b[0m\u001b[0mrenderer\u001b[0m\u001b[0;34m,\u001b[0m \u001b[0mself\u001b[0m\u001b[0;34m,\u001b[0m \u001b[0martists\u001b[0m\u001b[0;34m)\u001b[0m\u001b[0;34m\u001b[0m\u001b[0;34m\u001b[0m\u001b[0m\n\u001b[0m\u001b[1;32m   2631\u001b[0m \u001b[0;34m\u001b[0m\u001b[0m\n\u001b[1;32m   2632\u001b[0m         \u001b[0mrenderer\u001b[0m\u001b[0;34m.\u001b[0m\u001b[0mclose_group\u001b[0m\u001b[0;34m(\u001b[0m\u001b[0;34m'axes'\u001b[0m\u001b[0;34m)\u001b[0m\u001b[0;34m\u001b[0m\u001b[0;34m\u001b[0m\u001b[0m\n",
            "\u001b[0;32m/usr/local/lib/python3.7/dist-packages/matplotlib/image.py\u001b[0m in \u001b[0;36m_draw_list_compositing_images\u001b[0;34m(renderer, parent, artists, suppress_composite)\u001b[0m\n\u001b[1;32m    135\u001b[0m     \u001b[0;32mif\u001b[0m \u001b[0mnot_composite\u001b[0m \u001b[0;32mor\u001b[0m \u001b[0;32mnot\u001b[0m \u001b[0mhas_images\u001b[0m\u001b[0;34m:\u001b[0m\u001b[0;34m\u001b[0m\u001b[0;34m\u001b[0m\u001b[0m\n\u001b[1;32m    136\u001b[0m         \u001b[0;32mfor\u001b[0m \u001b[0ma\u001b[0m \u001b[0;32min\u001b[0m \u001b[0martists\u001b[0m\u001b[0;34m:\u001b[0m\u001b[0;34m\u001b[0m\u001b[0;34m\u001b[0m\u001b[0m\n\u001b[0;32m--> 137\u001b[0;31m             \u001b[0ma\u001b[0m\u001b[0;34m.\u001b[0m\u001b[0mdraw\u001b[0m\u001b[0;34m(\u001b[0m\u001b[0mrenderer\u001b[0m\u001b[0;34m)\u001b[0m\u001b[0;34m\u001b[0m\u001b[0;34m\u001b[0m\u001b[0m\n\u001b[0m\u001b[1;32m    138\u001b[0m     \u001b[0;32melse\u001b[0m\u001b[0;34m:\u001b[0m\u001b[0;34m\u001b[0m\u001b[0;34m\u001b[0m\u001b[0m\n\u001b[1;32m    139\u001b[0m         \u001b[0;31m# Composite any adjacent images together\u001b[0m\u001b[0;34m\u001b[0m\u001b[0;34m\u001b[0m\u001b[0;34m\u001b[0m\u001b[0m\n",
            "\u001b[0;32m/usr/local/lib/python3.7/dist-packages/matplotlib/artist.py\u001b[0m in \u001b[0;36mdraw_wrapper\u001b[0;34m(artist, renderer, *args, **kwargs)\u001b[0m\n\u001b[1;32m     36\u001b[0m                 \u001b[0mrenderer\u001b[0m\u001b[0;34m.\u001b[0m\u001b[0mstart_filter\u001b[0m\u001b[0;34m(\u001b[0m\u001b[0;34m)\u001b[0m\u001b[0;34m\u001b[0m\u001b[0;34m\u001b[0m\u001b[0m\n\u001b[1;32m     37\u001b[0m \u001b[0;34m\u001b[0m\u001b[0m\n\u001b[0;32m---> 38\u001b[0;31m             \u001b[0;32mreturn\u001b[0m \u001b[0mdraw\u001b[0m\u001b[0;34m(\u001b[0m\u001b[0martist\u001b[0m\u001b[0;34m,\u001b[0m \u001b[0mrenderer\u001b[0m\u001b[0;34m,\u001b[0m \u001b[0;34m*\u001b[0m\u001b[0margs\u001b[0m\u001b[0;34m,\u001b[0m \u001b[0;34m**\u001b[0m\u001b[0mkwargs\u001b[0m\u001b[0;34m)\u001b[0m\u001b[0;34m\u001b[0m\u001b[0;34m\u001b[0m\u001b[0m\n\u001b[0m\u001b[1;32m     39\u001b[0m         \u001b[0;32mfinally\u001b[0m\u001b[0;34m:\u001b[0m\u001b[0;34m\u001b[0m\u001b[0;34m\u001b[0m\u001b[0m\n\u001b[1;32m     40\u001b[0m             \u001b[0;32mif\u001b[0m \u001b[0martist\u001b[0m\u001b[0;34m.\u001b[0m\u001b[0mget_agg_filter\u001b[0m\u001b[0;34m(\u001b[0m\u001b[0;34m)\u001b[0m \u001b[0;32mis\u001b[0m \u001b[0;32mnot\u001b[0m \u001b[0;32mNone\u001b[0m\u001b[0;34m:\u001b[0m\u001b[0;34m\u001b[0m\u001b[0;34m\u001b[0m\u001b[0m\n",
            "\u001b[0;32m/usr/local/lib/python3.7/dist-packages/matplotlib/collections.py\u001b[0m in \u001b[0;36mdraw\u001b[0;34m(self, renderer)\u001b[0m\n\u001b[1;32m    892\u001b[0m     \u001b[0;32mdef\u001b[0m \u001b[0mdraw\u001b[0m\u001b[0;34m(\u001b[0m\u001b[0mself\u001b[0m\u001b[0;34m,\u001b[0m \u001b[0mrenderer\u001b[0m\u001b[0;34m)\u001b[0m\u001b[0;34m:\u001b[0m\u001b[0;34m\u001b[0m\u001b[0;34m\u001b[0m\u001b[0m\n\u001b[1;32m    893\u001b[0m         \u001b[0mself\u001b[0m\u001b[0;34m.\u001b[0m\u001b[0mset_sizes\u001b[0m\u001b[0;34m(\u001b[0m\u001b[0mself\u001b[0m\u001b[0;34m.\u001b[0m\u001b[0m_sizes\u001b[0m\u001b[0;34m,\u001b[0m \u001b[0mself\u001b[0m\u001b[0;34m.\u001b[0m\u001b[0mfigure\u001b[0m\u001b[0;34m.\u001b[0m\u001b[0mdpi\u001b[0m\u001b[0;34m)\u001b[0m\u001b[0;34m\u001b[0m\u001b[0;34m\u001b[0m\u001b[0m\n\u001b[0;32m--> 894\u001b[0;31m         \u001b[0mCollection\u001b[0m\u001b[0;34m.\u001b[0m\u001b[0mdraw\u001b[0m\u001b[0;34m(\u001b[0m\u001b[0mself\u001b[0m\u001b[0;34m,\u001b[0m \u001b[0mrenderer\u001b[0m\u001b[0;34m)\u001b[0m\u001b[0;34m\u001b[0m\u001b[0;34m\u001b[0m\u001b[0m\n\u001b[0m\u001b[1;32m    895\u001b[0m \u001b[0;34m\u001b[0m\u001b[0m\n\u001b[1;32m    896\u001b[0m \u001b[0;34m\u001b[0m\u001b[0m\n",
            "\u001b[0;32m/usr/local/lib/python3.7/dist-packages/matplotlib/artist.py\u001b[0m in \u001b[0;36mdraw_wrapper\u001b[0;34m(artist, renderer, *args, **kwargs)\u001b[0m\n\u001b[1;32m     36\u001b[0m                 \u001b[0mrenderer\u001b[0m\u001b[0;34m.\u001b[0m\u001b[0mstart_filter\u001b[0m\u001b[0;34m(\u001b[0m\u001b[0;34m)\u001b[0m\u001b[0;34m\u001b[0m\u001b[0;34m\u001b[0m\u001b[0m\n\u001b[1;32m     37\u001b[0m \u001b[0;34m\u001b[0m\u001b[0m\n\u001b[0;32m---> 38\u001b[0;31m             \u001b[0;32mreturn\u001b[0m \u001b[0mdraw\u001b[0m\u001b[0;34m(\u001b[0m\u001b[0martist\u001b[0m\u001b[0;34m,\u001b[0m \u001b[0mrenderer\u001b[0m\u001b[0;34m,\u001b[0m \u001b[0;34m*\u001b[0m\u001b[0margs\u001b[0m\u001b[0;34m,\u001b[0m \u001b[0;34m**\u001b[0m\u001b[0mkwargs\u001b[0m\u001b[0;34m)\u001b[0m\u001b[0;34m\u001b[0m\u001b[0;34m\u001b[0m\u001b[0m\n\u001b[0m\u001b[1;32m     39\u001b[0m         \u001b[0;32mfinally\u001b[0m\u001b[0;34m:\u001b[0m\u001b[0;34m\u001b[0m\u001b[0;34m\u001b[0m\u001b[0m\n\u001b[1;32m     40\u001b[0m             \u001b[0;32mif\u001b[0m \u001b[0martist\u001b[0m\u001b[0;34m.\u001b[0m\u001b[0mget_agg_filter\u001b[0m\u001b[0;34m(\u001b[0m\u001b[0;34m)\u001b[0m \u001b[0;32mis\u001b[0m \u001b[0;32mnot\u001b[0m \u001b[0;32mNone\u001b[0m\u001b[0;34m:\u001b[0m\u001b[0;34m\u001b[0m\u001b[0;34m\u001b[0m\u001b[0m\n",
            "\u001b[0;32m/usr/local/lib/python3.7/dist-packages/matplotlib/collections.py\u001b[0m in \u001b[0;36mdraw\u001b[0;34m(self, renderer)\u001b[0m\n\u001b[1;32m    367\u001b[0m                 \u001b[0mself\u001b[0m\u001b[0;34m.\u001b[0m\u001b[0m_linewidths\u001b[0m\u001b[0;34m,\u001b[0m \u001b[0mself\u001b[0m\u001b[0;34m.\u001b[0m\u001b[0m_linestyles\u001b[0m\u001b[0;34m,\u001b[0m\u001b[0;34m\u001b[0m\u001b[0;34m\u001b[0m\u001b[0m\n\u001b[1;32m    368\u001b[0m                 \u001b[0mself\u001b[0m\u001b[0;34m.\u001b[0m\u001b[0m_antialiaseds\u001b[0m\u001b[0;34m,\u001b[0m \u001b[0mself\u001b[0m\u001b[0;34m.\u001b[0m\u001b[0m_urls\u001b[0m\u001b[0;34m,\u001b[0m\u001b[0;34m\u001b[0m\u001b[0;34m\u001b[0m\u001b[0m\n\u001b[0;32m--> 369\u001b[0;31m                 self._offset_position)\n\u001b[0m\u001b[1;32m    370\u001b[0m \u001b[0;34m\u001b[0m\u001b[0m\n\u001b[1;32m    371\u001b[0m         \u001b[0mgc\u001b[0m\u001b[0;34m.\u001b[0m\u001b[0mrestore\u001b[0m\u001b[0;34m(\u001b[0m\u001b[0;34m)\u001b[0m\u001b[0;34m\u001b[0m\u001b[0;34m\u001b[0m\u001b[0m\n",
            "\u001b[0;32m/usr/local/lib/python3.7/dist-packages/matplotlib/path.py\u001b[0m in \u001b[0;36mvertices\u001b[0;34m(self)\u001b[0m\n\u001b[1;32m    195\u001b[0m         )\n\u001b[1;32m    196\u001b[0m \u001b[0;34m\u001b[0m\u001b[0m\n\u001b[0;32m--> 197\u001b[0;31m     \u001b[0;34m@\u001b[0m\u001b[0mproperty\u001b[0m\u001b[0;34m\u001b[0m\u001b[0;34m\u001b[0m\u001b[0m\n\u001b[0m\u001b[1;32m    198\u001b[0m     \u001b[0;32mdef\u001b[0m \u001b[0mvertices\u001b[0m\u001b[0;34m(\u001b[0m\u001b[0mself\u001b[0m\u001b[0;34m)\u001b[0m\u001b[0;34m:\u001b[0m\u001b[0;34m\u001b[0m\u001b[0;34m\u001b[0m\u001b[0m\n\u001b[1;32m    199\u001b[0m         \"\"\"\n",
            "\u001b[0;31mKeyboardInterrupt\u001b[0m: "
          ]
        }
      ]
    },
    {
      "cell_type": "code",
      "metadata": {
        "id": "E3qO3CvxO47Q"
      },
      "source": [
        "import folium"
      ],
      "execution_count": 56,
      "outputs": []
    },
    {
      "cell_type": "code",
      "metadata": {
        "colab": {
          "base_uri": "https://localhost:8080/"
        },
        "id": "EE0sEPKnO491",
        "outputId": "df4826d1-b182-48ee-b209-1c302d4186c4"
      },
      "source": [
        "Lat, lon= df.Start_Lat[0], df.Start_Lng[0]\n",
        "Lat, lon"
      ],
      "execution_count": 57,
      "outputs": [
        {
          "output_type": "execute_result",
          "data": {
            "text/plain": [
              "(34.808868, -82.26915699999998)"
            ]
          },
          "metadata": {
            "tags": []
          },
          "execution_count": 57
        }
      ]
    },
    {
      "cell_type": "code",
      "metadata": {
        "colab": {
          "base_uri": "https://localhost:8080/",
          "height": 394
        },
        "id": "xatgYs8YO5A9",
        "outputId": "aa8b8a13-dc5e-4b7b-fdab-1edefe17ecde"
      },
      "source": [
        "map = folium.Map()\n",
        "for lat, lon in df.\n",
        "marker= folium.Marker((Lat, lon))\n",
        "marker.add_to(map)\n",
        "map"
      ],
      "execution_count": 63,
      "outputs": [
        {
          "output_type": "execute_result",
          "data": {
            "text/html": [
              "<div style=\"width:100%;\"><div style=\"position:relative;width:100%;height:0;padding-bottom:60%;\"><span style=\"color:#565656\">Make this Notebook Trusted to load map: File -> Trust Notebook</span><iframe src=\"about:blank\" style=\"position:absolute;width:100%;height:100%;left:0;top:0;border:none !important;\" data-html=%3C%21DOCTYPE%20html%3E%0A%3Chead%3E%20%20%20%20%0A%20%20%20%20%3Cmeta%20http-equiv%3D%22content-type%22%20content%3D%22text/html%3B%20charset%3DUTF-8%22%20/%3E%0A%20%20%20%20%3Cscript%3EL_PREFER_CANVAS%3Dfalse%3B%20L_NO_TOUCH%3Dfalse%3B%20L_DISABLE_3D%3Dfalse%3B%3C/script%3E%0A%20%20%20%20%3Cscript%20src%3D%22https%3A//cdn.jsdelivr.net/npm/leaflet%401.4.0/dist/leaflet.js%22%3E%3C/script%3E%0A%20%20%20%20%3Cscript%20src%3D%22https%3A//code.jquery.com/jquery-1.12.4.min.js%22%3E%3C/script%3E%0A%20%20%20%20%3Cscript%20src%3D%22https%3A//maxcdn.bootstrapcdn.com/bootstrap/3.2.0/js/bootstrap.min.js%22%3E%3C/script%3E%0A%20%20%20%20%3Cscript%20src%3D%22https%3A//cdnjs.cloudflare.com/ajax/libs/Leaflet.awesome-markers/2.0.2/leaflet.awesome-markers.js%22%3E%3C/script%3E%0A%20%20%20%20%3Clink%20rel%3D%22stylesheet%22%20href%3D%22https%3A//cdn.jsdelivr.net/npm/leaflet%401.4.0/dist/leaflet.css%22/%3E%0A%20%20%20%20%3Clink%20rel%3D%22stylesheet%22%20href%3D%22https%3A//maxcdn.bootstrapcdn.com/bootstrap/3.2.0/css/bootstrap.min.css%22/%3E%0A%20%20%20%20%3Clink%20rel%3D%22stylesheet%22%20href%3D%22https%3A//maxcdn.bootstrapcdn.com/bootstrap/3.2.0/css/bootstrap-theme.min.css%22/%3E%0A%20%20%20%20%3Clink%20rel%3D%22stylesheet%22%20href%3D%22https%3A//maxcdn.bootstrapcdn.com/font-awesome/4.6.3/css/font-awesome.min.css%22/%3E%0A%20%20%20%20%3Clink%20rel%3D%22stylesheet%22%20href%3D%22https%3A//cdnjs.cloudflare.com/ajax/libs/Leaflet.awesome-markers/2.0.2/leaflet.awesome-markers.css%22/%3E%0A%20%20%20%20%3Clink%20rel%3D%22stylesheet%22%20href%3D%22https%3A//rawcdn.githack.com/python-visualization/folium/master/folium/templates/leaflet.awesome.rotate.css%22/%3E%0A%20%20%20%20%3Cstyle%3Ehtml%2C%20body%20%7Bwidth%3A%20100%25%3Bheight%3A%20100%25%3Bmargin%3A%200%3Bpadding%3A%200%3B%7D%3C/style%3E%0A%20%20%20%20%3Cstyle%3E%23map%20%7Bposition%3Aabsolute%3Btop%3A0%3Bbottom%3A0%3Bright%3A0%3Bleft%3A0%3B%7D%3C/style%3E%0A%20%20%20%20%0A%20%20%20%20%3Cmeta%20name%3D%22viewport%22%20content%3D%22width%3Ddevice-width%2C%0A%20%20%20%20%20%20%20%20initial-scale%3D1.0%2C%20maximum-scale%3D1.0%2C%20user-scalable%3Dno%22%20/%3E%0A%20%20%20%20%3Cstyle%3E%23map_21fd00a7f39d433890daf1df516b1b51%20%7B%0A%20%20%20%20%20%20%20%20position%3A%20relative%3B%0A%20%20%20%20%20%20%20%20width%3A%20100.0%25%3B%0A%20%20%20%20%20%20%20%20height%3A%20100.0%25%3B%0A%20%20%20%20%20%20%20%20left%3A%200.0%25%3B%0A%20%20%20%20%20%20%20%20top%3A%200.0%25%3B%0A%20%20%20%20%20%20%20%20%7D%0A%20%20%20%20%3C/style%3E%0A%3C/head%3E%0A%3Cbody%3E%20%20%20%20%0A%20%20%20%20%0A%20%20%20%20%3Cdiv%20class%3D%22folium-map%22%20id%3D%22map_21fd00a7f39d433890daf1df516b1b51%22%20%3E%3C/div%3E%0A%3C/body%3E%0A%3Cscript%3E%20%20%20%20%0A%20%20%20%20%0A%20%20%20%20%0A%20%20%20%20%20%20%20%20var%20bounds%20%3D%20null%3B%0A%20%20%20%20%0A%0A%20%20%20%20var%20map_21fd00a7f39d433890daf1df516b1b51%20%3D%20L.map%28%0A%20%20%20%20%20%20%20%20%27map_21fd00a7f39d433890daf1df516b1b51%27%2C%20%7B%0A%20%20%20%20%20%20%20%20center%3A%20%5B0%2C%200%5D%2C%0A%20%20%20%20%20%20%20%20zoom%3A%201%2C%0A%20%20%20%20%20%20%20%20maxBounds%3A%20bounds%2C%0A%20%20%20%20%20%20%20%20layers%3A%20%5B%5D%2C%0A%20%20%20%20%20%20%20%20worldCopyJump%3A%20false%2C%0A%20%20%20%20%20%20%20%20crs%3A%20L.CRS.EPSG3857%2C%0A%20%20%20%20%20%20%20%20zoomControl%3A%20true%2C%0A%20%20%20%20%20%20%20%20%7D%29%3B%0A%0A%0A%20%20%20%20%0A%20%20%20%20var%20tile_layer_2ef0a015517c40bcba37b076583038fe%20%3D%20L.tileLayer%28%0A%20%20%20%20%20%20%20%20%27https%3A//%7Bs%7D.tile.openstreetmap.org/%7Bz%7D/%7Bx%7D/%7By%7D.png%27%2C%0A%20%20%20%20%20%20%20%20%7B%0A%20%20%20%20%20%20%20%20%22attribution%22%3A%20null%2C%0A%20%20%20%20%20%20%20%20%22detectRetina%22%3A%20false%2C%0A%20%20%20%20%20%20%20%20%22maxNativeZoom%22%3A%2018%2C%0A%20%20%20%20%20%20%20%20%22maxZoom%22%3A%2018%2C%0A%20%20%20%20%20%20%20%20%22minZoom%22%3A%200%2C%0A%20%20%20%20%20%20%20%20%22noWrap%22%3A%20false%2C%0A%20%20%20%20%20%20%20%20%22opacity%22%3A%201%2C%0A%20%20%20%20%20%20%20%20%22subdomains%22%3A%20%22abc%22%2C%0A%20%20%20%20%20%20%20%20%22tms%22%3A%20false%0A%7D%29.addTo%28map_21fd00a7f39d433890daf1df516b1b51%29%3B%0A%20%20%20%20%0A%20%20%20%20%20%20%20%20var%20marker_7db33145de6f48f399819b48fb1f1513%20%3D%20L.marker%28%0A%20%20%20%20%20%20%20%20%20%20%20%20%5B34.808868%2C%20-82.26915699999998%5D%2C%0A%20%20%20%20%20%20%20%20%20%20%20%20%7B%0A%20%20%20%20%20%20%20%20%20%20%20%20%20%20%20%20icon%3A%20new%20L.Icon.Default%28%29%2C%0A%20%20%20%20%20%20%20%20%20%20%20%20%20%20%20%20%7D%0A%20%20%20%20%20%20%20%20%20%20%20%20%29.addTo%28map_21fd00a7f39d433890daf1df516b1b51%29%3B%0A%20%20%20%20%20%20%20%20%0A%3C/script%3E onload=\"this.contentDocument.open();this.contentDocument.write(    decodeURIComponent(this.getAttribute('data-html')));this.contentDocument.close();\" allowfullscreen webkitallowfullscreen mozallowfullscreen></iframe></div></div>"
            ],
            "text/plain": [
              "<folium.folium.Map at 0x7f7a3703f7d0>"
            ]
          },
          "metadata": {
            "tags": []
          },
          "execution_count": 63
        }
      ]
    },
    {
      "cell_type": "code",
      "metadata": {
        "id": "SmUw2G4HT578"
      },
      "source": [
        "sample_df=df.sample(int(0.001*len(df)))\n",
        "lat_lon_pairs=list(zip(list(sample_df.Start_Lat), list(sample_df.Start_Lng)))"
      ],
      "execution_count": 79,
      "outputs": []
    },
    {
      "cell_type": "code",
      "metadata": {
        "id": "K93k8lAMTuyf"
      },
      "source": [
        "from folium.plugins import HeatMap\n"
      ],
      "execution_count": 72,
      "outputs": []
    },
    {
      "cell_type": "code",
      "metadata": {
        "colab": {
          "base_uri": "https://localhost:8080/",
          "height": 763
        },
        "id": "DRJAZrMQU6-p",
        "outputId": "3df002b7-a2be-4439-b790-3f36a26f158d"
      },
      "source": [
        "map= folium.Map()\n",
        "HeatMap(lat_lon_pairs).add_to(map)\n",
        "map"
      ],
      "execution_count": 80,
      "outputs": [
        {
          "output_type": "execute_result",
          "data": {
            "text/html": [
              "<div style=\"width:100%;\"><div style=\"position:relative;width:100%;height:0;padding-bottom:60%;\"><span style=\"color:#565656\">Make this Notebook Trusted to load map: File -> Trust Notebook</span><iframe src=\"about:blank\" style=\"position:absolute;width:100%;height:100%;left:0;top:0;border:none !important;\" data-html=%3C%21DOCTYPE%20html%3E%0A%3Chead%3E%20%20%20%20%0A%20%20%20%20%3Cmeta%20http-equiv%3D%22content-type%22%20content%3D%22text/html%3B%20charset%3DUTF-8%22%20/%3E%0A%20%20%20%20%3Cscript%3EL_PREFER_CANVAS%3Dfalse%3B%20L_NO_TOUCH%3Dfalse%3B%20L_DISABLE_3D%3Dfalse%3B%3C/script%3E%0A%20%20%20%20%3Cscript%20src%3D%22https%3A//cdn.jsdelivr.net/npm/leaflet%401.4.0/dist/leaflet.js%22%3E%3C/script%3E%0A%20%20%20%20%3Cscript%20src%3D%22https%3A//code.jquery.com/jquery-1.12.4.min.js%22%3E%3C/script%3E%0A%20%20%20%20%3Cscript%20src%3D%22https%3A//maxcdn.bootstrapcdn.com/bootstrap/3.2.0/js/bootstrap.min.js%22%3E%3C/script%3E%0A%20%20%20%20%3Cscript%20src%3D%22https%3A//cdnjs.cloudflare.com/ajax/libs/Leaflet.awesome-markers/2.0.2/leaflet.awesome-markers.js%22%3E%3C/script%3E%0A%20%20%20%20%3Clink%20rel%3D%22stylesheet%22%20href%3D%22https%3A//cdn.jsdelivr.net/npm/leaflet%401.4.0/dist/leaflet.css%22/%3E%0A%20%20%20%20%3Clink%20rel%3D%22stylesheet%22%20href%3D%22https%3A//maxcdn.bootstrapcdn.com/bootstrap/3.2.0/css/bootstrap.min.css%22/%3E%0A%20%20%20%20%3Clink%20rel%3D%22stylesheet%22%20href%3D%22https%3A//maxcdn.bootstrapcdn.com/bootstrap/3.2.0/css/bootstrap-theme.min.css%22/%3E%0A%20%20%20%20%3Clink%20rel%3D%22stylesheet%22%20href%3D%22https%3A//maxcdn.bootstrapcdn.com/font-awesome/4.6.3/css/font-awesome.min.css%22/%3E%0A%20%20%20%20%3Clink%20rel%3D%22stylesheet%22%20href%3D%22https%3A//cdnjs.cloudflare.com/ajax/libs/Leaflet.awesome-markers/2.0.2/leaflet.awesome-markers.css%22/%3E%0A%20%20%20%20%3Clink%20rel%3D%22stylesheet%22%20href%3D%22https%3A//rawcdn.githack.com/python-visualization/folium/master/folium/templates/leaflet.awesome.rotate.css%22/%3E%0A%20%20%20%20%3Cstyle%3Ehtml%2C%20body%20%7Bwidth%3A%20100%25%3Bheight%3A%20100%25%3Bmargin%3A%200%3Bpadding%3A%200%3B%7D%3C/style%3E%0A%20%20%20%20%3Cstyle%3E%23map%20%7Bposition%3Aabsolute%3Btop%3A0%3Bbottom%3A0%3Bright%3A0%3Bleft%3A0%3B%7D%3C/style%3E%0A%20%20%20%20%0A%20%20%20%20%3Cmeta%20name%3D%22viewport%22%20content%3D%22width%3Ddevice-width%2C%0A%20%20%20%20%20%20%20%20initial-scale%3D1.0%2C%20maximum-scale%3D1.0%2C%20user-scalable%3Dno%22%20/%3E%0A%20%20%20%20%3Cstyle%3E%23map_59d2b3ebf6304dca852f513a351ccc1b%20%7B%0A%20%20%20%20%20%20%20%20position%3A%20relative%3B%0A%20%20%20%20%20%20%20%20width%3A%20100.0%25%3B%0A%20%20%20%20%20%20%20%20height%3A%20100.0%25%3B%0A%20%20%20%20%20%20%20%20left%3A%200.0%25%3B%0A%20%20%20%20%20%20%20%20top%3A%200.0%25%3B%0A%20%20%20%20%20%20%20%20%7D%0A%20%20%20%20%3C/style%3E%0A%20%20%20%20%3Cscript%20src%3D%22https%3A//leaflet.github.io/Leaflet.heat/dist/leaflet-heat.js%22%3E%3C/script%3E%0A%3C/head%3E%0A%3Cbody%3E%20%20%20%20%0A%20%20%20%20%0A%20%20%20%20%3Cdiv%20class%3D%22folium-map%22%20id%3D%22map_59d2b3ebf6304dca852f513a351ccc1b%22%20%3E%3C/div%3E%0A%3C/body%3E%0A%3Cscript%3E%20%20%20%20%0A%20%20%20%20%0A%20%20%20%20%0A%20%20%20%20%20%20%20%20var%20bounds%20%3D%20null%3B%0A%20%20%20%20%0A%0A%20%20%20%20var%20map_59d2b3ebf6304dca852f513a351ccc1b%20%3D%20L.map%28%0A%20%20%20%20%20%20%20%20%27map_59d2b3ebf6304dca852f513a351ccc1b%27%2C%20%7B%0A%20%20%20%20%20%20%20%20center%3A%20%5B0%2C%200%5D%2C%0A%20%20%20%20%20%20%20%20zoom%3A%201%2C%0A%20%20%20%20%20%20%20%20maxBounds%3A%20bounds%2C%0A%20%20%20%20%20%20%20%20layers%3A%20%5B%5D%2C%0A%20%20%20%20%20%20%20%20worldCopyJump%3A%20false%2C%0A%20%20%20%20%20%20%20%20crs%3A%20L.CRS.EPSG3857%2C%0A%20%20%20%20%20%20%20%20zoomControl%3A%20true%2C%0A%20%20%20%20%20%20%20%20%7D%29%3B%0A%0A%0A%20%20%20%20%0A%20%20%20%20var%20tile_layer_673b22f2afd64ea1b19776c4baf7472f%20%3D%20L.tileLayer%28%0A%20%20%20%20%20%20%20%20%27https%3A//%7Bs%7D.tile.openstreetmap.org/%7Bz%7D/%7Bx%7D/%7By%7D.png%27%2C%0A%20%20%20%20%20%20%20%20%7B%0A%20%20%20%20%20%20%20%20%22attribution%22%3A%20null%2C%0A%20%20%20%20%20%20%20%20%22detectRetina%22%3A%20false%2C%0A%20%20%20%20%20%20%20%20%22maxNativeZoom%22%3A%2018%2C%0A%20%20%20%20%20%20%20%20%22maxZoom%22%3A%2018%2C%0A%20%20%20%20%20%20%20%20%22minZoom%22%3A%200%2C%0A%20%20%20%20%20%20%20%20%22noWrap%22%3A%20false%2C%0A%20%20%20%20%20%20%20%20%22opacity%22%3A%201%2C%0A%20%20%20%20%20%20%20%20%22subdomains%22%3A%20%22abc%22%2C%0A%20%20%20%20%20%20%20%20%22tms%22%3A%20false%0A%7D%29.addTo%28map_59d2b3ebf6304dca852f513a351ccc1b%29%3B%0A%20%20%20%20%0A%20%20%20%20%20%20%20%20%20%20%20%20var%20heat_map_d91f2a9ab435432292859f34ba3d943f%20%3D%20L.heatLayer%28%0A%20%20%20%20%20%20%20%20%20%20%20%20%20%20%20%20%5B%5B36.028244%2C%20-95.886482%5D%2C%20%5B32.765812%2C%20-96.75016%5D%2C%20%5B42.0665%2C%20-88.140746%5D%2C%20%5B40.03102%2C%20-75.23793%5D%2C%20%5B33.710252000000004%2C%20-117.782227%5D%2C%20%5B43.59335%2C%20-116.39927%5D%2C%20%5B42.38334%2C%20-83.21757%5D%2C%20%5B37.841363%2C%20-122.297042%5D%2C%20%5B38.872774%2C%20-121.706839%5D%2C%20%5B33.938435%2C%20-78.733162%5D%2C%20%5B32.909157%2C%20-96.74691%5D%2C%20%5B26.759096000000003%2C%20-80.09101899999997%5D%2C%20%5B35.748416%2C%20-78.64464699999998%5D%2C%20%5B33.042782%2C%20-83.937996%5D%2C%20%5B34.074779%2C%20-118.161618%5D%2C%20%5B30.691942%2C%20-88.028114%5D%2C%20%5B40.81422%2C%20-73.28743%5D%2C%20%5B35.749809%2C%20-78.708221%5D%2C%20%5B35.130733%2C%20-106.56871%5D%2C%20%5B32.824020000000004%2C%20-96.852402%5D%2C%20%5B41.732474%2C%20-88.128975%5D%2C%20%5B38.77441%2C%20-77.182129%5D%2C%20%5B38.522472%2C%20-121.52158%5D%2C%20%5B45.6128%2C%20-122.67823%5D%2C%20%5B40.754172%2C%20-77.168337%5D%2C%20%5B36.96764%2C%20-76.51171%5D%2C%20%5B31.054462%2C%20-94.82562%5D%2C%20%5B33.992116%2C%20-118.061868%5D%2C%20%5B34.401798%2C%20-81.101837%5D%2C%20%5B38.278316%2C%20-122.273842%5D%2C%20%5B29.703615000000006%2C%20-95.596191%5D%2C%20%5B37.983276%2C%20-122.041641%5D%2C%20%5B44.426256%2C%20-121.877935%5D%2C%20%5B33.880035%2C%20-117.608719%5D%2C%20%5B34.276081%2C%20-118.385582%5D%2C%20%5B39.42071%2C%20-76.64496%5D%2C%20%5B35.39195%2C%20-97.50217%5D%2C%20%5B41.983504%2C%20-88.34062%5D%2C%20%5B33.982716%2C%20-117.710533%5D%2C%20%5B35.129321999999995%2C%20-81.549278%5D%2C%20%5B36.358531%2C%20-119.109574%5D%2C%20%5B41.55993%2C%20-81.56695%5D%2C%20%5B29.77976%2C%20-95.45081%5D%2C%20%5B34.107822%2C%20-118.330768%5D%2C%20%5B29.957431%2C%20-81.444343%5D%2C%20%5B35.777866%2C%20-78.614479%5D%2C%20%5B33.0784%2C%20-89.59354%5D%2C%20%5B30.480761%2C%20-97.673897%5D%2C%20%5B32.925701000000004%2C%20-96.803833%5D%2C%20%5B28.704176%2C%20-82.519882%5D%2C%20%5B33.989101%2C%20-118.280655%5D%2C%20%5B37.630931%2C%20-77.577606%5D%2C%20%5B42.678204%2C%20-84.426702%5D%2C%20%5B42.157978%2C%20-121.799062%5D%2C%20%5B38.828764%2C%20-76.929573%5D%2C%20%5B40.85292800000001%2C%20-74.782692%5D%2C%20%5B47.46206%2C%20-122.251028%5D%2C%20%5B36.197948%2C%20-121.10202%5D%2C%20%5B40.75722%2C%20-73.32755%5D%2C%20%5B34.309862%2C%20-117.472761%5D%2C%20%5B25.760893%2C%20-80.39527199999998%5D%2C%20%5B32.19207%2C%20-110.85801%5D%2C%20%5B29.653471000000003%2C%20-95.550057%5D%2C%20%5B29.80261%2C%20-95.218933%5D%2C%20%5B46.13475%2C%20-93.48684%5D%2C%20%5B35.940767%2C%20-78.686029%5D%2C%20%5B42.344685%2C%20-83.11320500000002%5D%2C%20%5B39.548813%2C%20-77.60948499999998%5D%2C%20%5B45.51549%2C%20-122.69966%5D%2C%20%5B45.058811%2C%20-93.308678%5D%2C%20%5B41.03823%2C%20-73.81546%5D%2C%20%5B28.51%2C%20-81.24944%5D%2C%20%5B32.898070000000004%2C%20-117.11631%5D%2C%20%5B32.358795%2C%20-111.09001200000002%5D%2C%20%5B34.495459999999994%2C%20-82.09867%5D%2C%20%5B33.599739%2C%20-84.291824%5D%2C%20%5B39.7119%2C%20-75.64876%5D%2C%20%5B25.68553%2C%20-80.40871%5D%2C%20%5B42.33699%2C%20-71.39814799999998%5D%2C%20%5B40.79692100000001%2C%20-73.47184%5D%2C%20%5B39.998581%2C%20-76.79673000000003%5D%2C%20%5B34.244761%2C%20-118.422263%5D%2C%20%5B29.798189%2C%20-95.367897%5D%2C%20%5B40.622137%2C%20-111.866038%5D%2C%20%5B30.324720000000006%2C%20-81.51785%5D%2C%20%5B47.526554%2C%20-122.197875%5D%2C%20%5B30.611441%2C%20-87.32038100000003%5D%2C%20%5B34.311155%2C%20-118.486719%5D%2C%20%5B34.16048%2C%20-79.83590699999998%5D%2C%20%5B33.59295%2C%20-117.24204%5D%2C%20%5B35.797308%2C%20-78.577639%5D%2C%20%5B32.192046999999995%2C%20-110.849818%5D%2C%20%5B37.655491%2C%20-77.60548399999998%5D%2C%20%5B38.259167%2C%20-85.73777%5D%2C%20%5B42.37072%2C%20-87.94227%5D%2C%20%5B30.38376%2C%20-91.01049%5D%2C%20%5B29.150261%2C%20-81.07289899999998%5D%2C%20%5B46.87965%2C%20-96.840477%5D%2C%20%5B39.951336%2C%20-76.75853000000002%5D%2C%20%5B39.74690800000001%2C%20-122.14091%5D%2C%20%5B33.8764%2C%20-118.072685%5D%2C%20%5B45.258261%2C%20-121.188938%5D%2C%20%5B33.908412%2C%20-84.477312%5D%2C%20%5B42.057732%2C%20-71.86913299999998%5D%2C%20%5B43.033972%2C%20-83.556443%5D%2C%20%5B33.78625%2C%20-117.88005%5D%2C%20%5B35.61000100000001%2C%20-97.638527%5D%2C%20%5B32.19633%2C%20-110.90934%5D%2C%20%5B34.003716%2C%20-81.11041999999998%5D%2C%20%5B26.28016%2C%20-80.12526%5D%2C%20%5B34.69722%2C%20-118.041259%5D%2C%20%5B34.03069%2C%20-117.59807%5D%2C%20%5B43.15025%2C%20-77.63609%5D%2C%20%5B33.84544%2C%20-117.876205%5D%2C%20%5B43.17174%2C%20-77.62805%5D%2C%20%5B37.40887100000001%2C%20-122.069977%5D%2C%20%5B44.863969%2C%20-93.609062%5D%2C%20%5B37.47628%2C%20-121.932457%5D%2C%20%5B30.244267%2C%20-97.751656%5D%2C%20%5B33.86042%2C%20-85.29274000000002%5D%2C%20%5B34.13097%2C%20-118.34943%5D%2C%20%5B26.709348%2C%20-80.19827099999998%5D%2C%20%5B39.2617%2C%20-76.67279%5D%2C%20%5B32.488491%2C%20-85.032951%5D%2C%20%5B32.492686%2C%20-93.74604%5D%2C%20%5B25.717949%2C%20-80.318504%5D%2C%20%5B44.970783%2C%20-93.340942%5D%2C%20%5B30.33465%2C%20-81.67000999999998%5D%2C%20%5B37.327221%2C%20-79.989014%5D%2C%20%5B36.133186%2C%20-86.81916%5D%2C%20%5B43.728522%2C%20-73.82453000000002%5D%2C%20%5B40.748924%2C%20-74.176741%5D%2C%20%5B38.56057%2C%20-121.45827%5D%2C%20%5B27.283955%2C%20-82.452164%5D%2C%20%5B32.32724%2C%20-86.258926%5D%2C%20%5B32.666313%2C%20-117.075959%5D%2C%20%5B36.109486%2C%20-86.727959%5D%2C%20%5B32.287612%2C%20-110.99507%5D%2C%20%5B41.138401%2C%20-111.916206%5D%2C%20%5B34.221714%2C%20-118.410095%5D%2C%20%5B37.916544%2C%20-121.291021%5D%2C%20%5B29.814495%2C%20-95.352287%5D%2C%20%5B40.582382%2C%20-89.619072%5D%2C%20%5B34.170902000000005%2C%20-118.574205%5D%2C%20%5B38.315514%2C%20-85.561424%5D%2C%20%5B32.662624%2C%20-96.783928%5D%2C%20%5B26.614412%2C%20-80.068777%5D%2C%20%5B25.89509%2C%20-80.20942%5D%2C%20%5B35.922398%2C%20-84.070778%5D%2C%20%5B45.507258%2C%20-122.718953%5D%2C%20%5B47.267376%2C%20-122.549599%5D%2C%20%5B38.666428%2C%20-90.048286%5D%2C%20%5B33.791992%2C%20-117.831078%5D%2C%20%5B33.81423%2C%20-118.17156%5D%2C%20%5B44.600894%2C%20-123.557837%5D%2C%20%5B33.8834%2C%20-117.640724%5D%2C%20%5B40.558933%2C%20-111.898117%5D%2C%20%5B37.63307800000001%2C%20-121.343282%5D%2C%20%5B33.90424%2C%20-78.65654%5D%2C%20%5B32.970585%2C%20-117.249409%5D%2C%20%5B33.84929%2C%20-117.85044%5D%2C%20%5B38.630333%2C%20-90.36235%5D%2C%20%5B37.327744%2C%20-121.878189%5D%2C%20%5B43.011921%2C%20-83.65565500000002%5D%2C%20%5B35.093906%2C%20-106.669479%5D%2C%20%5B41.70893%2C%20-87.62836%5D%2C%20%5B34.16098%2C%20-118.469437%5D%2C%20%5B30.489994%2C%20-84.425629%5D%2C%20%5B45.143219%2C%20-93.265907%5D%2C%20%5B39.272194%2C%20-76.553619%5D%2C%20%5B30.295586%2C%20-92.023613%5D%2C%20%5B44.948563%2C%20-93.347839%5D%2C%20%5B34.774986%2C%20-82.284164%5D%2C%20%5B38.760423%2C%20-109.74201200000002%5D%2C%20%5B29.688641%2C%20-82.372314%5D%2C%20%5B36.69212%2C%20-119.61039%5D%2C%20%5B39.932286%2C%20-74.962197%5D%2C%20%5B26.332654%2C%20-81.806184%5D%2C%20%5B33.271611%2C%20-87.24969499999997%5D%2C%20%5B34.492081%2C%20-118.179835%5D%2C%20%5B43.60609%2C%20-116.334373%5D%2C%20%5B39.956081%2C%20-82.982063%5D%2C%20%5B34.03693%2C%20-118.43877%5D%2C%20%5B29.830170000000006%2C%20-81.381295%5D%2C%20%5B37.51666%2C%20-77.19506%5D%2C%20%5B47.63839%2C%20-122.32328%5D%2C%20%5B47.315151%2C%20-122.297768%5D%2C%20%5B34.643349%2C%20-118.183105%5D%2C%20%5B32.885582%2C%20-96.700478%5D%2C%20%5B34.153309%2C%20-118.36141200000002%5D%2C%20%5B25.69898%2C%20-80.382134%5D%2C%20%5B34.46888%2C%20-82.68%5D%2C%20%5B37.53753%2C%20-77.42846999999998%5D%2C%20%5B33.860655%2C%20-118.313771%5D%2C%20%5B34.336939%2C%20-117.259165%5D%2C%20%5B34.023011%2C%20-117.550079%5D%2C%20%5B37.607045%2C%20-120.974271%5D%2C%20%5B39.101585%2C%20-84.523651%5D%2C%20%5B33.942259%2C%20-117.243776%5D%2C%20%5B34.043901%2C%20-118.272003%5D%2C%20%5B35.21697%2C%20-114.015544%5D%2C%20%5B35.493298%2C%20-97.601143%5D%2C%20%5B41.87784%2C%20-87.64605%5D%2C%20%5B44.968906%2C%20-93.343636%5D%2C%20%5B35.36911%2C%20-80.84096%5D%2C%20%5B36.170215%2C%20-86.76832399999998%5D%2C%20%5B33.971848%2C%20-118.377823%5D%2C%20%5B44.796205%2C%20-123.033303%5D%2C%20%5B29.6307%2C%20-95.16875%5D%2C%20%5B39.11352%2C%20-94.56462%5D%2C%20%5B30.283808%2C%20-82.830345%5D%2C%20%5B32.253777%2C%20-80.846725%5D%2C%20%5B34.858925%2C%20-82.259857%5D%2C%20%5B42.516399%2C%20-84.835884%5D%2C%20%5B34.064505%2C%20-118.250656%5D%2C%20%5B44.888912%2C%20-93.360825%5D%2C%20%5B27.39388%2C%20-82.45044%5D%2C%20%5B39.822971%2C%20-84.941338%5D%2C%20%5B34.595927%2C%20-82.79779%5D%2C%20%5B27.251324%2C%20-82.497597%5D%2C%20%5B33.45803%2C%20-112.35318999999998%5D%2C%20%5B34.06092%2C%20-118.25032%5D%2C%20%5B37.54526%2C%20-122.28655%5D%2C%20%5B41.079632%2C%20-73.921959%5D%2C%20%5B33.381077000000005%2C%20-117.173424%5D%2C%20%5B39.639404%2C%20-104.910637%5D%2C%20%5B41.101711%2C%20-73.992599%5D%2C%20%5B42.349854%2C%20-84.98101%5D%2C%20%5B32.90752%2C%20-96.90398%5D%2C%20%5B41.274078%2C%20-95.972687%5D%2C%20%5B39.6949%2C%20-86.19034%5D%2C%20%5B39.862976%2C%20-75.10099%5D%2C%20%5B37.877388%2C%20-122.184158%5D%2C%20%5B40.528538%2C%20-74.35405%5D%2C%20%5B34.047178%2C%20-118.214596%5D%2C%20%5B32.568222%2C%20-117.076187%5D%2C%20%5B43.16571%2C%20-77.572891%5D%2C%20%5B40.24847800000001%2C%20-76.03699999999998%5D%2C%20%5B42.538284%2C%20-71.269417%5D%2C%20%5B35.352688%2C%20-118.961372%5D%2C%20%5B40.64291%2C%20-74.686279%5D%2C%20%5B36.098446%2C%20-95.859848%5D%2C%20%5B45.529575%2C%20-118.447404%5D%2C%20%5B34.066004%2C%20-117.478329%5D%2C%20%5B42.33453%2C%20-83.06779%5D%2C%20%5B40.847034%2C%20-74.01702900000002%5D%2C%20%5B29.69215%2C%20-95.783684%5D%2C%20%5B28.366474%2C%20-81.39411899999998%5D%2C%20%5B42.548084%2C%20-71.280594%5D%2C%20%5B25.857407%2C%20-80.224091%5D%2C%20%5B35.238567%2C%20-80.919891%5D%2C%20%5B39.023293%2C%20-94.691376%5D%2C%20%5B29.678411%2C%20-95.264168%5D%2C%20%5B25.76166%2C%20-80.31988%5D%2C%20%5B37.773006%2C%20-121.177032%5D%2C%20%5B30.443488%2C%20-91.178461%5D%2C%20%5B30.575558%2C%20-81.518661%5D%2C%20%5B43.587945%2C%20-111.625889%5D%2C%20%5B37.550844%2C%20-122.376%5D%2C%20%5B29.520662%2C%20-98.499367%5D%2C%20%5B41.002032%2C%20-111.901652%5D%2C%20%5B40.122219%2C%20-75.319122%5D%2C%20%5B26.00821%2C%20-80.28350999999998%5D%2C%20%5B43.986328%2C%20-93.254912%5D%2C%20%5B30.292106%2C%20-97.798179%5D%2C%20%5B38.37295%2C%20-121.35841%5D%2C%20%5B38.146869%2C%20-122.216801%5D%2C%20%5B39.874378%2C%20-104.98747%5D%2C%20%5B33.998493%2C%20-81.250303%5D%2C%20%5B39.056774%2C%20-76.839607%5D%2C%20%5B40.834657%2C%20-74.17926899999998%5D%2C%20%5B34.990978000000005%2C%20-82.297783%5D%2C%20%5B40.014832%2C%20-74.881653%5D%2C%20%5B48.241022%2C%20-122.374845%5D%2C%20%5B41.85329%2C%20-87.9331%5D%2C%20%5B25.949526%2C%20-80.213442%5D%2C%20%5B36.09515%2C%20-80.2292%5D%2C%20%5B32.169746%2C%20-97.131859%5D%2C%20%5B34.177177%2C%20-81.322777%5D%2C%20%5B39.14871%2C%20-77.14694%5D%2C%20%5B37.34269000000001%2C%20-121.901192%5D%2C%20%5B47.849541%2C%20-122.257454%5D%2C%20%5B37.76645300000001%2C%20-122.405304%5D%2C%20%5B33.885414000000004%2C%20-117.644493%5D%2C%20%5B40.052864%2C%20-75.12162%5D%2C%20%5B39.24282%2C%20-94.51338%5D%2C%20%5B30.162453000000006%2C%20-97.74054%5D%2C%20%5B42.21981%2C%20-88.06681%5D%2C%20%5B40.10954%2C%20-75.29485%5D%2C%20%5B37.916992%2C%20-77.458484%5D%2C%20%5B33.92811%2C%20-118.291602%5D%2C%20%5B41.91529%2C%20-88.20875%5D%2C%20%5B43.099869%2C%20-75.245393%5D%2C%20%5B43.13088%2C%20-77.65944%5D%2C%20%5B42.44408%2C%20-83.20243%5D%2C%20%5B29.698418%2C%20-95.267784%5D%2C%20%5B34.069431%2C%20-118.23574%5D%2C%20%5B39.583958%2C%20-84.113656%5D%2C%20%5B29.997862%2C%20-82.59227800000002%5D%2C%20%5B33.7547%2C%20-84.410088%5D%2C%20%5B38.469185%2C%20-122.729378%5D%2C%20%5B34.92308%2C%20-82.307182%5D%2C%20%5B30.312109000000003%2C%20-83.834592%5D%2C%20%5B40.776046%2C%20-74.05875999999998%5D%2C%20%5B35.838661%2C%20-78.59156800000002%5D%2C%20%5B42.27973%2C%20-87.87858%5D%2C%20%5B42.534031%2C%20-92.473503%5D%2C%20%5B40.969551%2C%20-76.616333%5D%2C%20%5B33.92436%2C%20-117.65545%5D%2C%20%5B40.853439%2C%20-73.963623%5D%2C%20%5B40.844532%2C%20-73.90255%5D%2C%20%5B34.22987%2C%20-83.49965%5D%2C%20%5B32.999008%2C%20-80.230103%5D%2C%20%5B36.111477%2C%20-86.922691%5D%2C%20%5B34.154990999999995%2C%20-118.820915%5D%2C%20%5B41.869112%2C%20-87.65673000000002%5D%2C%20%5B40.156674%2C%20-75.142689%5D%2C%20%5B43.1758%2C%20-85.53045999999998%5D%2C%20%5B42.97792000000001%2C%20-87.91587%5D%2C%20%5B42.866474%2C%20-83.739734%5D%2C%20%5B39.850563%2C%20-104.986036%5D%2C%20%5B36.11182%2C%20-79.960045%5D%2C%20%5B26.34587%2C%20-80.118%5D%2C%20%5B40.13881%2C%20-75.11276%5D%2C%20%5B42.597927%2C%20-71.29888199999998%5D%2C%20%5B29.787958000000003%2C%20-95.644638%5D%2C%20%5B36.74651%2C%20-119.8218%5D%2C%20%5B38.630348%2C%20-90.342377%5D%2C%20%5B38.766982%2C%20-121.173398%5D%2C%20%5B41.684483%2C%20-70.20713%5D%2C%20%5B33.49139%2C%20-81.478948%5D%2C%20%5B34.031213%2C%20-118.27457%5D%2C%20%5B25.942207%2C%20-80.351395%5D%2C%20%5B34.063966%2C%20-81.138661%5D%2C%20%5B34.308370000000004%2C%20-117.470548%5D%2C%20%5B33.765388%2C%20-84.387489%5D%2C%20%5B30.270218%2C%20-81.61281600000002%5D%2C%20%5B39.072707%2C%20-122.914085%5D%2C%20%5B41.09998%2C%20-73.95215999999998%5D%2C%20%5B41.834845%2C%20-87.918823%5D%2C%20%5B28.704069%2C%20-81.42070799999998%5D%2C%20%5B29.641140000000004%2C%20-95.242996%5D%2C%20%5B37.49059000000001%2C%20-121.94857%5D%2C%20%5B33.484295%2C%20-81.986343%5D%2C%20%5B41.099754%2C%20-73.951324%5D%2C%20%5B37.05442100000001%2C%20-120.967348%5D%2C%20%5B41.233913%2C%20-96.234474%5D%2C%20%5B38.660511%2C%20-120.942505%5D%2C%20%5B30.521399%2C%20-91.156677%5D%2C%20%5B40.037795%2C%20-75.280326%5D%2C%20%5B34.153661%2C%20-118.325732%5D%2C%20%5B33.99799%2C%20-118.17627%5D%2C%20%5B32.70547%2C%20-97.06258%5D%2C%20%5B30.398045%2C%20-97.672405%5D%2C%20%5B41.77097%2C%20-72.67856%5D%2C%20%5B30.261595%2C%20-97.718056%5D%2C%20%5B34.004792%2C%20-118.172994%5D%2C%20%5B29.661107%2C%20-95.15618%5D%2C%20%5B33.924892%2C%20-118.104172%5D%2C%20%5B40.052158%2C%20-76.30837199999998%5D%2C%20%5B33.92321%2C%20-118.20573%5D%2C%20%5B39.39735%2C%20-76.54910699999998%5D%2C%20%5B32.909298%2C%20-96.766678%5D%2C%20%5B36.262619%2C%20-86.684372%5D%2C%20%5B34.027458%2C%20-118.27449%5D%2C%20%5B43.604682%2C%20-116.391595%5D%2C%20%5B42.819592%2C%20-73.767937%5D%2C%20%5B37.64068%2C%20-77.40828%5D%2C%20%5B35.39167800000001%2C%20-97.509697%5D%2C%20%5B44.96324%2C%20-92.98473%5D%2C%20%5B42.149837%2C%20-88.136085%5D%2C%20%5B30.346940000000004%2C%20-91.14879%5D%2C%20%5B35.266029%2C%20-80.769142%5D%2C%20%5B34.0319%2C%20-118.417993%5D%2C%20%5B34.579159000000004%2C%20-83.02307900000002%5D%2C%20%5B34.107868%2C%20-80.950577%5D%2C%20%5B39.7073%2C%20-86.1094%5D%2C%20%5B38.95243%2C%20-76.86225%5D%2C%20%5B33.843611%2C%20-118.0912%5D%2C%20%5B40.28093%2C%20-74.50437%5D%2C%20%5B39.885189%2C%20-104.987442%5D%2C%20%5B41.07918%2C%20-73.92184%5D%2C%20%5B34.251251%2C%20-118.194748%5D%2C%20%5B46.22666%2C%20-92.828904%5D%2C%20%5B33.059971000000004%2C%20-79.80764%5D%2C%20%5B33.001453000000005%2C%20-97.292343%5D%2C%20%5B30.384359000000003%2C%20-91.064781%5D%2C%20%5B34.065771000000005%2C%20-117.830355%5D%2C%20%5B35.91236%2C%20-84.11733000000002%5D%2C%20%5B43.047668%2C%20-83.69052099999998%5D%2C%20%5B41.511826%2C%20-88.081978%5D%2C%20%5B33.584829%2C%20-86.70089300000002%5D%2C%20%5B34.719322%2C%20-81.64891800000002%5D%2C%20%5B40.56718%2C%20-80.01648%5D%2C%20%5B28.06931%2C%20-82.4594%5D%2C%20%5B34.00516%2C%20-117.82923999999998%5D%2C%20%5B43.249493%2C%20-77.668093%5D%2C%20%5B32.699636%2C%20-96.269642%5D%2C%20%5B39.036988%2C%20-94.361754%5D%2C%20%5B35.795643%2C%20-78.51531999999997%5D%2C%20%5B32.808338%2C%20-96.836792%5D%2C%20%5B29.705444%2C%20-95.493103%5D%2C%20%5B47.27947%2C%20-122.31099%5D%2C%20%5B34.182972%2C%20-79.81746600000002%5D%2C%20%5B35.811352%2C%20-78.565781%5D%2C%20%5B34.071659000000004%2C%20-118.134361%5D%2C%20%5B34.03611%2C%20-118.09287%5D%2C%20%5B40.25318%2C%20-111.69731000000002%5D%2C%20%5B40.094219%2C%20-75.286583%5D%2C%20%5B46.01209%2C%20-92.62064%5D%2C%20%5B38.79249%2C%20-84.60425%5D%2C%20%5B36.12581%2C%20-86.84642%5D%2C%20%5B38.957401%2C%20-85.843674%5D%2C%20%5B35.418895%2C%20-119.021258%5D%2C%20%5B40.72057%2C%20-73.826195%5D%2C%20%5B35.69418%2C%20-78.57453000000002%5D%2C%20%5B41.20243%2C%20-95.94811%5D%2C%20%5B34.573357%2C%20-82.71174599999998%5D%2C%20%5B41.56805%2C%20-72.7275%5D%2C%20%5B35.911812%2C%20-78.475578%5D%2C%20%5B30.325706%2C%20-97.726181%5D%2C%20%5B43.122944%2C%20-83.69448100000002%5D%2C%20%5B36.160782%2C%20-86.78182199999998%5D%2C%20%5B41.71921%2C%20-72.79496999999998%5D%2C%20%5B34.069759000000005%2C%20-118.236168%5D%2C%20%5B40.792823%2C%20-74.24891%5D%2C%20%5B38.886051%2C%20-77.222115%5D%2C%20%5B44.028805%2C%20-121.315715%5D%2C%20%5B35.23204000000001%2C%20-89.982292%5D%2C%20%5B38.662656%2C%20-77.24829100000002%5D%2C%20%5B45.00055%2C%20-93.23723%5D%2C%20%5B29.744165%2C%20-95.361115%5D%2C%20%5B35.947182%2C%20-78.536194%5D%2C%20%5B40.366398%2C%20-78.77155400000002%5D%2C%20%5B37.915642%2C%20-122.065948%5D%2C%20%5B30.369490000000006%2C%20-97.801979%5D%2C%20%5B34.068474%2C%20-117.973938%5D%2C%20%5B33.866978%2C%20-117.711479%5D%2C%20%5B30.238171%2C%20-97.762131%5D%2C%20%5B28.523087%2C%20-81.386501%5D%2C%20%5B34.14632%2C%20-118.02777%5D%2C%20%5B39.950199%2C%20-75.793358%5D%2C%20%5B36.83947%2C%20-76.28671999999997%5D%2C%20%5B43.09597%2C%20-83.754097%5D%2C%20%5B38.957491%2C%20-77.192683%5D%2C%20%5B42.383347%2C%20-83.424933%5D%2C%20%5B44.03863%2C%20-121.30782%5D%2C%20%5B28.55315%2C%20-81.357391%5D%2C%20%5B30.456015%2C%20-97.666321%5D%2C%20%5B33.967222%2C%20-118.083234%5D%2C%20%5B37.700951%2C%20-121.80175%5D%2C%20%5B41.748619%2C%20-87.94458%5D%2C%20%5B41.223835%2C%20-96.004425%5D%2C%20%5B33.523994%2C%20-112.123405%5D%2C%20%5B32.75797%2C%20-97.31899%5D%2C%20%5B32.734186%2C%20-97.359513%5D%2C%20%5B30.306566%2C%20-81.878304%5D%2C%20%5B33.942062%2C%20-118.01165%5D%2C%20%5B29.787958000000003%2C%20-95.644638%5D%2C%20%5B33.148315000000004%2C%20-117.196007%5D%2C%20%5B29.179366%2C%20-82.18468%5D%2C%20%5B45.50545%2C%20-122.67352%5D%2C%20%5B33.928017%2C%20-81.070114%5D%2C%20%5B34.15311%2C%20-118.36934%5D%2C%20%5B41.775866%2C%20-73.768783%5D%2C%20%5B36.604664%2C%20-121.861015%5D%2C%20%5B38.982697%2C%20-77.02656%5D%2C%20%5B45.52755%2C%20-122.60507%5D%2C%20%5B34.10605%2C%20-118.32743%5D%2C%20%5B32.731243%2C%20-117.154694%5D%2C%20%5B35.215611%2C%20-80.780746%5D%2C%20%5B33.997963%2C%20-117.935613%5D%2C%20%5B46.122189%2C%20-123.92626%5D%2C%20%5B26.607717%2C%20-80.173662%5D%2C%20%5B30.52126%2C%20-97.68888%5D%2C%20%5B30.327856%2C%20-97.659348%5D%2C%20%5B33.49135%2C%20-112.11296000000002%5D%2C%20%5B34.036667%2C%20-118.376678%5D%2C%20%5B44.966735%2C%20-93.088977%5D%2C%20%5B32.727482%2C%20-117.112724%5D%2C%20%5B40.71674%2C%20-111.95348%5D%2C%20%5B34.984642%2C%20-81.973839%5D%2C%20%5B35.18539000000001%2C%20-114.458389%5D%2C%20%5B41.98632%2C%20-87.86878%5D%2C%20%5B42.066475%2C%20-88.192886%5D%2C%20%5B38.935557%2C%20-94.612119%5D%2C%20%5B30.349001%2C%20-97.546608%5D%2C%20%5B34.25733%2C%20-118.47235%5D%2C%20%5B41.88977%2C%20-87.98883000000002%5D%2C%20%5B32.763016%2C%20-117.10898600000002%5D%2C%20%5B29.808233%2C%20-95.336021%5D%2C%20%5B33.912056%2C%20-118.159836%5D%2C%20%5B29.6008%2C%20-95.266312%5D%2C%20%5B36.961983%2C%20-81.066864%5D%2C%20%5B41.627682%2C%20-93.624763%5D%2C%20%5B41.54741%2C%20-87.743144%5D%2C%20%5B44.984268%2C%20-122.7575%5D%2C%20%5B40.94839%2C%20-84.05617%5D%2C%20%5B33.76774%2C%20-84.38889%5D%2C%20%5B43.60086%2C%20-116.57764%5D%2C%20%5B33.461826%2C%20-112.108902%5D%2C%20%5B44.862247%2C%20-93.247345%5D%2C%20%5B37.321122%2C%20-121.899889%5D%2C%20%5B36.140352%2C%20-86.66634599999998%5D%2C%20%5B34.00885%2C%20-118.15858500000002%5D%2C%20%5B37.897984%2C%20-122.093224%5D%2C%20%5B42.966373%2C%20-85.67023499999998%5D%2C%20%5B26.357622%2C%20-81.758822%5D%2C%20%5B44.99474%2C%20-93.08953%5D%2C%20%5B35.119254999999995%2C%20-80.843414%5D%2C%20%5B36.9825%2C%20-121.964444%5D%2C%20%5B34.064236%2C%20-118.005491%5D%2C%20%5B37.343999%2C%20-79.994298%5D%2C%20%5B33.348147999999995%2C%20-112.08329%5D%2C%20%5B40.06658%2C%20-76.33284%5D%2C%20%5B35.052162%2C%20-80.849739%5D%2C%20%5B41.38666%2C%20-73.5998%5D%2C%20%5B34.125233%2C%20-118.228344%5D%2C%20%5B45.388913%2C%20-122.750036%5D%2C%20%5B35.25832%2C%20-80.73614%5D%2C%20%5B39.655788%2C%20-76.655084%5D%2C%20%5B34.340137%2C%20-118.519516%5D%2C%20%5B37.997788%2C%20-122.534749%5D%2C%20%5B40.82816%2C%20-74.027999%5D%2C%20%5B39.788422%2C%20-84.212822%5D%2C%20%5B33.95328%2C%20-118.08998%5D%2C%20%5B34.223025%2C%20-118.248799%5D%2C%20%5B34.966995000000004%2C%20-81.89399%5D%2C%20%5B27.463818%2C%20-82.432343%5D%2C%20%5B41.71448%2C%20-87.6468%5D%2C%20%5B41.05938%2C%20-111.579733%5D%2C%20%5B37.255901%2C%20-121.85984%5D%2C%20%5B34.189910999999995%2C%20-80.88884%5D%2C%20%5B42.393349%2C%20-71.042831%5D%2C%20%5B33.874123%2C%20-117.880506%5D%2C%20%5B44.86114%2C%20-93.15593%5D%2C%20%5B28.569689%2C%20-81.232277%5D%2C%20%5B26.627801%2C%20-80.06772600000002%5D%2C%20%5B35.60881%2C%20-97.582382%5D%2C%20%5B33.981689%2C%20-83.972984%5D%2C%20%5B38.701%2C%20-121.170792%5D%2C%20%5B35.333843%2C%20-97.489975%5D%2C%20%5B43.11099%2C%20-77.54771%5D%2C%20%5B47.14498%2C%20-94.63508%5D%2C%20%5B40.734238%2C%20-74.53645300000002%5D%2C%20%5B32.763729%2C%20-117.160898%5D%2C%20%5B33.92709%2C%20-118.178089%5D%2C%20%5B33.282769%2C%20-111.795748%5D%2C%20%5B32.574604%2C%20-110.947807%5D%2C%20%5B41.883072%2C%20-88.194542%5D%2C%20%5B39.095967%2C%20-94.581108%5D%2C%20%5B37.692612%2C%20-122.073891%5D%2C%20%5B26.711555%2C%20-81.71243299999998%5D%2C%20%5B28.492792%2C%20-81.43354000000002%5D%2C%20%5B40.114086%2C%20-82.838173%5D%2C%20%5B39.81517%2C%20-85.92732%5D%2C%20%5B30.43936%2C%20-97.754173%5D%2C%20%5B34.099358%2C%20-117.819215%5D%2C%20%5B42.493946%2C%20-82.96273000000002%5D%2C%20%5B38.652668%2C%20-121.070602%5D%2C%20%5B34.818881%2C%20-91.564038%5D%2C%20%5B32.974437%2C%20-80.487623%5D%2C%20%5B47.691231%2C%20-122.309532%5D%2C%20%5B28.03945%2C%20-82.041313%5D%2C%20%5B37.987774%2C%20-84.562279%5D%2C%20%5B35.204914%2C%20-80.759621%5D%2C%20%5B34.121035%2C%20-117.883204%5D%2C%20%5B31.776138%2C%20-106.267845%5D%2C%20%5B43.54225%2C%20-119.498516%5D%2C%20%5B33.696040999999994%2C%20-117.863594%5D%2C%20%5B41.335386%2C%20-81.51478%5D%2C%20%5B25.927745%2C%20-80.213702%5D%2C%20%5B29.970375%2C%20-90.008625%5D%2C%20%5B41.889923%2C%20-87.973778%5D%2C%20%5B41.38033400000001%2C%20-79.882335%5D%2C%20%5B39.19856%2C%20-76.61327%5D%2C%20%5B34.061809000000004%2C%20-118.457189%5D%2C%20%5B32.94851%2C%20-96.7362%5D%2C%20%5B33.924%2C%20-118.309067%5D%2C%20%5B45.867036%2C%20-123.59571499999998%5D%2C%20%5B33.93077%2C%20-118.43494%5D%2C%20%5B39.29259%2C%20-76.53220999999998%5D%2C%20%5B39.092117%2C%20-77.153397%5D%2C%20%5B36.93170900000001%2C%20-120.110367%5D%2C%20%5B28.557726%2C%20-81.206978%5D%2C%20%5B42.745838%2C%20-73.755486%5D%2C%20%5B36.220852%2C%20-86.774704%5D%2C%20%5B28.086577%2C%20-82.459556%5D%2C%20%5B43.03212%2C%20-87.96091%5D%2C%20%5B32.92391%2C%20-96.77672%5D%2C%20%5B35.86063%2C%20-80.077446%5D%2C%20%5B34.139427000000005%2C%20-118.015628%5D%2C%20%5B39.88505%2C%20-105.0251%5D%2C%20%5B40.63066%2C%20-111.87783%5D%2C%20%5B33.68563%2C%20-117.87261%5D%2C%20%5B33.974652%2C%20-118.280597%5D%2C%20%5B40.75671%2C%20-73.73988%5D%2C%20%5B41.523754%2C%20-73.89057199999998%5D%2C%20%5B34.288884%2C%20-117.83428899999998%5D%2C%20%5B32.781132%2C%20-96.62439%5D%2C%20%5B29.716078000000003%2C%20-95.354004%5D%2C%20%5B28.345501%2C%20-80.7798%5D%2C%20%5B33.778904%2C%20-117.884941%5D%2C%20%5B48.68576%2C%20-122.395653%5D%2C%20%5B29.749407%2C%20-95.36705%5D%2C%20%5B35.855095%2C%20-78.581078%5D%2C%20%5B33.744019%2C%20-117.841461%5D%2C%20%5B44.707582%2C%20-121.058458%5D%2C%20%5B30.470169%2C%20-91.051521%5D%2C%20%5B38.004968%2C%20-122.038364%5D%2C%20%5B36.247082%2C%20-86.78409599999998%5D%2C%20%5B27.94959%2C%20-82.35349000000002%5D%2C%20%5B46.21548%2C%20-123.86201%5D%2C%20%5B40.877251%2C%20-72.52262900000002%5D%2C%20%5B43.150852%2C%20-83.558578%5D%2C%20%5B35.83823%2C%20-78.64157900000002%5D%2C%20%5B41.78432%2C%20-72.66%5D%2C%20%5B28.560015000000003%2C%20-81.379829%5D%2C%20%5B32.68561%2C%20-117.09039%5D%2C%20%5B40.690292%2C%20-74.103111%5D%2C%20%5B35.068203000000004%2C%20-120.512772%5D%2C%20%5B37.741734%2C%20-121.574196%5D%2C%20%5B43.71957%2C%20-122.33277%5D%2C%20%5B41.195%2C%20-73.686195%5D%2C%20%5B38.915871%2C%20-121.04101599999998%5D%2C%20%5B34.072272%2C%20-118.053628%5D%2C%20%5B42.379036%2C%20-83.216965%5D%2C%20%5B34.021053%2C%20-118.195251%5D%2C%20%5B40.81321%2C%20-74.05837199999998%5D%2C%20%5B37.87499%2C%20-120.450807%5D%2C%20%5B42.67769000000001%2C%20-84.48921%5D%2C%20%5B39.911533%2C%20-75.595261%5D%2C%20%5B37.771831%2C%20-121.535805%5D%2C%20%5B38.27718%2C%20-85.80487%5D%2C%20%5B40.71643%2C%20-73.97559%5D%2C%20%5B37.331154%2C%20-80.024687%5D%2C%20%5B45.3464%2C%20-122.98387%5D%2C%20%5B30.377769%2C%20-91.094902%5D%2C%20%5B41.888607%2C%20-88.012589%5D%2C%20%5B39.911942%2C%20-86.203026%5D%2C%20%5B34.704096%2C%20-118.169879%5D%2C%20%5B40.74158%2C%20-111.90504%5D%2C%20%5B33.89952%2C%20-84.26938%5D%2C%20%5B32.908359999999995%2C%20-117.11657%5D%2C%20%5B40.806702%2C%20-73.923927%5D%2C%20%5B34.05941%2C%20-118.00142%5D%2C%20%5B43.59201%2C%20-116.274101%5D%2C%20%5B33.96883%2C%20-117.68922%5D%2C%20%5B42.942045%2C%20-85.66736%5D%2C%20%5B28.60049%2C%20-81.3862%5D%2C%20%5B38.978897%2C%20-121.382561%5D%2C%20%5B38.233414%2C%20-122.618195%5D%2C%20%5B33.854099%2C%20-117.88932%5D%2C%20%5B33.751049%2C%20-117.845694%5D%2C%20%5B39.98222%2C%20-75.1008%5D%2C%20%5B40.888756%2C%20-73.154488%5D%2C%20%5B40.851543%2C%20-73.95208000000002%5D%2C%20%5B44.964397%2C%20-93.23616%5D%2C%20%5B27.44775%2C%20-82.574906%5D%2C%20%5B35.270235%2C%20-80.794276%5D%2C%20%5B28.217045%2C%20-82.715187%5D%2C%20%5B32.337315000000004%2C%20-111.021423%5D%2C%20%5B35.82078%2C%20-78.74436999999998%5D%2C%20%5B38.67779%2C%20-121.82104%5D%2C%20%5B38.599251%2C%20-121.021233%5D%2C%20%5B32.906471%2C%20-96.804138%5D%2C%20%5B42.46738%2C%20-71.39663%5D%2C%20%5B39.293743%2C%20-76.742508%5D%2C%20%5B35.19424%2C%20-80.878446%5D%2C%20%5B33.876092%2C%20-118.125184%5D%2C%20%5B42.264626%2C%20-83.27034%5D%2C%20%5B34.14556%2C%20-118.36854%5D%2C%20%5B40.82368%2C%20-73.87745%5D%2C%20%5B39.711449%2C%20-75.668678%5D%2C%20%5B39.975224%2C%20-75.194405%5D%2C%20%5B33.743267%2C%20-84.38247700000002%5D%2C%20%5B41.791424%2C%20-93.570007%5D%2C%20%5B45.546813%2C%20-122.540546%5D%2C%20%5B45.165066%2C%20-122.486619%5D%2C%20%5B41.27499%2C%20-95.88575%5D%2C%20%5B38.88505%2C%20-77.01273%5D%2C%20%5B33.841426%2C%20-117.255454%5D%2C%20%5B36.104485%2C%20-95.851059%5D%2C%20%5B33.684121999999995%2C%20-84.408514%5D%2C%20%5B39.14529%2C%20-76.64346%5D%2C%20%5B25.940401%2C%20-80.190993%5D%2C%20%5B45.523108%2C%20-118.441042%5D%2C%20%5B40.628205%2C%20-74.63285400000002%5D%2C%20%5B32.85408%2C%20-96.650948%5D%2C%20%5B42.017839%2C%20-87.938343%5D%2C%20%5B34.034375%2C%20-118.349962%5D%2C%20%5B38.418919%2C%20-122.716003%5D%2C%20%5B40.510166%2C%20-79.682965%5D%2C%20%5B30.03562%2C%20-97.845367%5D%2C%20%5B42.484989%2C%20-83.431862%5D%2C%20%5B40.702194%2C%20-74.248138%5D%2C%20%5B33.960833%2C%20-118.369241%5D%2C%20%5B41.30897%2C%20-81.80953000000002%5D%2C%20%5B34.273140000000005%2C%20-118.429565%5D%2C%20%5B37.44097%2C%20-77.47263000000002%5D%2C%20%5B40.931471%2C%20-73.856453%5D%2C%20%5B41.70969%2C%20-87.77956%5D%2C%20%5B31.79046%2C%20-106.30218%5D%2C%20%5B30.002848%2C%20-90.035301%5D%2C%20%5B29.77068%2C%20-95.16908%5D%2C%20%5B30.02933%2C%20-95.42918%5D%2C%20%5B34.072578%2C%20-117.778473%5D%2C%20%5B41.263317%2C%20-96.052528%5D%2C%20%5B33.498795%2C%20-86.81452900000002%5D%2C%20%5B45.081059%2C%20-94.32309%5D%2C%20%5B40.735229%2C%20-73.172371%5D%2C%20%5B35.77337%2C%20-78.65064%5D%2C%20%5B39.59349%2C%20-76.06578%5D%2C%20%5B33.003215999999995%2C%20-111.752884%5D%2C%20%5B43.00201%2C%20-83.772697%5D%2C%20%5B38.69287%2C%20-121.351608%5D%2C%20%5B38.99014%2C%20-77.52779%5D%2C%20%5B43.128227%2C%20-77.642723%5D%2C%20%5B34.50307100000001%2C%20-83.569962%5D%2C%20%5B33.466522%2C%20-112.11026%5D%2C%20%5B39.120842%2C%20-119.772141%5D%2C%20%5B42.4044%2C%20-83.21845%5D%2C%20%5B37.700104%2C%20-121.77881200000002%5D%2C%20%5B42.518894%2C%20-83.616478%5D%2C%20%5B44.95272%2C%20-93.04162%5D%2C%20%5B33.975605%2C%20-117.339883%5D%2C%20%5B35.44850200000001%2C%20-119.030891%5D%2C%20%5B39.77383%2C%20-86.228043%5D%2C%20%5B43.29425%2C%20-71.83839%5D%2C%20%5B26.186601%2C%20-80.21556899999999%5D%2C%20%5B34.352778%2C%20-119.30611100000002%5D%2C%20%5B29.600861%2C%20-95.22863%5D%2C%20%5B26.934469%2C%20-80.149849%5D%2C%20%5B42.41528%2C%20-88.00385%5D%2C%20%5B32.248161%2C%20-110.849823%5D%2C%20%5B39.691128000000006%2C%20-104.973434%5D%2C%20%5B38.527411%2C%20-121.468824%5D%2C%20%5B34.83123%2C%20-82.50174%5D%2C%20%5B33.739227%2C%20-117.829389%5D%2C%20%5B37.724036%2C%20-122.036556%5D%2C%20%5B44.20328%2C%20-88.48541999999998%5D%2C%20%5B33.797836%2C%20-118.297521%5D%2C%20%5B39.868671%2C%20-86.12224599999998%5D%2C%20%5B45.108776%2C%20-93.301376%5D%2C%20%5B35.163129999999995%2C%20-80.89571%5D%2C%20%5B38.19165%2C%20-90.415192%5D%2C%20%5B30.42284%2C%20-91.013527%5D%2C%20%5B44.935714%2C%20-85.632333%5D%2C%20%5B34.272236%2C%20-118.353287%5D%2C%20%5B25.699009%2C%20-80.440881%5D%2C%20%5B38.120506%2C%20-122.565697%5D%2C%20%5B33.754608000000005%2C%20-84.40278599999998%5D%2C%20%5B40.055912%2C%20-75.127151%5D%2C%20%5B28.226124%2C%20-81.43897199999998%5D%2C%20%5B38.81852%2C%20-121.28086100000002%5D%2C%20%5B43.657768%2C%20-111.921898%5D%2C%20%5B30.515272%2C%20-91.149882%5D%2C%20%5B29.775269%2C%20-95.64399%5D%2C%20%5B29.744148%2C%20-95.457518%5D%2C%20%5B42.425121%2C%20-82.928368%5D%2C%20%5B40.04188%2C%20-74.83633%5D%2C%20%5B43.15821%2C%20-70.66264%5D%2C%20%5B38.05146%2C%20-122.53126%5D%2C%20%5B32.854971%2C%20-96.646859%5D%2C%20%5B45.61792%2C%20-122.80694%5D%2C%20%5B33.371506%2C%20-117.554405%5D%2C%20%5B41.13583%2C%20-85.14026%5D%2C%20%5B34.229029%2C%20-79.87306%5D%2C%20%5B40.5935%2C%20-111.9027%5D%2C%20%5B44.808056%2C%20-93.398071%5D%2C%20%5B41.453362%2C%20-81.769012%5D%2C%20%5B34.154404%2C%20-118.384232%5D%2C%20%5B37.819321%2C%20-122.478434%5D%2C%20%5B26.09367%2C%20-80.36367%5D%2C%20%5B41.11718%2C%20-73.499557%5D%2C%20%5B36.236461%2C%20-86.76213299999998%5D%2C%20%5B32.546227%2C%20-83.744102%5D%2C%20%5B39.636193%2C%20-76.671277%5D%2C%20%5B42.40768%2C%20-82.95081%5D%2C%20%5B33.427952000000005%2C%20-82.001251%5D%2C%20%5B34.046958000000004%2C%20-118.446773%5D%2C%20%5B38.179054%2C%20-120.917923%5D%2C%20%5B45.288701%2C%20-122.971882%5D%2C%20%5B33.815290999999995%2C%20-118.185108%5D%2C%20%5B34.75584%2C%20-118.79559%5D%2C%20%5B43.124819%2C%20-123.363766%5D%2C%20%5B34.4886%2C%20-118.28649%5D%2C%20%5B43.021557%2C%20-73.791512%5D%2C%20%5B42.705181%2C%20-83.30708299999998%5D%2C%20%5B35.796394%2C%20-78.56295%5D%2C%20%5B40.277489%2C%20-75.260452%5D%2C%20%5B40.27177%2C%20-103.584053%5D%2C%20%5B34.743931%2C%20-81.994759%5D%2C%20%5B38.269518%2C%20-78.938004%5D%2C%20%5B40.02966%2C%20-76.32309000000002%5D%2C%20%5B37.35426%2C%20-121.86607%5D%2C%20%5B44.968189%2C%20-93.088638%5D%2C%20%5B34.172119%2C%20-118.467529%5D%2C%20%5B35.609009%2C%20-97.602913%5D%2C%20%5B34.08226%2C%20-117.69813%5D%2C%20%5B42.395485%2C%20-82.989052%5D%2C%20%5B44.09664%2C%20-123.16592%5D%2C%20%5B40.75077%2C%20-111.89395%5D%2C%20%5B37.80417%2C%20-122.472298%5D%2C%20%5B42.148902%2C%20-71.214467%5D%2C%20%5B37.798078%2C%20-121.092413%5D%2C%20%5B32.760220000000004%2C%20-83.707321%5D%2C%20%5B34.48568%2C%20-118.622368%5D%2C%20%5B27.814777000000007%2C%20-82.35242099999998%5D%2C%20%5B30.69241%2C%20-88.073051%5D%2C%20%5B35.078548%2C%20-85.321938%5D%2C%20%5B30.364271%2C%20-89.097617%5D%2C%20%5B38.854608%2C%20-77.388695%5D%2C%20%5B39.11655%2C%20-94.56451%5D%2C%20%5B33.281420000000004%2C%20-96.59234%5D%2C%20%5B36.040592%2C%20-86.771057%5D%2C%20%5B34.1211%2C%20-118.47972%5D%2C%20%5B36.750362%2C%20-119.790549%5D%2C%20%5B39.01898%2C%20-76.95983000000003%5D%2C%20%5B41.233788%2C%20-96.330338%5D%2C%20%5B35.633671%2C%20-78.841812%5D%2C%20%5B37.144402%2C%20-121.985268%5D%2C%20%5B48.23618%2C%20-122.06191499999998%5D%2C%20%5B29.784132%2C%20-95.521828%5D%2C%20%5B35.601944%2C%20-97.549362%5D%2C%20%5B30.430784000000006%2C%20-97.76162%5D%2C%20%5B42.973461%2C%20-85.640045%5D%2C%20%5B29.613465%2C%20-82.383438%5D%2C%20%5B35.146988%2C%20-80.926071%5D%2C%20%5B39.308125%2C%20-120.541687%5D%2C%20%5B36.793172%2C%20-119.700406%5D%2C%20%5B33.54643%2C%20-112.41805%5D%2C%20%5B28.089532%2C%20-82.459756%5D%2C%20%5B34.081741%2C%20-117.712788%5D%2C%20%5B37.85262%2C%20-122.029087%5D%2C%20%5B35.220345%2C%20-112.27787%5D%2C%20%5B36.08051%2C%20-86.95494000000002%5D%2C%20%5B30.234716%2C%20-97.875763%5D%2C%20%5B30.44496%2C%20-91.007561%5D%2C%20%5B26.723738%2C%20-80.091286%5D%2C%20%5B40.428196%2C%20-74.22911500000002%5D%2C%20%5B27.872284000000004%2C%20-82.759132%5D%2C%20%5B34.301132%2C%20-118.477368%5D%2C%20%5B37.319928%2C%20-121.832774%5D%2C%20%5B42.696526%2C%20-87.953896%5D%2C%20%5B35.361671%2C%20-119.203255%5D%2C%20%5B37.65083%2C%20-77.61219%5D%2C%20%5B41.76078%2C%20-87.94481%5D%2C%20%5B43.183018%2C%20-88.10202%5D%2C%20%5B39.91404%2C%20-83.01729%5D%2C%20%5B34.072643%2C%20-80.98009499999998%5D%2C%20%5B39.227184%2C%20-77.282067%5D%2C%20%5B44.99639000000001%2C%20-93.08936%5D%2C%20%5B32.23565%2C%20-110.98449%5D%2C%20%5B43.03106%2C%20-124.08058%5D%2C%20%5B43.178022%2C%20-77.630338%5D%2C%20%5B42.771656%2C%20-74.098671%5D%2C%20%5B25.911468%2C%20-80.309278%5D%2C%20%5B39.918152%2C%20-82.832176%5D%2C%20%5B42.011936%2C%20-87.801338%5D%2C%20%5B41.80609000000001%2C%20-88.13242%5D%2C%20%5B34.267596999999995%2C%20-82.615089%5D%2C%20%5B32.770031%2C%20-117.13978600000002%5D%2C%20%5B33.63874000000001%2C%20-112.35941%5D%2C%20%5B35.084545%2C%20-85.072877%5D%2C%20%5B30.44429%2C%20-91.149601%5D%2C%20%5B35.045071%2C%20-81.97058100000002%5D%2C%20%5B34.07268%2C%20-118.05653%5D%2C%20%5B34.038419%2C%20-118.274012%5D%2C%20%5B25.942207%2C%20-80.351395%5D%2C%20%5B39.076008%2C%20-84.519424%5D%2C%20%5B34.141148%2C%20-80.948059%5D%2C%20%5B33.96747%2C%20-118.232838%5D%2C%20%5B39.58747%2C%20-76.67551%5D%2C%20%5B39.834358%2C%20-82.74427800000002%5D%2C%20%5B32.65807%2C%20-83.447273%5D%2C%20%5B26.095378%2C%20-80.363381%5D%2C%20%5B41.291318%2C%20-73.83135%5D%2C%20%5B37.70948%2C%20-122.467476%5D%2C%20%5B40.80179%2C%20-73.93004%5D%2C%20%5B40.953308%2C%20-76.464272%5D%2C%20%5B30.250101%2C%20-81.54207099999998%5D%2C%20%5B33.879541%2C%20-117.54503%5D%2C%20%5B35.597087%2C%20-80.860029%5D%2C%20%5B43.989913%2C%20-91.443059%5D%2C%20%5B37.428169%2C%20-122.10143%5D%2C%20%5B30.390683000000006%2C%20-97.551914%5D%2C%20%5B28.430185%2C%20-81.47496%5D%2C%20%5B33.68187%2C%20-112.20311%5D%2C%20%5B42.385448%2C%20-83.25574499999998%5D%2C%20%5B40.99074%2C%20-73.83926%5D%2C%20%5B34.155632000000004%2C%20-118.822334%5D%2C%20%5B40.02740900000001%2C%20-76.303688%5D%2C%20%5B29.483521000000003%2C%20-98.629959%5D%2C%20%5B35.541691%2C%20-97.601143%5D%2C%20%5B32.758966%2C%20-117.203661%5D%2C%20%5B47.51344%2C%20-122.19838%5D%2C%20%5B35.30573%2C%20-80.74985%5D%2C%20%5B36.162563%2C%20-95.79528%5D%2C%20%5B38.194656%2C%20-77.179947%5D%2C%20%5B32.827434999999994%2C%20-96.885971%5D%2C%20%5B45.259918%2C%20-92.983406%5D%2C%20%5B34.035912%2C%20-118.032059%5D%2C%20%5B40.77006%2C%20-73.56858000000003%5D%2C%20%5B37.73473%2C%20-122.40638%5D%2C%20%5B37.68668%2C%20-122.115074%5D%2C%20%5B38.549629%2C%20-90.424492%5D%2C%20%5B35.099785%2C%20-90.02877%5D%2C%20%5B42.396646%2C%20-82.98773%5D%2C%20%5B38.663628%2C%20-121.30855%5D%2C%20%5B37.639931%2C%20-77.491287%5D%2C%20%5B33.565922%2C%20-112.257248%5D%2C%20%5B34.00444%2C%20-118.4122%5D%2C%20%5B33.727%2C%20-84.50272%5D%2C%20%5B33.809749%2C%20-118.289155%5D%2C%20%5B26.94233%2C%20-80.15726%5D%2C%20%5B35.050238%2C%20-80.938822%5D%2C%20%5B32.7621%2C%20-117.163467%5D%2C%20%5B29.759089000000003%2C%20-95.351822%5D%2C%20%5B33.701347%2C%20-84.116447%5D%2C%20%5B34.240753000000005%2C%20-118.41841%5D%2C%20%5B29.007%2C%20-82.65950500000002%5D%2C%20%5B34.06736%2C%20-118.152736%5D%2C%20%5B34.06847%2C%20-117.861099%5D%2C%20%5B29.478109000000003%2C%20-98.58802%5D%2C%20%5B39.038688%2C%20-94.675205%5D%2C%20%5B42.332123%2C%20-88.123856%5D%2C%20%5B33.848286%2C%20-78.81893199999998%5D%2C%20%5B42.221951%2C%20-83.412727%5D%2C%20%5B40.226427%2C%20-85.860661%5D%2C%20%5B40.74708%2C%20-111.72466%5D%2C%20%5B31.305986%2C%20-81.480118%5D%2C%20%5B45.67316%2C%20-120.8305%5D%2C%20%5B35.7763%2C%20-117.871402%5D%2C%20%5B47.683044%2C%20-122.298645%5D%2C%20%5B35.752777%2C%20-78.649147%5D%2C%20%5B39.198631%2C%20-119.92807%5D%2C%20%5B30.38426%2C%20-91.128906%5D%2C%20%5B34.15571%2C%20-83.642252%5D%2C%20%5B43.14385%2C%20-77.7323%5D%2C%20%5B37.319966%2C%20-121.829613%5D%2C%20%5B34.900452%2C%20-81.920158%5D%2C%20%5B33.90357%2C%20-118.19394%5D%2C%20%5B34.891972%2C%20-82.29549399999998%5D%2C%20%5B41.81337%2C%20-71.408691%5D%2C%20%5B30.42258%2C%20-91.1347%5D%2C%20%5B25.990541%2C%20-80.165848%5D%2C%20%5B38.43119%2C%20-78.87406899999998%5D%2C%20%5B33.85448%2C%20-118.09514%5D%2C%20%5B38.76344%2C%20-90.04363000000002%5D%2C%20%5B42.607235%2C%20-71.325478%5D%2C%20%5B35.263657%2C%20-81.088753%5D%2C%20%5B35.227512%2C%20-80.833664%5D%2C%20%5B33.766865%2C%20-117.866989%5D%2C%20%5B37.807938%2C%20-122.304504%5D%2C%20%5B42.994215%2C%20-88.037832%5D%2C%20%5B35.85022700000001%2C%20-78.693832%5D%2C%20%5B45.505756%2C%20-122.78054%5D%2C%20%5B30.534086%2C%20-87.08854699999998%5D%2C%20%5B27.865287%2C%20-82.786928%5D%2C%20%5B40.846059%2C%20-73.930479%5D%2C%20%5B27.863204%2C%20-82.326679%5D%2C%20%5B45.242419%2C%20-93.667782%5D%2C%20%5B34.037515%2C%20-118.219722%5D%2C%20%5B33.91179%2C%20-117.44708%5D%2C%20%5B33.935405%2C%20-118.280342%5D%2C%20%5B39.83215%2C%20-83.002768%5D%2C%20%5B38.631763%2C%20-121.336719%5D%2C%20%5B34.076527%2C%20-86.66941800000002%5D%2C%20%5B36.503391%2C%20-119.561447%5D%2C%20%5B33.9739%2C%20-118.07995%5D%2C%20%5B29.827478000000006%2C%20-95.318764%5D%2C%20%5B42.7132%2C%20-73.82784000000002%5D%2C%20%5B33.978611%2C%20-118.127716%5D%2C%20%5B32.676121%2C%20-97.179581%5D%2C%20%5B39.483681%2C%20-76.252197%5D%2C%20%5B42.950037%2C%20-83.673539%5D%2C%20%5B38.943308%2C%20-76.91012099999998%5D%2C%20%5B32.822849%2C%20-96.595787%5D%2C%20%5B35.80734%2C%20-78.59886999999998%5D%2C%20%5B41.038311%2C%20-111.949417%5D%2C%20%5B33.700317%2C%20-84.08854699999998%5D%2C%20%5B43.015724%2C%20-83.71444699999998%5D%2C%20%5B38.356989%2C%20-77.032823%5D%2C%20%5B41.108776%2C%20-73.405991%5D%2C%20%5B29.135392%2C%20-82.137456%5D%2C%20%5B32.805511%2C%20-96.795921%5D%2C%20%5B39.20583%2C%20-76.68930999999998%5D%2C%20%5B34.259827%2C%20-118.330101%5D%2C%20%5B32.67083%2C%20-97.0625%5D%2C%20%5B30.423676%2C%20-91.075073%5D%2C%20%5B41.58271%2C%20-93.703415%5D%2C%20%5B42.999149%2C%20-85.688477%5D%2C%20%5B47.777718%2C%20-122.316063%5D%2C%20%5B34.059470000000005%2C%20-117.29772%5D%2C%20%5B33.821548%2C%20-84.359383%5D%2C%20%5B41.597317%2C%20-93.777204%5D%2C%20%5B33.675678999999995%2C%20-117.840641%5D%2C%20%5B37.64603%2C%20-98.739436%5D%2C%20%5B35.3525%2C%20-118.9825%5D%2C%20%5B25.954534%2C%20-80.245846%5D%2C%20%5B40.007622%2C%20-75.07299%5D%2C%20%5B41.024311%2C%20-74.262675%5D%2C%20%5B33.8541%2C%20-117.7949%5D%2C%20%5B28.575306%2C%20-81.43074%5D%2C%20%5B35.47880900000001%2C%20-97.521225%5D%2C%20%5B39.978958%2C%20-86.003648%5D%2C%20%5B36.414796%2C%20-86.72063399999998%5D%2C%20%5B28.209806%2C%20-82.732201%5D%2C%20%5B37.542803%2C%20-77.369227%5D%2C%20%5B47.54628%2C%20-122.326141%5D%2C%20%5B42.481931%2C%20-73.628364%5D%2C%20%5B30.152281%2C%20-97.731888%5D%2C%20%5B39.142283%2C%20-121.753961%5D%2C%20%5B37.617027%2C%20-122.154424%5D%2C%20%5B45.211126%2C%20-122.976571%5D%2C%20%5B34.02811%2C%20-117.754173%5D%2C%20%5B30.422092%2C%20-91.129938%5D%2C%20%5B40.84508%2C%20-73.9192%5D%2C%20%5B32.511645%2C%20-93.740018%5D%2C%20%5B38.240028%2C%20-78.9639%5D%2C%20%5B47.60231%2C%20-122.32943%5D%2C%20%5B35.146584000000004%2C%20-80.631065%5D%2C%20%5B41.87133%2C%20-87.754723%5D%2C%20%5B34.182673%2C%20-118.168684%5D%2C%20%5B42.477085%2C%20-83.095322%5D%2C%20%5B34.386728999999995%2C%20-117.412126%5D%2C%20%5B43.109051%2C%20-77.674538%5D%2C%20%5B28.359907%2C%20-80.79449699999998%5D%2C%20%5B33.56275%2C%20-96.60419%5D%2C%20%5B41.176472%2C%20-95.926498%5D%2C%20%5B42.780753%2C%20-122.484575%5D%2C%20%5B35.1795%2C%20-80.88503%5D%2C%20%5B40.006011%2C%20-122.092321%5D%2C%20%5B43.14674%2C%20-77.600166%5D%2C%20%5B34.735657%2C%20-82.115617%5D%2C%20%5B42.719551%2C%20-92.464569%5D%2C%20%5B33.993484%2C%20-117.931557%5D%2C%20%5B28.057587%2C%20-81.813751%5D%2C%20%5B34.08282%2C%20-117.632631%5D%2C%20%5B39.8431%2C%20-86.04181%5D%2C%20%5B41.879517%2C%20-87.62610600000002%5D%2C%20%5B26.272797%2C%20-81.720635%5D%2C%20%5B35.435268%2C%20-97.530197%5D%2C%20%5B42.48724%2C%20-87.95213000000003%5D%2C%20%5B37.838181%2C%20-122.296638%5D%2C%20%5B42.379845%2C%20-88.062759%5D%2C%20%5B33.720184%2C%20-117.971955%5D%2C%20%5B29.695129%2C%20-95.264679%5D%2C%20%5B38.617451%2C%20-121.352783%5D%2C%20%5B37.47065%2C%20-122.21366%5D%2C%20%5B43.25338%2C%20-123.35972%5D%2C%20%5B47.73233%2C%20-122.34508999999998%5D%2C%20%5B33.912144%2C%20-118.177517%5D%2C%20%5B37.265556%2C%20-88.73481%5D%2C%20%5B38.596533%2C%20-121.441988%5D%2C%20%5B40.660938%2C%20-122.62686399999998%5D%2C%20%5B32.749664%2C%20-96.891335%5D%2C%20%5B39.242962%2C%20-104.878609%5D%2C%20%5B33.689265%2C%20-117.91931%5D%2C%20%5B29.752705%2C%20-95.374458%5D%2C%20%5B37.99662%2C%20-122.07193999999998%5D%2C%20%5B28.475229%2C%20-81.367867%5D%2C%20%5B39.747555%2C%20-105.005325%5D%2C%20%5B36.962299%2C%20-121.547661%5D%2C%20%5B33.41812%2C%20-86.686406%5D%2C%20%5B27.748459000000004%2C%20-82.677429%5D%2C%20%5B35.5077%2C%20-82.99204%5D%2C%20%5B33.511438%2C%20-80.86104%5D%2C%20%5B30.113705%2C%20-81.513863%5D%2C%20%5B29.848728%2C%20-95.331787%5D%2C%20%5B45.067535%2C%20-93.247719%5D%2C%20%5B38.241712%2C%20-122.268981%5D%2C%20%5B28.06812%2C%20-82.761512%5D%2C%20%5B26.77816%2C%20-80.0985%5D%2C%20%5B39.096634%2C%20-77.15325899999998%5D%2C%20%5B47.62532%2C%20-122.33163%5D%2C%20%5B38.474298%2C%20-121.418912%5D%2C%20%5B33.43388%2C%20-111.890839%5D%2C%20%5B37.56864%2C%20-122.31147%5D%2C%20%5B42.041438%2C%20-121.870414%5D%2C%20%5B40.74159%2C%20-73.82313%5D%2C%20%5B38.7078%2C%20-75.55147%5D%2C%20%5B30.368822%2C%20-87.174164%5D%2C%20%5B36.801566%2C%20-121.665778%5D%2C%20%5B25.601998%2C%20-80.35269699999998%5D%2C%20%5B38.902709%2C%20-76.943612%5D%2C%20%5B25.85225%2C%20-80.20814%5D%2C%20%5B30.17761%2C%20-97.821581%5D%2C%20%5B28.450008%2C%20-81.477859%5D%2C%20%5B35.011228%2C%20-81.919094%5D%2C%20%5B39.311619%2C%20-120.495922%5D%2C%20%5B42.28242%2C%20-87.94614%5D%2C%20%5B33.999032%2C%20-80.49507%5D%2C%20%5B40.444241%2C%20-79.88797%5D%2C%20%5B41.64488%2C%20-72.67513000000002%5D%2C%20%5B41.99829%2C%20-88.02503%5D%2C%20%5B39.39257%2C%20-119.717781%5D%2C%20%5B34.420331%2C%20-119.597387%5D%2C%20%5B28.295240000000003%2C%20-80.722%5D%2C%20%5B40.85380900000001%2C%20-73.96324200000002%5D%2C%20%5B41.05766%2C%20-77.43401%5D%2C%20%5B33.63517%2C%20-117.8523%5D%2C%20%5B32.794182%2C%20-96.814751%5D%2C%20%5B37.896435%2C%20-121.641365%5D%2C%20%5B39.957242%2C%20-86.24461099999998%5D%2C%20%5B42.465599%2C%20-82.921257%5D%2C%20%5B37.50039%2C%20-121.92887%5D%2C%20%5B38.021929%2C%20-121.201118%5D%2C%20%5B36.152664%2C%20-79.710503%5D%2C%20%5B33.901878%2C%20-118.286894%5D%2C%20%5B41.911961%2C%20-73.767799%5D%2C%20%5B33.618301%2C%20-111.893158%5D%2C%20%5B35.14055%2C%20-80.93288000000003%5D%2C%20%5B39.019285%2C%20-76.976839%5D%2C%20%5B40.73308%2C%20-73.18159%5D%2C%20%5B35.005669%2C%20-85.209747%5D%2C%20%5B41.75934%2C%20-72.70014%5D%2C%20%5B45.115293%2C%20-121.523193%5D%2C%20%5B33.80444%2C%20-118.207367%5D%2C%20%5B37.149513%2C%20-120.51918%5D%2C%20%5B29.77081%2C%20-95.17375%5D%2C%20%5B25.963059%2C%20-80.154208%5D%2C%20%5B35.11786%2C%20-111.09577%5D%2C%20%5B34.360975%2C%20-118.50571200000002%5D%2C%20%5B45.546654%2C%20-122.782959%5D%2C%20%5B41.016701%2C%20-111.940931%5D%2C%20%5B34.062588%2C%20-118.248718%5D%2C%20%5B39.707214%2C%20-75.684448%5D%2C%20%5B38.541072%2C%20-121.475776%5D%2C%20%5B35.558489%2C%20-82.63226%5D%2C%20%5B30.267452%2C%20-97.748054%5D%2C%20%5B43.179558%2C%20-71.531151%5D%2C%20%5B32.907242%2C%20-96.920563%5D%2C%20%5B39.438904%2C%20-119.765266%5D%2C%20%5B36.46505%2C%20-86.68547%5D%2C%20%5B34.052017%2C%20-80.982834%5D%2C%20%5B38.70697%2C%20-90.33691%5D%2C%20%5B38.668344%2C%20-121.362151%5D%2C%20%5B39.140118%2C%20-77.70436099999998%5D%2C%20%5B33.960064%2C%20-118.280701%5D%2C%20%5B40.613529%2C%20-74.030243%5D%2C%20%5B33.436371%2C%20-82.176132%5D%2C%20%5B40.746658%2C%20-73.96934499999998%5D%2C%20%5B35.260979%2C%20-80.819649%5D%2C%20%5B34.02729%2C%20-84.0516%5D%2C%20%5B36.149429%2C%20-95.986168%5D%2C%20%5B27.388202000000003%2C%20-82.47063299999998%5D%2C%20%5B26.184045%2C%20-80.118351%5D%2C%20%5B38.868732%2C%20-77.308899%5D%2C%20%5B36.100849%2C%20-86.740089%5D%2C%20%5B37.694485%2C%20-122.056496%5D%2C%20%5B41.87534%2C%20-87.65185%5D%2C%20%5B33.46192%2C%20-112.09413%5D%2C%20%5B45.607151%2C%20-122.566803%5D%2C%20%5B37.689949%2C%20-97.314011%5D%2C%20%5B42.72574%2C%20-84.55037%5D%2C%20%5B41.90087%2C%20-87.66091999999998%5D%2C%20%5B30.443626%2C%20-91.178508%5D%2C%20%5B32.827728%2C%20-117.166129%5D%2C%20%5B39.75276%2C%20-86.22054%5D%2C%20%5B42.360931%2C%20-71.117767%5D%2C%20%5B40.497807%2C%20-79.943893%5D%2C%20%5B32.894493%2C%20-96.711494%5D%2C%20%5B40.92533%2C%20-74.71869000000002%5D%2C%20%5B39.814995%2C%20-74.930084%5D%2C%20%5B33.887463000000004%2C%20-118.104279%5D%2C%20%5B42.967384%2C%20-85.661865%5D%2C%20%5B40.071851%2C%20-111.66263%5D%2C%20%5B39.980175%2C%20-75.269287%5D%2C%20%5B34.082031%2C%20-80.940529%5D%2C%20%5B40.64959%2C%20-111.86753%5D%2C%20%5B34.017801%2C%20-118.281043%5D%2C%20%5B44.479099%2C%20-95.451599%5D%2C%20%5B29.706156%2C%20-95.41832%5D%2C%20%5B33.89131500000001%2C%20-118.36165%5D%2C%20%5B34.890565%2C%20-118.911923%5D%2C%20%5B33.846982000000004%2C%20-118.205352%5D%2C%20%5B43.215834%2C%20-77.44660999999998%5D%2C%20%5B34.340151%2C%20-83.847637%5D%2C%20%5B47.438275%2C%20-122.218228%5D%2C%20%5B33.95377%2C%20-86.586563%5D%2C%20%5B27.501251%2C%20-82.478042%5D%2C%20%5B27.821114%2C%20-82.67132600000002%5D%2C%20%5B28.05883%2C%20-81.81004300000002%5D%2C%20%5B32.871874%2C%20-96.679101%5D%2C%20%5B33.070419%2C%20-97.018898%5D%2C%20%5B30.218058000000006%2C%20-97.690598%5D%2C%20%5B37.17531%2C%20-94.33342%5D%2C%20%5B34.277976%2C%20-118.470178%5D%2C%20%5B38.885689%2C%20-77.156589%5D%2C%20%5B38.92099%2C%20-77.49727%5D%2C%20%5B38.575281%2C%20-121.5714%5D%2C%20%5B43.95503%2C%20-92.13387%5D%2C%20%5B36.900773%2C%20-121.59793%5D%2C%20%5B37.854485%2C%20-122.219765%5D%2C%20%5B30.301255%2C%20-97.839468%5D%2C%20%5B29.774387%2C%20-95.315201%5D%2C%20%5B40.6702%2C%20-75.132172%5D%2C%20%5B39.765827%2C%20-84.193558%5D%2C%20%5B32.966919%2C%20-96.786331%5D%2C%20%5B35.100975%2C%20-80.88044000000002%5D%2C%20%5B40.9771%2C%20-74.945564%5D%2C%20%5B39.25275%2C%20-84.36483%5D%2C%20%5B39.203819%2C%20-76.63020300000002%5D%2C%20%5B34.110045%2C%20-118.011784%5D%2C%20%5B36.044399%2C%20-86.657898%5D%2C%20%5B33.832284%2C%20-118.290289%5D%2C%20%5B27.999178000000004%2C%20-80.630798%5D%2C%20%5B33.585577%2C%20-84.37853100000002%5D%2C%20%5B34.842420000000004%2C%20-82.282737%5D%2C%20%5B28.093622%2C%20-82.74765%5D%2C%20%5B39.129463%2C%20-77.544188%5D%2C%20%5B34.782986%2C%20-86.939743%5D%2C%20%5B34.307888%2C%20-81.000237%5D%2C%20%5B37.954811%2C%20-122.508598%5D%2C%20%5B27.440275%2C%20-82.554764%5D%2C%20%5B39.643684%2C%20-75.812325%5D%2C%20%5B39.956558%2C%20-82.983078%5D%2C%20%5B40.983421%2C%20-73.7444%5D%2C%20%5B40.118267%2C%20-75.06813000000002%5D%2C%20%5B30.271918%2C%20-97.754962%5D%2C%20%5B30.5062%2C%20-91.13535%5D%2C%20%5B29.186784000000007%2C%20-82.206181%5D%2C%20%5B32.8631%2C%20-116.92298%5D%2C%20%5B35.667702%2C%20-97.567162%5D%2C%20%5B47.61953%2C%20-122.32821%5D%2C%20%5B39.94828%2C%20-83.01541999999998%5D%2C%20%5B43.04291%2C%20-76.09339%5D%2C%20%5B35.042801000000004%2C%20-80.986816%5D%2C%20%5B37.62854%2C%20-122.42807%5D%2C%20%5B38.456226%2C%20-121.94221%5D%2C%20%5B29.777251%2C%20-95.422579%5D%2C%20%5B37.73137%2C%20-122.42359%5D%2C%20%5B34.020674%2C%20-117.814417%5D%2C%20%5B41.809873%2C%20-90.567245%5D%2C%20%5B34.465698%2C%20-82.645149%5D%2C%20%5B28.456290000000006%2C%20-81.498847%5D%2C%20%5B39.88525%2C%20-75.10784%5D%2C%20%5B39.25961%2C%20-76.63507%5D%2C%20%5B45.29847%2C%20-93.79928%5D%2C%20%5B45.378593%2C%20-118.305893%5D%2C%20%5B41.345395%2C%20-72.259279%5D%2C%20%5B29.421974%2C%20-98.501862%5D%2C%20%5B39.230791%2C%20-123.09668899999998%5D%2C%20%5B45.009575%2C%20-93.076355%5D%2C%20%5B30.442556%2C%20-97.928589%5D%2C%20%5B34.890316%2C%20-82.40570799999998%5D%2C%20%5B42.502991%2C%20-71.12645%5D%2C%20%5B36.24754%2C%20-86.876816%5D%2C%20%5B42.768024%2C%20-78.54937199999998%5D%2C%20%5B34.899559%2C%20-82.337799%5D%2C%20%5B36.074989%2C%20-115.2426%5D%2C%20%5B33.928982%2C%20-81.03732%5D%2C%20%5B39.90022%2C%20-76.64007%5D%2C%20%5B34.057323%2C%20-118.165039%5D%2C%20%5B45.276358%2C%20-122.77233%5D%2C%20%5B25.732351%2C%20-80.384398%5D%2C%20%5B30.443373%2C%20-91.088608%5D%2C%20%5B30.35078%2C%20-97.676003%5D%2C%20%5B33.313621999999995%2C%20-80.551636%5D%2C%20%5B38.921349%2C%20-77.216629%5D%2C%20%5B30.451498%2C%20-91.112076%5D%2C%20%5B40.24838%2C%20-75.29519%5D%2C%20%5B30.193195000000006%2C%20-97.738899%5D%2C%20%5B34.027801000000004%2C%20-118.036841%5D%2C%20%5B30.387026%2C%20-97.648537%5D%2C%20%5B33.845721000000005%2C%20-117.958986%5D%2C%20%5B42.408714%2C%20-71.172005%5D%2C%20%5B33.92729%2C%20-118.26005%5D%2C%20%5B42.96364000000001%2C%20-87.94673%5D%2C%20%5B39.84492%2C%20-75.39289000000002%5D%2C%20%5B36.205711%2C%20-86.77658100000002%5D%2C%20%5B38.062279%2C%20-84.54340400000002%5D%2C%20%5B42.687531%2C%20-123.391968%5D%2C%20%5B33.636911%2C%20-78.991524%5D%2C%20%5B41.686996%2C%20-83.551804%5D%2C%20%5B42.396667%2C%20-82.987701%5D%2C%20%5B36.167389%2C%20-86.765671%5D%2C%20%5B41.844327%2C%20-87.64643000000002%5D%2C%20%5B34.148548%2C%20-118.067741%5D%2C%20%5B38.51077%2C%20-121.362691%5D%2C%20%5B37.701546%2C%20-121.904488%5D%2C%20%5B44.091806%2C%20-123.09982%5D%2C%20%5B28.181986%2C%20-82.740193%5D%2C%20%5B32.339979%2C%20-90.160052%5D%2C%20%5B38.412121%2C%20-122.794235%5D%2C%20%5B40.543589%2C%20-78.35205500000002%5D%2C%20%5B37.987408%2C%20-121.3444%5D%2C%20%5B30.410245%2C%20-91.104974%5D%2C%20%5B41.01914%2C%20-74.293595%5D%2C%20%5B37.530203%2C%20-122.002774%5D%2C%20%5B42.913246%2C%20-85.677734%5D%2C%20%5B33.69478%2C%20-84.40397%5D%2C%20%5B36.154629%2C%20-86.786346%5D%2C%20%5B34.00972%2C%20-117.4273%5D%2C%20%5B35.05912%2C%20-80.771915%5D%2C%20%5B37.253895%2C%20-121.88073%5D%2C%20%5B37.961868%2C%20-77.49095799999998%5D%2C%20%5B43.165516%2C%20-77.586548%5D%2C%20%5B45.647995%2C%20-122.616806%5D%2C%20%5B44.92693%2C%20-93.14396%5D%2C%20%5B38.42965%2C%20-122.74577%5D%2C%20%5B38.263069%2C%20-104.64399%5D%2C%20%5B40.363587%2C%20-111.789911%5D%2C%20%5B42.972214%2C%20-83.81145500000002%5D%2C%20%5B25.844236%2C%20-80.239632%5D%2C%20%5B29.821939%2C%20-95.526306%5D%2C%20%5B43.112713%2C%20-75.215187%5D%2C%20%5B35.612617%2C%20-97.478172%5D%2C%20%5B38.264782%2C%20-121.300079%5D%2C%20%5B34.029945%2C%20-118.442192%5D%2C%20%5B45.58047%2C%20-122.54358%5D%2C%20%5B34.134809999999995%2C%20-117.66313999999998%5D%2C%20%5B28.66075%2C%20-81.34198%5D%2C%20%5B43.33598%2C%20-89.45392%5D%2C%20%5B36.152111%2C%20-86.791634%5D%2C%20%5B44.869369%2C%20-122.896859%5D%2C%20%5B33.813396000000004%2C%20-84.04162600000002%5D%2C%20%5B38.532887%2C%20-90.311752%5D%2C%20%5B40.766733%2C%20-73.89585600000002%5D%2C%20%5B32.704224%2C%20-96.586266%5D%2C%20%5B28.36851%2C%20-81.3897%5D%2C%20%5B33.89613%2C%20-118.196678%5D%2C%20%5B30.189493%2C%20-97.787766%5D%2C%20%5B34.067539000000004%2C%20-117.556023%5D%2C%20%5B35.30068%2C%20-80.80181%5D%2C%20%5B39.07575%2C%20-77.00205%5D%2C%20%5B28.566866%2C%20-81.20766400000002%5D%2C%20%5B33.91293%2C%20-118.1393%5D%2C%20%5B35.339443%2C%20-119.039711%5D%2C%20%5B45.013554%2C%20-93.167046%5D%2C%20%5B32.44305%2C%20-93.703407%5D%2C%20%5B37.80648%2C%20-122.23777%5D%2C%20%5B38.884574%2C%20-77.012132%5D%2C%20%5B41.71325%2C%20-87.59934%5D%2C%20%5B35.729172%2C%20-78.83976%5D%2C%20%5B37.663879%2C%20-122.465851%5D%2C%20%5B34.506053%2C%20-117.83541%5D%2C%20%5B30.32206%2C%20-97.739349%5D%2C%20%5B33.130484%2C%20-117.122836%5D%2C%20%5B30.64892%2C%20-88.12113000000002%5D%2C%20%5B41.344711%2C%20-95.964355%5D%2C%20%5B36.884041%2C%20-119.979988%5D%2C%20%5B40.724113%2C%20-111.88824%5D%2C%20%5B34.516209%2C%20-118.330482%5D%2C%20%5B27.441442%2C%20-82.459602%5D%2C%20%5B40.10732%2C%20-74.89416999999997%5D%2C%20%5B36.39884%2C%20-87.01975999999998%5D%2C%20%5B41.421816%2C%20-81.722082%5D%2C%20%5B32.766403000000004%2C%20-96.914665%5D%2C%20%5B48.389118%2C%20-114.352169%5D%2C%20%5B39.953655%2C%20-82.962685%5D%2C%20%5B40.225406%2C%20-86.612626%5D%2C%20%5B33.831764%2C%20-118.208733%5D%2C%20%5B33.640518%2C%20-112.01815%5D%2C%20%5B43.060387%2C%20-89.52301%5D%2C%20%5B41.164945%2C%20-73.354371%5D%2C%20%5B40.162144%2C%20-75.12383299999998%5D%2C%20%5B37.32493%2C%20-122.00317%5D%2C%20%5B42.9427%2C%20-85.67734%5D%2C%20%5B42.378628000000006%2C%20-84.42916899999999%5D%2C%20%5B35.153053%2C%20-89.882286%5D%2C%20%5B40.009144%2C%20-75.284058%5D%2C%20%5B34.054253%2C%20-118.237843%5D%2C%20%5B28.175165000000003%2C%20-82.348206%5D%2C%20%5B33.853767%2C%20-117.90676%5D%2C%20%5B39.21661%2C%20-76.6566%5D%2C%20%5B44.54044%2C%20-88.025467%5D%2C%20%5B42.814362%2C%20-73.95636%5D%2C%20%5B34.054359000000005%2C%20-118.004349%5D%2C%20%5B32.735584%2C%20-97.434326%5D%2C%20%5B44.6456%2C%20-92.77229%5D%2C%20%5B40.682755%2C%20-111.462715%5D%2C%20%5B40.924741%2C%20-123.69111399999998%5D%2C%20%5B39.709896%2C%20-84.217079%5D%2C%20%5B40.310829%2C%20-111.72683700000002%5D%2C%20%5B37.584293%2C%20-77.496727%5D%2C%20%5B40.80343%2C%20-74.07316999999998%5D%2C%20%5B26.556309%2C%20-81.750229%5D%2C%20%5B38.76723%2C%20-90.77169%5D%2C%20%5B33.410603%2C%20-86.970055%5D%2C%20%5B30.21903%2C%20-97.757103%5D%2C%20%5B38.82872%2C%20-77.21907%5D%2C%20%5B38.11760200000001%2C%20-122.288864%5D%2C%20%5B33.939194%2C%20-117.15242%5D%2C%20%5B26.54191%2C%20-81.79479%5D%2C%20%5B26.25423%2C%20-80.13651999999998%5D%2C%20%5B35.28793%2C%20-80.85826999999998%5D%2C%20%5B43.49286%2C%20-121.67667%5D%2C%20%5B37.529089%2C%20-77.851312%5D%2C%20%5B39.01585%2C%20-77.0079%5D%2C%20%5B32.544136%2C%20-93.776024%5D%2C%20%5B39.59975900000001%2C%20-77.690258%5D%2C%20%5B29.781326%2C%20-95.536038%5D%2C%20%5B33.86937%2C%20-117.75076%5D%2C%20%5B43.001919%2C%20-87.893288%5D%2C%20%5B33.82734%2C%20-117.525752%5D%2C%20%5B38.774071%2C%20-90.317474%5D%2C%20%5B34.056166%2C%20-118.255995%5D%2C%20%5B32.718376%2C%20-117.105927%5D%2C%20%5B33.928833000000004%2C%20-118.294027%5D%2C%20%5B33.54959%2C%20-112.1123%5D%2C%20%5B40.13114%2C%20-74.96751%5D%2C%20%5B28.255506%2C%20-81.624483%5D%2C%20%5B29.834371%2C%20-95.60484%5D%2C%20%5B42.994517%2C%20-78.542435%5D%2C%20%5B39.205795%2C%20-76.641502%5D%2C%20%5B41.54805%2C%20-73.06737%5D%2C%20%5B40.694807%2C%20-74.26119399999997%5D%2C%20%5B34.57817%2C%20-92.58322%5D%2C%20%5B33.903672%2C%20-118.185528%5D%2C%20%5B40.841444%2C%20-81.403834%5D%2C%20%5B34.503571%2C%20-82.034973%5D%2C%20%5B38.861968%2C%20-77.87684200000002%5D%2C%20%5B41.890278%2C%20-87.959404%5D%2C%20%5B39.64148%2C%20-104.82877%5D%2C%20%5B30.924459%2C%20-88.517014%5D%2C%20%5B42.913059%2C%20-85.66598499999998%5D%2C%20%5B44.176866%2C%20-122.170582%5D%2C%20%5B34.015034%2C%20-117.086778%5D%2C%20%5B33.93463%2C%20-84.494%5D%2C%20%5B42.727859%2C%20-71.136871%5D%2C%20%5B38.74631%2C%20-90.33726%5D%2C%20%5B35.57341%2C%20-97.64415%5D%2C%20%5B29.261409000000004%2C%20-81.117435%5D%2C%20%5B38.884678%2C%20-77.223175%5D%2C%20%5B39.729904%2C%20-104.282647%5D%2C%20%5B42.18108400000001%2C%20-87.925972%5D%2C%20%5B34.180068%2C%20-118.3076%5D%2C%20%5B39.64592%2C%20-105.081467%5D%2C%20%5B29.84465%2C%20-95.520241%5D%2C%20%5B37.846771%2C%20-120.56002%5D%2C%20%5B36.845589%2C%20-76.252586%5D%2C%20%5B41.295891%2C%20-73.933647%5D%2C%20%5B39.845772%2C%20-75.711411%5D%2C%20%5B38.545731%2C%20-90.292795%5D%2C%20%5B29.549746000000006%2C%20-81.21619%5D%2C%20%5B39.030506%2C%20-77.126312%5D%2C%20%5B32.663963%2C%20-96.900864%5D%2C%20%5B41.524567%2C%20-90.513184%5D%2C%20%5B29.41783%2C%20-98.669296%5D%2C%20%5B34.340144%2C%20-118.519513%5D%2C%20%5B39.286568%2C%20-120.945396%5D%2C%20%5B42.237964%2C%20-122.770866%5D%2C%20%5B40.691647%2C%20-73.999306%5D%2C%20%5B30.295321%2C%20-87.442509%5D%2C%20%5B40.701725%2C%20-73.992233%5D%2C%20%5B34.096596000000005%2C%20-118.476944%5D%2C%20%5B35.19456500000001%2C%20-80.725688%5D%2C%20%5B40.257748%2C%20-76.835503%5D%2C%20%5B33.851116%2C%20-117.837715%5D%2C%20%5B32.400742%2C%20-86.21285999999998%5D%2C%20%5B32.433723%2C%20-83.30461899999997%5D%2C%20%5B34.067902000000004%2C%20-118.029144%5D%2C%20%5B33.815281%2C%20-118.290306%5D%2C%20%5B43.5974%2C%20-116.33441%5D%2C%20%5B36.15443%2C%20-86.76102%5D%2C%20%5B40.71166%2C%20-74.00395%5D%2C%20%5B33.928162%2C%20-118.238976%5D%2C%20%5B28.57991%2C%20-81.37501%5D%2C%20%5B40.234491%2C%20-75.338043%5D%2C%20%5B35.743732%2C%20-78.821556%5D%2C%20%5B30.342871%2C%20-97.703537%5D%2C%20%5B43.047176%2C%20-87.91873199999998%5D%2C%20%5B43.124819%2C%20-123.363766%5D%2C%20%5B34.506531%2C%20-84.918785%5D%2C%20%5B26.718931%2C%20-80.08979000000002%5D%2C%20%5B33.386177%2C%20-111.805252%5D%2C%20%5B37.74062%2C%20-121.50343%5D%2C%20%5B33.435749%2C%20-112.418167%5D%2C%20%5B34.055686%2C%20-118.451951%5D%2C%20%5B38.95588%2C%20-111.87316%5D%2C%20%5B38.452541%2C%20-121.378159%5D%2C%20%5B33.88406%2C%20-118.028946%5D%2C%20%5B35.78073300000001%2C%20-78.67553000000002%5D%2C%20%5B36.82925%2C%20-119.91394%5D%2C%20%5B34.137865000000005%2C%20-117.241239%5D%2C%20%5B38.56338%2C%20-121.49159%5D%2C%20%5B30.202721%2C%20-92.018234%5D%2C%20%5B37.50203%2C%20-76.87751800000002%5D%2C%20%5B44.09792%2C%20-123.15545%5D%2C%20%5B37.97967%2C%20-122.31737%5D%2C%20%5B32.70274000000001%2C%20-96.82516%5D%2C%20%5B40.087536%2C%20-82.98741899999997%5D%2C%20%5B32.813637%2C%20-97.413475%5D%2C%20%5B42.4877%2C%20-83.21249%5D%2C%20%5B44.97062%2C%20-93.29813%5D%2C%20%5B39.91217%2C%20-86.183983%5D%2C%20%5B33.982011%2C%20-118.418573%5D%2C%20%5B40.431224%2C%20-74.659064%5D%2C%20%5B44.804382%2C%20-93.190826%5D%2C%20%5B47.19777%2C%20-122.28149%5D%2C%20%5B33.82281%2C%20-84.49204%5D%2C%20%5B34.20557%2C%20-118.605957%5D%2C%20%5B40.14205%2C%20-82.97131%5D%2C%20%5B25.769722%2C%20-80.333529%5D%2C%20%5B38.05983%2C%20-122.13064%5D%2C%20%5B30.517277000000004%2C%20-87.21528599999998%5D%2C%20%5B34.033511%2C%20-118.221915%5D%2C%20%5B39.63479%2C%20-84.19911%5D%2C%20%5B41.42339000000001%2C%20-81.84749000000002%5D%2C%20%5B40.73171%2C%20-111.90476%5D%2C%20%5B32.33758%2C%20-111.0882%5D%2C%20%5B32.664970000000004%2C%20-117.07964%5D%2C%20%5B33.556977%2C%20-113.275641%5D%2C%20%5B37.717646%2C%20-121.532582%5D%2C%20%5B34.104626%2C%20-80.829453%5D%2C%20%5B34.042081%2C%20-81.11578100000001%5D%2C%20%5B36.131786%2C%20-86.727501%5D%2C%20%5B45.44623%2C%20-117.35248%5D%2C%20%5B36.13406%2C%20-95.949097%5D%2C%20%5B32.22007%2C%20-110.988464%5D%2C%20%5B41.93697%2C%20-88.08017%5D%2C%20%5B47.46886%2C%20-122.20892%5D%2C%20%5B30.036417%2C%20-89.911613%5D%2C%20%5B25.75511%2C%20-80.20205%5D%2C%20%5B36.120831%2C%20-86.703537%5D%2C%20%5B43.87934%2C%20-70.33354%5D%2C%20%5B30.404764%2C%20-91.081459%5D%2C%20%5B38.710158%2C%20-77.06241700000002%5D%2C%20%5B36.977882%2C%20-121.9105%5D%2C%20%5B37.53496%2C%20-122.0756%5D%2C%20%5B33.637348%2C%20-117.171051%5D%2C%20%5B42.321274%2C%20-71.103981%5D%2C%20%5B37.37284%2C%20-77.677229%5D%2C%20%5B42.998871%2C%20-85.615181%5D%2C%20%5B34.065708%2C%20-117.488853%5D%2C%20%5B39.05033%2C%20-94.47099%5D%2C%20%5B42.686382%2C%20-82.94948000000002%5D%2C%20%5B33.855875%2C%20-118.011955%5D%2C%20%5B33.710021999999995%2C%20-117.782456%5D%2C%20%5B34.040633%2C%20-118.076902%5D%2C%20%5B37.926841%2C%20-122.05741100000002%5D%2C%20%5B29.679291%2C%20-95.403168%5D%2C%20%5B34.119039%2C%20-118.162454%5D%2C%20%5B34.02922%2C%20-118.44598%5D%2C%20%5B37.892361%2C%20-122.307306%5D%2C%20%5B33.741828000000005%2C%20-84.420237%5D%2C%20%5B40.457699%2C%20-80.027512%5D%2C%20%5B33.595852%2C%20-86.3955%5D%2C%20%5B40.70538300000001%2C%20-74.245613%5D%2C%20%5B29.801842%2C%20-95.451691%5D%2C%20%5B35.346691%2C%20-119.0345%5D%2C%20%5B40.142483%2C%20-83.074753%5D%2C%20%5B38.575321%2C%20-77.315033%5D%2C%20%5B47.23557%2C%20-122.42481%5D%2C%20%5B37.511959%2C%20-77.46476700000002%5D%2C%20%5B36.206516%2C%20-86.77696999999998%5D%2C%20%5B42.947004%2C%20-77.61308299999997%5D%2C%20%5B25.897228%2C%20-80.30043%5D%2C%20%5B33.70985%2C%20-84.24579%5D%2C%20%5B41.23109%2C%20-73.06241999999997%5D%2C%20%5B42.669529%2C%20-73.74906899999998%5D%2C%20%5B33.889919%2C%20-118.32653%5D%2C%20%5B42.653202%2C%20-71.30654100000002%5D%2C%20%5B44.861725%2C%20-117.816635%5D%2C%20%5B37.549919%2C%20-122.293059%5D%2C%20%5B33.924333000000004%2C%20-118.02517%5D%2C%20%5B34.788895000000004%2C%20-83.05256700000002%5D%2C%20%5B45.751199%2C%20-92.991782%5D%2C%20%5B30.228903000000006%2C%20-97.179565%5D%2C%20%5B39.68241%2C%20-78.969362%5D%2C%20%5B33.623333%2C%20-84.399963%5D%2C%20%5B38.925107%2C%20-123.056284%5D%2C%20%5B33.842042%2C%20-118.286251%5D%2C%20%5B40.746941%2C%20-73.89533%5D%2C%20%5B42.914703%2C%20-83.72618100000003%5D%2C%20%5B41.16633%2C%20-73.20849%5D%2C%20%5B33.969992%2C%20-118.317734%5D%2C%20%5B41.29805%2C%20-83.509672%5D%2C%20%5B38.64336%2C%20-121.114883%5D%2C%20%5B40.72511%2C%20-74.23782%5D%2C%20%5B39.627151%2C%20-121.945992%5D%2C%20%5B41.846123%2C%20-87.97776800000003%5D%2C%20%5B33.838697%2C%20-118.088091%5D%2C%20%5B47.45562%2C%20-93.83148%5D%2C%20%5B40.680382%2C%20-80.098114%5D%2C%20%5B44.833385%2C%20-93.294823%5D%2C%20%5B38.714756%2C%20-121.466377%5D%2C%20%5B34.108036%2C%20-117.302757%5D%2C%20%5B33.387627%2C%20-117.5866%5D%2C%20%5B27.92771%2C%20-82.79554499999998%5D%2C%20%5B30.589340000000004%2C%20-97.692121%5D%2C%20%5B33.125024%2C%20-117.089954%5D%2C%20%5B38.889786%2C%20-76.9133%5D%2C%20%5B35.056923%2C%20-80.769661%5D%2C%20%5B33.94098%2C%20-117.23189%5D%2C%20%5B40.690842%2C%20-73.581177%5D%2C%20%5B44.73712%2C%20-68.62899%5D%2C%20%5B39.747829%2C%20-84.205978%5D%2C%20%5B36.937386%2C%20-80.994377%5D%2C%20%5B38.392399%2C%20-81.76979200000002%5D%2C%20%5B32.167374%2C%20-81.215393%5D%2C%20%5B29.802166%2C%20-95.372612%5D%2C%20%5B34.073061%2C%20-118.219156%5D%2C%20%5B35.299297%2C%20-78.59783900000002%5D%2C%20%5B34.780605%2C%20-86.582169%5D%2C%20%5B33.44112%2C%20-86.731071%5D%2C%20%5B34.02248%2C%20-117.552391%5D%2C%20%5B32.66981%2C%20-97.36352%5D%2C%20%5B41.016876%2C%20-73.867294%5D%2C%20%5B30.320751%2C%20-81.69289%5D%2C%20%5B41.799584%2C%20-87.86903000000002%5D%2C%20%5B30.117392%2C%20-82.655502%5D%2C%20%5B33.606262%2C%20-81.843491%5D%2C%20%5B40.506987%2C%20-74.393279%5D%2C%20%5B29.731792%2C%20-95.51413%5D%2C%20%5B30.311951%2C%20-97.708588%5D%2C%20%5B34.963429999999995%2C%20-82.02053000000002%5D%2C%20%5B40.76322%2C%20-73.08866%5D%2C%20%5B38.23502%2C%20-85.658737%5D%2C%20%5B39.946457%2C%20-82.94358100000002%5D%2C%20%5B33.710614%2C%20-117.188061%5D%2C%20%5B29.764065%2C%20-95.559265%5D%2C%20%5B38.482427%2C%20-121.387334%5D%2C%20%5B34.08726%2C%20-117.646955%5D%2C%20%5B35.79823%2C%20-78.48745%5D%2C%20%5B43.015751%2C%20-83.71443199999999%5D%2C%20%5B41.12419600000001%2C%20-73.70393%5D%2C%20%5B40.11887%2C%20-75.28653%5D%2C%20%5B33.457596%2C%20-112.32695%5D%2C%20%5B43.669445%2C%20-93.01683%5D%2C%20%5B39.487878%2C%20-86.015342%5D%2C%20%5B39.1987%2C%20-76.7011%5D%2C%20%5B35.31315%2C%20-80.70285%5D%2C%20%5B39.614182%2C%20-74.828629%5D%2C%20%5B40.921581%2C%20-73.809692%5D%2C%20%5B31.765881%2C%20-106.302338%5D%2C%20%5B34.187431%2C%20-118.321831%5D%2C%20%5B34.035717%2C%20-118.151451%5D%2C%20%5B42.337341%2C%20-83.124863%5D%2C%20%5B35.855236%2C%20-84.26879100000002%5D%2C%20%5B30.47245%2C%20-91.058029%5D%2C%20%5B37.942605%2C%20-122.477717%5D%2C%20%5B27.434866%2C%20-82.573689%5D%2C%20%5B37.477535%2C%20-76.913528%5D%2C%20%5B30.470665000000004%2C%20-91.010757%5D%2C%20%5B39.79573%2C%20-86.12058%5D%2C%20%5B25.902931%2C%20-80.235629%5D%2C%20%5B35.348766%2C%20-97.529968%5D%2C%20%5B40.77127%2C%20-73.561912%5D%2C%20%5B33.936188%2C%20-118.291923%5D%2C%20%5B42.30304%2C%20-83.11558000000002%5D%2C%20%5B34.098027%2C%20-117.925395%5D%2C%20%5B28.495827%2C%20-81.285352%5D%2C%20%5B34.18731%2C%20-118.32168%5D%2C%20%5B39.623741%2C%20-104.903946%5D%2C%20%5B41.895985%2C%20-70.947067%5D%2C%20%5B38.70536%2C%20-77.224014%5D%2C%20%5B43.164864%2C%20-77.563484%5D%2C%20%5B34.010563%2C%20-117.430028%5D%2C%20%5B36.845398%2C%20-86.460992%5D%2C%20%5B32.694457%2C%20-96.823092%5D%2C%20%5B36.129715%2C%20-96.007095%5D%2C%20%5B42.489033%2C%20-71.19091%5D%2C%20%5B34.012584999999994%2C%20-118.490646%5D%2C%20%5B34.392551%2C%20-118.472771%5D%2C%20%5B40.64135%2C%20-111.80848%5D%2C%20%5B33.848869%2C%20-84.430977%5D%2C%20%5B40.301918%2C%20-109.815742%5D%2C%20%5B37.290676%2C%20-76.674066%5D%2C%20%5B45.08633%2C%20-95.04291%5D%2C%20%5B32.916962%2C%20-96.743477%5D%2C%20%5B34.019791%2C%20-118.18045%5D%2C%20%5B42.34670300000001%2C%20-122.88478899999998%5D%2C%20%5B39.270962%2C%20-76.722089%5D%2C%20%5B45.832912%2C%20-93.29688%5D%2C%20%5B35.894394%2C%20-78.600151%5D%2C%20%5B40.941171%2C%20-73.87576999999997%5D%2C%20%5B29.601124%2C%20-95.216026%5D%2C%20%5B45.59439%2C%20-118.52468%5D%2C%20%5B25.764489%2C%20-80.261577%5D%2C%20%5B26.009893%2C%20-80.213104%5D%2C%20%5B33.748533%2C%20-117.811721%5D%2C%20%5B33.10873%2C%20-96.67483%5D%2C%20%5B43.141194%2C%20-77.663158%5D%2C%20%5B34.023540000000004%2C%20-118.1728%5D%2C%20%5B37.525874%2C%20-77.03712800000002%5D%2C%20%5B39.929004%2C%20-123.76134%5D%2C%20%5B34.087216%2C%20-117.660731%5D%2C%20%5B28.450012%2C%20-81.483435%5D%2C%20%5B26.546133%2C%20-81.883041%5D%2C%20%5B33.716137%2C%20-84.31047099999998%5D%2C%20%5B39.628441%2C%20-84.431198%5D%2C%20%5B35.721958%2C%20-78.54875200000002%5D%2C%20%5B32.833702%2C%20-117.169518%5D%2C%20%5B45.37529%2C%20-122.75561%5D%2C%20%5B29.893078000000006%2C%20-97.912514%5D%2C%20%5B37.687469%2C%20-122.472237%5D%2C%20%5B37.050526%2C%20-120.63501%5D%2C%20%5B44.82909%2C%20-93.29247%5D%2C%20%5B43.184731%2C%20-83.75425%5D%2C%20%5B36.96719%2C%20-119.52337%5D%2C%20%5B34.114288%2C%20-118.779648%5D%2C%20%5B34.569603%2C%20-118.687965%5D%2C%20%5B37.70135%2C%20-121.77021%5D%2C%20%5B33.876969%2C%20-118.344994%5D%2C%20%5B36.180565%2C%20-119.328513%5D%2C%20%5B38.689743%2C%20-121.540276%5D%2C%20%5B42.301849%2C%20-71.085564%5D%2C%20%5B32.50948%2C%20-84.99354%5D%2C%20%5B37.183044%2C%20-93.35442%5D%2C%20%5B37.736824%2C%20-76.522015%5D%2C%20%5B40.968842%2C%20-73.870529%5D%2C%20%5B41.519691%2C%20-74.021843%5D%2C%20%5B34.04797%2C%20-118.266563%5D%2C%20%5B43.558278%2C%20-71.802499%5D%2C%20%5B36.687222%2C%20-121.653333%5D%2C%20%5B35.878811%2C%20-79.798073%5D%2C%20%5B45.303021%2C%20-122.76909%5D%2C%20%5B43.016076%2C%20-83.456374%5D%2C%20%5B33.475555%2C%20-81.995041%5D%2C%20%5B34.206154%2C%20-84.761177%5D%2C%20%5B35.7784%2C%20-78.643463%5D%2C%20%5B30.25876%2C%20-85.542899%5D%2C%20%5B38.663927%2C%20-122.876243%5D%2C%20%5B42.242306%2C%20-71.027573%5D%2C%20%5B33.91175%2C%20-118.180134%5D%2C%20%5B40.64468%2C%20-75.00089%5D%2C%20%5B34.266663%2C%20-118.443047%5D%2C%20%5B44.99977%2C%20-123.99027%5D%2C%20%5B33.668440000000004%2C%20-112.18048%5D%2C%20%5B33.868990000000004%2C%20-117.73058%5D%2C%20%5B45.53598%2C%20-122.66773%5D%2C%20%5B47.47795%2C%20-122.62552%5D%2C%20%5B38.88192%2C%20-111.58122%5D%2C%20%5B29.599865%2C%20-95.266266%5D%2C%20%5B37.656319%2C%20-122.101479%5D%2C%20%5B33.95698%2C%20-84.51651%5D%2C%20%5B38.565395%2C%20-122.625786%5D%2C%20%5B38.36507%2C%20-120.798927%5D%2C%20%5B34.044898%2C%20-118.271033%5D%2C%20%5B31.742228000000004%2C%20-106.378091%5D%2C%20%5B32.742813%2C%20-97.109161%5D%2C%20%5B35.029331%2C%20-81.96729300000001%5D%2C%20%5B36.77161%2C%20-76.25742%5D%2C%20%5B30.51517%2C%20-91.02574%5D%2C%20%5B32.88451%2C%20-96.89817%5D%2C%20%5B42.384132%2C%20-83.314217%5D%2C%20%5B34.179325%2C%20-117.348953%5D%2C%20%5B41.10098%2C%20-73.57755300000002%5D%2C%20%5B44.44821%2C%20-121.1994%5D%2C%20%5B42.24455%2C%20-87.90151999999998%5D%2C%20%5B43.133129%2C%20-73.707352%5D%2C%20%5B33.835765%2C%20-117.30945%5D%2C%20%5B33.817966%2C%20-80.047791%5D%2C%20%5B32.30475%2C%20-109.385944%5D%2C%20%5B47.652622%2C%20-122.347359%5D%2C%20%5B33.359379%2C%20-80.592247%5D%2C%20%5B40.770996%2C%20-112.062866%5D%2C%20%5B35.450619%2C%20-97.54377%5D%2C%20%5B30.331841%2C%20-97.6931%5D%2C%20%5B30.506203000000006%2C%20-91.135437%5D%2C%20%5B45.127998%2C%20-93.356186%5D%2C%20%5B38.846886%2C%20-77.432068%5D%2C%20%5B36.83365300000001%2C%20-76.291376%5D%2C%20%5B33.83511%2C%20-84.19717%5D%2C%20%5B35.75988800000001%2C%20-78.728348%5D%2C%20%5B38.54591%2C%20-121.72606%5D%2C%20%5B33.915797999999995%2C%20-109.94271100000002%5D%2C%20%5B34.820625%2C%20-82.280388%5D%2C%20%5B45.724936%2C%20-123.199565%5D%2C%20%5B37.500946%2C%20-77.379372%5D%2C%20%5B36.177544%2C%20-86.753088%5D%2C%20%5B39.9199%2C%20-86.10661%5D%2C%20%5B35.71948%2C%20-81.69749%5D%2C%20%5B37.533667%2C%20-79.686851%5D%2C%20%5B35.797844%2C%20-78.646301%5D%2C%20%5B34.34429%2C%20-118.50495%5D%2C%20%5B34.500406%2C%20-118.12029%5D%2C%20%5B44.988931%2C%20-122.997241%5D%2C%20%5B34.961514%2C%20-82.06770300000002%5D%2C%20%5B32.72268%2C%20-111.51524%5D%2C%20%5B33.640229999999995%2C%20-112.0997%5D%2C%20%5B34.071811%2C%20-118.093167%5D%2C%20%5B45.36459%2C%20-122.759521%5D%2C%20%5B37.499943%2C%20-122.46789%5D%2C%20%5B38.296471%2C%20-122.120323%5D%2C%20%5B41.50986500000001%2C%20-74.074226%5D%2C%20%5B40.667114%2C%20-73.995918%5D%2C%20%5B33.912762%2C%20-118.326599%5D%2C%20%5B37.966255%2C%20-122.309402%5D%2C%20%5B43.175606%2C%20-76.116096%5D%2C%20%5B44.05437%2C%20-121.30704%5D%2C%20%5B30.372023%2C%20-81.76119200000002%5D%2C%20%5B38.033448%2C%20-120.271859%5D%2C%20%5B29.712795%2C%20-95.484756%5D%2C%20%5B42.352283%2C%20-123.55343700000002%5D%2C%20%5B35.52982100000001%2C%20-119.1898%5D%2C%20%5B34.894112%2C%20-80.80058299999997%5D%2C%20%5B32.358652%2C%20-86.24815799999998%5D%2C%20%5B29.496519%2C%20-98.420639%5D%2C%20%5B38.5229%2C%20-90.39564%5D%2C%20%5B33.817751%2C%20-79.479407%5D%2C%20%5B34.19511%2C%20-82.18084%5D%2C%20%5B40.546236%2C%20-112.29825%5D%2C%20%5B33.522488%2C%20-81.09878499999998%5D%2C%20%5B35.786831%2C%20-78.703079%5D%2C%20%5B25.670941%2C%20-80.414505%5D%2C%20%5B40.60948%2C%20-111.96816%5D%2C%20%5B34.96582%2C%20-82.44143000000003%5D%2C%20%5B37.44787700000001%2C%20-121.92153%5D%2C%20%5B35.75184%2C%20-78.6955%5D%2C%20%5B30.001369%2C%20-95.296913%5D%2C%20%5B33.465187%2C%20-112.358221%5D%2C%20%5B38.050758%2C%20-122.53118899999998%5D%2C%20%5B44.80735%2C%20-93.39808%5D%2C%20%5B45.144126%2C%20-93.3919%5D%2C%20%5B40.63084%2C%20-111.87953%5D%2C%20%5B43.01628%2C%20-85.69193%5D%2C%20%5B34.472611%2C%20-84.463176%5D%2C%20%5B25.817286%2C%20-80.20633199999997%5D%2C%20%5B26.26836%2C%20-81.74253%5D%2C%20%5B32.902562%2C%20-117.222383%5D%2C%20%5B45.49733%2C%20-122.622643%5D%2C%20%5B25.898326%2C%20-80.21014%5D%2C%20%5B38.810158%2C%20-90.874107%5D%2C%20%5B33.959915%2C%20-118.280754%5D%2C%20%5B30.23403%2C%20-97.864861%5D%2C%20%5B32.729187%2C%20-96.876831%5D%2C%20%5B43.913267%2C%20-95.019001%5D%2C%20%5B34.4795%2C%20-82.648354%5D%2C%20%5B37.408543%2C%20-122.070435%5D%2C%20%5B33.983307%2C%20-118.280341%5D%2C%20%5B28.876140000000003%2C%20-81.28299%5D%2C%20%5B34.051538%2C%20-118.099487%5D%2C%20%5B29.773304%2C%20-95.455948%5D%2C%20%5B42.370327%2C%20-87.855598%5D%2C%20%5B33.748383000000004%2C%20-84.385193%5D%2C%20%5B35.095688%2C%20-80.788764%5D%2C%20%5B40.47468%2C%20-74.40745%5D%2C%20%5B32.972427%2C%20-80.01925%5D%2C%20%5B33.950527%2C%20-80.990013%5D%2C%20%5B39.879221%2C%20-75.10271%5D%2C%20%5B37.565262%2C%20-77.803792%5D%2C%20%5B39.089735%2C%20-79.79852199999998%5D%2C%20%5B25.962293%2C%20-80.186512%5D%2C%20%5B35.057663%2C%20-81.15078000000003%5D%2C%20%5B39.46885%2C%20-77.40165%5D%2C%20%5B28.444099%2C%20-81.550363%5D%2C%20%5B29.182346000000006%2C%20-82.18464499999997%5D%2C%20%5B35.009026%2C%20-85.267972%5D%2C%20%5B41.873112%2C%20-71.39057199999998%5D%2C%20%5B34.12056%2C%20-117.73633%5D%2C%20%5B41.264126%2C%20-73.68420400000002%5D%2C%20%5B36.94968400000001%2C%20-86.424828%5D%2C%20%5B35.767857%2C%20-78.574066%5D%2C%20%5B27.960691%2C%20-82.763451%5D%2C%20%5B37.769344%2C%20-120.922951%5D%2C%20%5B43.173082%2C%20-123.36946100000002%5D%2C%20%5B39.1262%2C%20-84.54892%5D%2C%20%5B33.821323%2C%20-84.36752299999998%5D%2C%20%5B28.535063%2C%20-82.491562%5D%2C%20%5B34.032256%2C%20-117.32658899999998%5D%2C%20%5B38.862525%2C%20-77.06900999999998%5D%2C%20%5B28.66436%2C%20-81.38871999999998%5D%2C%20%5B40.51902000000001%2C%20-79.501591%5D%2C%20%5B43.760658%2C%20-93.927279%5D%2C%20%5B39.780087%2C%20-104.940689%5D%2C%20%5B41.864353%2C%20-88.562096%5D%2C%20%5B30.403763%2C%20-97.853981%5D%2C%20%5B40.667068%2C%20-73.995766%5D%2C%20%5B32.87947800000001%2C%20-80.71624%5D%2C%20%5B37.541409%2C%20-77.434719%5D%2C%20%5B33.28502%2C%20-111.7555%5D%2C%20%5B34.08701%2C%20-117.68588%5D%2C%20%5B37.25322%2C%20-121.78909%5D%2C%20%5B34.05825%2C%20-118.244422%5D%2C%20%5B28.601891%2C%20-81.31746700000002%5D%2C%20%5B25.898827%2C%20-80.209969%5D%2C%20%5B38.798714%2C%20-77.60237099999998%5D%2C%20%5B45.276358%2C%20-122.77233%5D%2C%20%5B27.47971%2C%20-82.4669%5D%2C%20%5B41.903039%2C%20-88.07174300000001%5D%2C%20%5B38.892124%2C%20-76.846939%5D%2C%20%5B35.303181%2C%20-119.047826%5D%2C%20%5B41.831748%2C%20-87.63110400000002%5D%2C%20%5B37.813276%2C%20-122.250871%5D%2C%20%5B36.680794%2C%20-82.035675%5D%2C%20%5B33.98979%2C%20-117.350057%5D%2C%20%5B39.021%2C%20-76.46283000000003%5D%2C%20%5B41.62043%2C%20-87.57885999999998%5D%2C%20%5B37.701073%2C%20-121.844093%5D%2C%20%5B37.80811%2C%20-122.36719%5D%2C%20%5B42.995362%2C%20-77.36031%5D%2C%20%5B30.169149%2C%20-97.738579%5D%2C%20%5B37.71094%2C%20-120.959981%5D%2C%20%5B41.98582800000001%2C%20-88.14359499999998%5D%2C%20%5B34.000071000000005%2C%20-118.409001%5D%2C%20%5B34.9105%2C%20-80.813011%5D%2C%20%5B39.812519%2C%20-85.1717%5D%2C%20%5B35.22312%2C%20-80.84037%5D%2C%20%5B33.767231%2C%20-117.9216%5D%2C%20%5B37.58567%2C%20-77.425987%5D%2C%20%5B41.431635%2C%20-112.057607%5D%2C%20%5B36.131943%2C%20-86.77424599999998%5D%2C%20%5B33.868759999999995%2C%20-118.19536%5D%2C%20%5B42.98437%2C%20-85.60477%5D%2C%20%5B28.51199%2C%20-81.394447%5D%2C%20%5B33.555692%2C%20-117.672801%5D%2C%20%5B33.67287%2C%20-112.024766%5D%2C%20%5B34.02196%2C%20-117.813129%5D%2C%20%5B39.101599%2C%20-84.519723%5D%2C%20%5B42.26264000000001%2C%20-83.17636999999998%5D%2C%20%5B40.779134%2C%20-77.763297%5D%2C%20%5B33.31473%2C%20-111.89447%5D%2C%20%5B44.95231%2C%20-93.048309%5D%2C%20%5B45.690282%2C%20-118.927699%5D%2C%20%5B37.7768%2C%20-122.236139%5D%2C%20%5B38.631657%2C%20-121.328201%5D%2C%20%5B35.274219%2C%20-120.709421%5D%2C%20%5B44.950966%2C%20-93.106316%5D%2C%20%5B38.893683%2C%20-104.719506%5D%2C%20%5B34.75605%2C%20-86.63938900000002%5D%2C%20%5B25.499947%2C%20-80.412376%5D%2C%20%5B35.809811%2C%20-78.705566%5D%2C%20%5B36.16500900000001%2C%20-86.818665%5D%2C%20%5B42.15377%2C%20-88.02275999999998%5D%2C%20%5B34.21732%2C%20-117.291127%5D%2C%20%5B34.262315%2C%20-118.441733%5D%2C%20%5B40.43737%2C%20-74.14208%5D%2C%20%5B34.272926%2C%20-118.35741000000002%5D%2C%20%5B34.119682%2C%20-117.757531%5D%2C%20%5B34.067795000000004%2C%20-117.557999%5D%2C%20%5B33.208866%2C%20-111.755409%5D%2C%20%5B39.711467%2C%20-121.79719%5D%2C%20%5B39.5942%2C%20-76.671341%5D%2C%20%5B40.705107%2C%20-74.14779%5D%2C%20%5B32.752018%2C%20-88.081039%5D%2C%20%5B38.480118%2C%20-121.549423%5D%2C%20%5B36.17691%2C%20-86.774551%5D%2C%20%5B33.753129%2C%20-84.462698%5D%2C%20%5B40.379356%2C%20-74.579628%5D%2C%20%5B36.725029%2C%20-121.789468%5D%2C%20%5B25.683923%2C%20-80.416415%5D%2C%20%5B37.703251%2C%20-122.471291%5D%2C%20%5B25.625367%2C%20-80.44519%5D%2C%20%5B35.30573%2C%20-80.74985%5D%2C%20%5B41.218571%2C%20-111.970528%5D%2C%20%5B33.996323%2C%20-117.840052%5D%2C%20%5B32.287689%2C%20-90.227669%5D%2C%20%5B38.564048%2C%20-121.382681%5D%2C%20%5B37.46562%2C%20-77.38288%5D%2C%20%5B38.582075%2C%20-121.462976%5D%2C%20%5B39.766277%2C%20-104.973625%5D%2C%20%5B30.355984000000007%2C%20-81.667351%5D%2C%20%5B34.12534%2C%20-118.47652%5D%2C%20%5B29.960556%2C%20-95.547798%5D%2C%20%5B27.95593%2C%20-82.46595%5D%2C%20%5B42.42128%2C%20-123.11945%5D%2C%20%5B45.344148%2C%20-118.121169%5D%2C%20%5B39.566185%2C%20-105.091599%5D%2C%20%5B41.26136%2C%20-96.158051%5D%2C%20%5B37.770916%2C%20-122.405716%5D%2C%20%5B33.522617%2C%20-82.048416%5D%2C%20%5B28.568739%2C%20-81.22393000000002%5D%2C%20%5B33.521538%2C%20-82.018501%5D%2C%20%5B35.85814699999999%2C%20-86.831802%5D%2C%20%5B40.68113%2C%20-73.69403%5D%2C%20%5B29.691767%2C%20-95.325928%5D%2C%20%5B33.959747%2C%20-117.85718500000002%5D%2C%20%5B29.69565%2C%20-95.30007%5D%2C%20%5B26.331472%2C%20-81.750259%5D%2C%20%5B37.72885%2C%20-121.94449%5D%2C%20%5B42.061062%2C%20-88.32713299999998%5D%2C%20%5B39.72558%2C%20-105.09092%5D%2C%20%5B33.38582%2C%20-111.89865%5D%2C%20%5B37.8111%2C%20-122.24948%5D%2C%20%5B43.05877%2C%20-71.47100999999998%5D%2C%20%5B33.447689000000004%2C%20-117.135948%5D%2C%20%5B38.763794%2C%20-76.882699%5D%2C%20%5B42.791626%2C%20-73.761429%5D%2C%20%5B42.559055%2C%20-73.679688%5D%2C%20%5B33.867785999999995%2C%20-118.28481%5D%2C%20%5B42.014816%2C%20-88.336372%5D%2C%20%5B34.037817%2C%20-118.27961%5D%2C%20%5B33.901691%2C%20-84.473511%5D%2C%20%5B39.76101%2C%20-84.20016%5D%2C%20%5B38.556999%2C%20-77.340427%5D%2C%20%5B36.074974%2C%20-86.75901800000003%5D%2C%20%5B38.294884%2C%20-85.629192%5D%2C%20%5B32.717252%2C%20-117.114118%5D%2C%20%5B33.47098%2C%20-112.11226%5D%2C%20%5B26.461884%2C%20-80.08886%5D%2C%20%5B38.827638%2C%20-76.878033%5D%2C%20%5B32.76023%2C%20-117.19198%5D%2C%20%5B35.223324%2C%20-80.62908900000002%5D%2C%20%5B28.421276%2C%20-81.405528%5D%2C%20%5B30.652037%2C%20-87.761074%5D%2C%20%5B35.19082%2C%20-114.067247%5D%2C%20%5B44.86223%2C%20-93.2298%5D%2C%20%5B39.18992%2C%20-94.61093%5D%2C%20%5B32.192027%2C%20-110.843828%5D%2C%20%5B25.673859%2C%20-80.32019%5D%2C%20%5B33.29209%2C%20-111.99714%5D%2C%20%5B45.58263%2C%20-122.719437%5D%2C%20%5B32.77879%2C%20-96.782021%5D%2C%20%5B43.66549000000001%2C%20-93.57184%5D%2C%20%5B30.23033%2C%20-97.788048%5D%2C%20%5B41.95352000000001%2C%20-87.85664%5D%2C%20%5B34.266121000000005%2C%20-118.475998%5D%2C%20%5B34.065717%2C%20-118.24229%5D%2C%20%5B41.816353%2C%20-72.65338100000002%5D%2C%20%5B39.27877%2C%20-77.32172%5D%2C%20%5B34.154874%2C%20-118.648878%5D%2C%20%5B42.34106%2C%20-87.96363000000002%5D%2C%20%5B26.33065%2C%20-81.805756%5D%2C%20%5B26.3124%2C%20-80.11719000000002%5D%2C%20%5B33.989334%2C%20-117.549545%5D%2C%20%5B33.136669%2C%20-117.170181%5D%2C%20%5B35.413792%2C%20-80.87271899999998%5D%2C%20%5B40.84609%2C%20-73.930366%5D%2C%20%5B34.138290000000005%2C%20-118.723228%5D%2C%20%5B33.893555%2C%20-118.04689%5D%2C%20%5B34.425415%2C%20-119.720184%5D%2C%20%5B29.863583%2C%20-95.429436%5D%2C%20%5B39.08901%2C%20-84.47495%5D%2C%20%5B44.847803000000006%2C%20-93.059492%5D%2C%20%5B36.14658%2C%20-86.595619%5D%2C%20%5B33.761913%2C%20-116.910194%5D%2C%20%5B27.098785%2C%20-82.155411%5D%2C%20%5B34.392544%2C%20-118.472767%5D%2C%20%5B38.79594%2C%20-90.65683%5D%2C%20%5B30.323515000000004%2C%20-97.723839%5D%2C%20%5B34.03265%2C%20-118.26385%5D%2C%20%5B40.006489%2C%20-75.19381%5D%2C%20%5B40.634449%2C%20-122.561256%5D%2C%20%5B37.86472%2C%20-122.3033%5D%2C%20%5B33.776636%2C%20-117.900809%5D%2C%20%5B41.115292%2C%20-74.108136%5D%2C%20%5B29.44963%2C%20-98.63276%5D%2C%20%5B25.769807%2C%20-80.328231%5D%2C%20%5B33.662659999999995%2C%20-112.11724%5D%2C%20%5B37.88554%2C%20-122.055344%5D%2C%20%5B39.158756%2C%20-76.718475%5D%2C%20%5B28.508842%2C%20-81.4188%5D%2C%20%5B44.986921%2C%20-93.238509%5D%2C%20%5B34.107994%2C%20-118.258446%5D%2C%20%5B26.93358%2C%20-80.14788100000001%5D%2C%20%5B29.99157%2C%20-90.05363299999998%5D%2C%20%5B37.76965%2C%20-122.417778%5D%2C%20%5B34.02427%2C%20-117.74465%5D%2C%20%5B40.820418%2C%20-74.119537%5D%2C%20%5B38.707085%2C%20-121.309593%5D%2C%20%5B30.44899%2C%20-91.017118%5D%2C%20%5B37.519981%2C%20-122.354561%5D%2C%20%5B33.964535%2C%20-118.065842%5D%2C%20%5B33.74319000000001%2C%20-117.11921%5D%2C%20%5B43.02938%2C%20-112.4079%5D%2C%20%5B33.451401000000004%2C%20-112.136681%5D%2C%20%5B41.103986%2C%20-73.80801%5D%2C%20%5B39.37565%2C%20-76.45211%5D%2C%20%5B37.7721%2C%20-122.22485%5D%2C%20%5B33.41097%2C%20-112.003809%5D%2C%20%5B33.866746%2C%20-117.711458%5D%2C%20%5B35.35634%2C%20-119.03936000000002%5D%2C%20%5B27.98259%2C%20-82.72948000000002%5D%2C%20%5B44.862247%2C%20-93.247345%5D%2C%20%5B42.43923%2C%20-83.0949%5D%2C%20%5B34.424137%2C%20-82.046661%5D%2C%20%5B45.065414%2C%20-93.201782%5D%2C%20%5B33.7369%2C%20-84.391853%5D%2C%20%5B33.980793%2C%20-118.42466%5D%2C%20%5B34.054747%2C%20-118.257076%5D%2C%20%5B37.535477%2C%20-77.429688%5D%2C%20%5B34.975307%2C%20-81.98423000000003%5D%2C%20%5B42.76631%2C%20-76.1188%5D%2C%20%5B33.97417%2C%20-84.47962%5D%2C%20%5B38.829887%2C%20-77.113419%5D%2C%20%5B39.935162%2C%20-75.253691%5D%2C%20%5B39.747406%2C%20-84.239487%5D%2C%20%5B42.080681%2C%20-88.335991%5D%2C%20%5B33.930969%2C%20-118.309067%5D%2C%20%5B34.607323%2C%20-82.113007%5D%2C%20%5B39.407123%2C%20-123.726949%5D%2C%20%5B37.520791%2C%20-122.264224%5D%2C%20%5B41.390369%2C%20-73.59796899999998%5D%2C%20%5B34.139904%2C%20-80.914017%5D%2C%20%5B29.61257%2C%20-82.38243%5D%2C%20%5B41.480068%2C%20-72.769722%5D%2C%20%5B30.749451%2C%20-88.225647%5D%2C%20%5B35.092087%2C%20-80.933495%5D%2C%20%5B38.617779%2C%20-121.380432%5D%2C%20%5B40.68298%2C%20-73.80592299999998%5D%2C%20%5B36.061814%2C%20-91.00384%5D%2C%20%5B33.8267%2C%20-118.20787%5D%2C%20%5B40.560509%2C%20-89.62648%5D%2C%20%5B43.006893%2C%20-83.743202%5D%2C%20%5B37.982452%2C%20-121.746491%5D%2C%20%5B41.665798%2C%20-70.827652%5D%2C%20%5B42.467075%2C%20-72.616127%5D%2C%20%5B38.520755%2C%20-109.495884%5D%2C%20%5B40.758301%2C%20-73.622957%5D%2C%20%5B43.730343%2C%20-122.382814%5D%2C%20%5B34.40155%2C%20-112.235023%5D%2C%20%5B33.115786%2C%20-117.099334%5D%2C%20%5B34.0412%2C%20-118.06911%5D%2C%20%5B38.865279%2C%20-77.328068%5D%2C%20%5B41.76981%2C%20-72.67408%5D%2C%20%5B32.76794%2C%20-117.14472%5D%2C%20%5B38.617943%2C%20-121.401381%5D%2C%20%5B47.289536%2C%20-122.306915%5D%2C%20%5B37.728043%2C%20-113.052917%5D%2C%20%5B39.29918%2C%20-76.53072%5D%2C%20%5B41.890514%2C%20-87.962158%5D%2C%20%5B35.717232%2C%20-78.84184300000003%5D%2C%20%5B45.54441%2C%20-122.4026%5D%2C%20%5B28.753727%2C%20-82.102226%5D%2C%20%5B38.243259%2C%20-85.621872%5D%2C%20%5B35.158096%2C%20-89.894417%5D%2C%20%5B37.460377%2C%20-122.140938%5D%2C%20%5B45.488697%2C%20-122.682755%5D%2C%20%5B32.301491%2C%20-111.032692%5D%2C%20%5B39.80191%2C%20-86.16606%5D%2C%20%5B44.947155%2C%20-93.040314%5D%2C%20%5B38.626719%2C%20-121.383055%5D%2C%20%5B33.949665%2C%20-118.091896%5D%2C%20%5B47.718547%2C%20-92.866691%5D%2C%20%5B33.35623%2C%20-111.89454%5D%2C%20%5B33.318512%2C%20-80.548149%5D%2C%20%5B33.597840000000005%2C%20-117.67642%5D%2C%20%5B41.572622%2C%20-72.65203000000002%5D%2C%20%5B34.049556%2C%20-118.22231399999998%5D%2C%20%5B34.435982%2C%20-83.631851%5D%2C%20%5B32.43766%2C%20-93.797409%5D%2C%20%5B27.82849%2C%20-82.63859000000002%5D%2C%20%5B33.82594%2C%20-118.23702%5D%2C%20%5B34.707005%2C%20-86.672043%5D%2C%20%5B32.99865%2C%20-80.093887%5D%2C%20%5B38.788091%2C%20-119.94643700000002%5D%2C%20%5B30.396549%2C%20-91.087753%5D%2C%20%5B43.045624%2C%20-88.047379%5D%2C%20%5B29.832533%2C%20-95.523666%5D%2C%20%5B38.296635%2C%20-77.48285600000001%5D%2C%20%5B41.266579%2C%20-96.215607%5D%2C%20%5B28.542015000000006%2C%20-81.44696%5D%2C%20%5B33.883105%2C%20-116.99083600000002%5D%2C%20%5B32.84662%2C%20-96.63736%5D%2C%20%5B34.304909%2C%20-118.4776%5D%2C%20%5B33.37141%2C%20-84.568748%5D%2C%20%5B45.775641%2C%20-118.548864%5D%2C%20%5B38.798498%2C%20-77.562038%5D%2C%20%5B41.72707%2C%20-72.76241%5D%2C%20%5B38.649029%2C%20-121.312813%5D%2C%20%5B30.481504%2C%20-81.643828%5D%2C%20%5B34.757477%2C%20-92.262411%5D%2C%20%5B33.982234000000005%2C%20-118.394946%5D%2C%20%5B29.793190000000006%2C%20-95.52225%5D%2C%20%5B34.935091%2C%20-82.282524%5D%2C%20%5B33.730740000000004%2C%20-117.39961%5D%2C%20%5B39.013302%2C%20-77.371651%5D%2C%20%5B37.068882%2C%20-122.08358%5D%2C%20%5B34.029792%2C%20-117.712334%5D%2C%20%5B38.51038%2C%20-121.46457%5D%2C%20%5B42.780762%2C%20-86.19641899999998%5D%2C%20%5B36.754844%2C%20-119.753959%5D%2C%20%5B35.507671%2C%20-97.476669%5D%2C%20%5B29.404608000000003%2C%20-98.61644%5D%2C%20%5B34.44885%2C%20-117.36289%5D%2C%20%5B28.337338%2C%20-81.402274%5D%2C%20%5B33.854287%2C%20-117.79512%5D%2C%20%5B35.1108%2C%20-85.22932%5D%2C%20%5B35.174122%2C%20-82.403442%5D%2C%20%5B39.725685%2C%20-105.02523%5D%2C%20%5B35.140553000000004%2C%20-80.784935%5D%2C%20%5B35.939464%2C%20-78.561901%5D%2C%20%5B47.63895%2C%20-122.32261%5D%2C%20%5B35.112883000000004%2C%20-85.255891%5D%2C%20%5B41.236149%2C%20-73.187248%5D%2C%20%5B45.635168%2C%20-120.914127%5D%2C%20%5B40.526779%2C%20-111.890976%5D%2C%20%5B33.878695%2C%20-118.284759%5D%2C%20%5B42.642895%2C%20-71.23195600000003%5D%2C%20%5B34.134809999999995%2C%20-117.66526%5D%2C%20%5B32.911751%2C%20-96.880058%5D%2C%20%5B40.71954%2C%20-111.86471%5D%2C%20%5B29.744165%2C%20-95.361115%5D%2C%20%5B32.310108%2C%20-90.163574%5D%2C%20%5B33.417%2C%20-79.284401%5D%2C%20%5B33.951640999999995%2C%20-80.49713100000002%5D%2C%20%5B48.34502%2C%20-122.33626%5D%2C%20%5B31.794809000000004%2C%20-106.356697%5D%2C%20%5B45.093408%2C%20-93.762342%5D%2C%20%5B32.66706%2C%20-97.35158%5D%2C%20%5B27.298890000000004%2C%20-82.44556%5D%2C%20%5B42.74103%2C%20-84.61332900000002%5D%2C%20%5B32.719741%2C%20-117.081681%5D%2C%20%5B37.16062%2C%20-93.31643%5D%2C%20%5B31.761871000000006%2C%20-106.491175%5D%2C%20%5B45.38435%2C%20-122.81712%5D%2C%20%5B37.83691%2C%20-92.0967%5D%2C%20%5B38.380219%2C%20-121.365672%5D%2C%20%5B37.31453%2C%20-121.82792%5D%2C%20%5B41.06550900000001%2C%20-111.968769%5D%2C%20%5B41.874363%2C%20-88.02922099999998%5D%2C%20%5B39.299541%2C%20-119.520653%5D%2C%20%5B40.70401%2C%20-73.817543%5D%2C%20%5B32.840801%2C%20-80.262917%5D%2C%20%5B33.2724%2C%20-79.89595%5D%2C%20%5B43.002467%2C%20-83.772707%5D%2C%20%5B33.89723%2C%20-117.49285%5D%2C%20%5B36.92318%2C%20-121.81189%5D%2C%20%5B40.68062000000001%2C%20-73.80455%5D%2C%20%5B37.766975%2C%20-121.733154%5D%2C%20%5B37.57435200000001%2C%20-77.40211500000002%5D%2C%20%5B33.916543%2C%20-79.47049399999999%5D%2C%20%5B44.964855%2C%20-93.285881%5D%2C%20%5B46.841389%2C%20-123.239861%5D%2C%20%5B33.750874%2C%20-84.444908%5D%2C%20%5B36.59379600000001%2C%20-121.873923%5D%2C%20%5B34.831409%2C%20-82.299263%5D%2C%20%5B30.06851%2C%20-95.216133%5D%2C%20%5B40.929455%2C%20-73.84833499999998%5D%2C%20%5B39.349304%2C%20-112.080704%5D%2C%20%5B34.14865%2C%20-118.05401%5D%2C%20%5B29.7092%2C%20-95.2994%5D%2C%20%5B44.973531%2C%20-93.249689%5D%2C%20%5B30.432195%2C%20-86.859351%5D%2C%20%5B33.853939000000004%2C%20-117.906784%5D%2C%20%5B40.572918%2C%20-74.137039%5D%2C%20%5B34.153690000000005%2C%20-118.32574%5D%2C%20%5B26.634911%2C%20-81.803085%5D%2C%20%5B39.78286%2C%20-104.98899%5D%2C%20%5B32.864239000000005%2C%20-96.700485%5D%2C%20%5B27.806067%2C%20-82.67945999999998%5D%2C%20%5B43.873461%2C%20-117.530761%5D%2C%20%5B32.77691%2C%20-96.78501%5D%2C%20%5B42.32001%2C%20-122.958844%5D%2C%20%5B38.89672%2C%20-104.842626%5D%2C%20%5B38.65975%2C%20-80.7373%5D%2C%20%5B37.599655%2C%20-77.449883%5D%2C%20%5B32.414417%2C%20-93.814704%5D%2C%20%5B34.34063%2C%20-118.52116%5D%2C%20%5B33.423672%2C%20-112.047867%5D%2C%20%5B33.462115999999995%2C%20-112.037498%5D%2C%20%5B25.824372%2C%20-80.369821%5D%2C%20%5B37.65864000000001%2C%20-77.45645999999998%5D%2C%20%5B26.43784%2C%20-82.07176199999998%5D%2C%20%5B33.621947%2C%20-117.317162%5D%2C%20%5B35.87225%2C%20-78.718597%5D%2C%20%5B41.098712%2C%20-73.59975%5D%2C%20%5B39.769211%2C%20-104.760963%5D%2C%20%5B35.803669%2C%20-78.693855%5D%2C%20%5B36.157982%2C%20-86.784187%5D%2C%20%5B29.413574%2C%20-98.629166%5D%2C%20%5B42.760109%2C%20-73.932014%5D%2C%20%5B38.58556%2C%20-121.449959%5D%2C%20%5B34.104820000000004%2C%20-80.829308%5D%2C%20%5B40.945651%2C%20-73.749584%5D%2C%20%5B39.94365%2C%20-82.40393%5D%2C%20%5B40.79718%2C%20-73.97564%5D%2C%20%5B34.117073%2C%20-117.200771%5D%2C%20%5B34.052914%2C%20-118.450073%5D%2C%20%5B34.386728000000005%2C%20-117.412478%5D%2C%20%5B33.68725%2C%20-117.87216%5D%2C%20%5B41.78967%2C%20-87.63064%5D%2C%20%5B35.348701%2C%20-80.847626%5D%2C%20%5B35.76736%2C%20-78.73564%5D%2C%20%5B33.982372%2C%20-118.280556%5D%2C%20%5B45.53262%2C%20-122.57654%5D%2C%20%5B34.987679%2C%20-85.497639%5D%2C%20%5B35.07179%2C%20-89.85627%5D%2C%20%5B37.643707%2C%20-122.093231%5D%2C%20%5B35.45617700000001%2C%20-97.573189%5D%2C%20%5B28.023757%2C%20-82.244726%5D%2C%20%5B40.678736%2C%20-73.36453%5D%2C%20%5B29.429474%2C%20-95.227097%5D%2C%20%5B39.984383%2C%20-75.891971%5D%2C%20%5B29.644491%2C%20-95.493225%5D%2C%20%5B41.546698%2C%20-93.959144%5D%2C%20%5B30.456079%2C%20-91.076912%5D%2C%20%5B43.646443%2C%20-116.274735%5D%2C%20%5B33.837708%2C%20-117.124012%5D%2C%20%5B34.142384%2C%20-117.25231200000002%5D%2C%20%5B42.38664%2C%20-83.44353000000002%5D%2C%20%5B42.007065%2C%20-88.336205%5D%2C%20%5B36.921124%2C%20-119.733597%5D%2C%20%5B45.718003%2C%20-123.908383%5D%2C%20%5B36.897006%2C%20-76.425288%5D%2C%20%5B37.64412%2C%20-122.49216%5D%2C%20%5B37.617466%2C%20-104.759262%5D%2C%20%5B25.67152%2C%20-80.39215300000002%5D%2C%20%5B41.603429%2C%20-93.77678%5D%2C%20%5B40.853329%2C%20-73.961325%5D%2C%20%5B33.90965%2C%20-118.1049%5D%2C%20%5B33.3865%2C%20-111.62135%5D%2C%20%5B34.01593%2C%20-118.173027%5D%2C%20%5B25.597573%2C%20-80.354562%5D%2C%20%5B32.661694%2C%20-96.726181%5D%2C%20%5B39.25682000000001%2C%20-76.69397%5D%2C%20%5B28.395528%2C%20-80.704476%5D%2C%20%5B33.940613%2C%20-118.096809%5D%2C%20%5B34.533390000000004%2C%20-82.609879%5D%2C%20%5B34.439623%2C%20-119.832247%5D%2C%20%5B35.607662%2C%20-97.620811%5D%2C%20%5B37.550844%2C%20-122.376%5D%2C%20%5B39.654881%2C%20-104.931679%5D%2C%20%5B34.2718%2C%20-118.34899%5D%2C%20%5B38.04277%2C%20-77.34425%5D%2C%20%5B36.074862%2C%20-86.768392%5D%2C%20%5B37.99389%2C%20-122.29772%5D%2C%20%5B39.25705%2C%20-84.44238%5D%2C%20%5B37.500404%2C%20-79.748672%5D%2C%20%5B36.843616%2C%20-76.133844%5D%2C%20%5B30.25757%2C%20-92.020187%5D%2C%20%5B36.638556%2C%20-119.697321%5D%2C%20%5B25.471643%2C%20-80.449196%5D%2C%20%5B32.990337%2C%20-87.20884699999998%5D%2C%20%5B26.587324%2C%20-80.068924%5D%2C%20%5B33.976707%2C%20-118.167603%5D%2C%20%5B32.888094%2C%20-117.112502%5D%2C%20%5B41.177375%2C%20-92.636916%5D%2C%20%5B38.86616%2C%20-76.99168%5D%2C%20%5B40.58039%2C%20-75.71186%5D%2C%20%5B39.76021%2C%20-105.00605%5D%2C%20%5B47.43027%2C%20-122.27328%5D%2C%20%5B40.081011%2C%20-74.938012%5D%2C%20%5B34.393299%2C%20-110.515617%5D%2C%20%5B40.42742%2C%20-76.5118%5D%2C%20%5B30.218458%2C%20-97.690826%5D%2C%20%5B36.089451%2C%20-86.62931800000001%5D%2C%20%5B29.52072%2C%20-98.51467%5D%2C%20%5B32.70029%2C%20-96.62721%5D%2C%20%5B30.410437%2C%20-91.149078%5D%2C%20%5B32.83738%2C%20-96.93526%5D%2C%20%5B33.329915%2C%20-117.236263%5D%2C%20%5B33.76774%2C%20-84.5322%5D%2C%20%5B41.00055%2C%20-73.65276%5D%2C%20%5B34.073612%2C%20-80.949471%5D%2C%20%5B30.47319%2C%20-91.110291%5D%2C%20%5B38.655796%2C%20-121.533295%5D%2C%20%5B43.00214%2C%20-83.749329%5D%2C%20%5B37.404243%2C%20-122.021248%5D%2C%20%5B42.537045%2C%20-83.146499%5D%2C%20%5B37.774788%2C%20-122.400948%5D%2C%20%5B35.34344%2C%20-85.18903%5D%2C%20%5B26.473269%2C%20-81.830353%5D%2C%20%5B33.880496%2C%20-117.60108%5D%2C%20%5B33.77655%2C%20-84.60155999999998%5D%2C%20%5B32.985325%2C%20-96.890556%5D%2C%20%5B28.55318%2C%20-81.36504000000002%5D%2C%20%5B45.49741%2C%20-122.57874%5D%2C%20%5B41.840019%2C%20-71.411263%5D%2C%20%5B41.09477%2C%20-78.063636%5D%2C%20%5B40.076881%2C%20-75.110161%5D%2C%20%5B34.0108%2C%20-117.962859%5D%2C%20%5B41.06018%2C%20-81.56655%5D%2C%20%5B32.8841%2C%20-96.69725%5D%2C%20%5B32.31047%2C%20-90.16299%5D%2C%20%5B40.907431%2C%20-124.072777%5D%2C%20%5B34.132053000000006%2C%20-117.226221%5D%2C%20%5B34.85524%2C%20-81.739281%5D%2C%20%5B39.90764%2C%20-86.07383%5D%2C%20%5B43.080719%2C%20-83.684647%5D%2C%20%5B40.335484%2C%20-75.938125%5D%2C%20%5B35.16437%2C%20-80.74106%5D%2C%20%5B34.069538%2C%20-80.91935699999998%5D%2C%20%5B36.043156%2C%20-79.83801700000002%5D%2C%20%5B35.033836%2C%20-85.15355699999998%5D%2C%20%5B33.93583%2C%20-118.09295%5D%2C%20%5B42.962452%2C%20-71.413162%5D%2C%20%5B34.255695%2C%20-77.940727%5D%2C%20%5B40.080436%2C%20-76.718241%5D%2C%20%5B30.397141%2C%20-91.163986%5D%2C%20%5B29.652521000000004%2C%20-95.251442%5D%2C%20%5B32.096249%2C%20-90.04010799999998%5D%2C%20%5B37.280334%2C%20-79.938004%5D%2C%20%5B45.037679%2C%20-93.061212%5D%2C%20%5B41.640186%2C%20-71.04900400000002%5D%2C%20%5B41.87296%2C%20-83.39969%5D%2C%20%5B40.167011%2C%20-75.290192%5D%2C%20%5B39.251602%2C%20-77.53285100000002%5D%2C%20%5B40.81551%2C%20-73.9308%5D%2C%20%5B40.585299%2C%20-122.360732%5D%2C%20%5B41.099606%2C%20-73.95141%5D%2C%20%5B42.43017%2C%20-88.08689%5D%2C%20%5B40.50106%2C%20-74.40471%5D%2C%20%5B27.965451%2C%20-82.412449%5D%2C%20%5B43.18165%2C%20-77.63169%5D%2C%20%5B32.980888%2C%20-86.689697%5D%2C%20%5B41.231831%2C%20-95.907463%5D%2C%20%5B37.96754%2C%20-122.51866%5D%2C%20%5B41.737751%2C%20-72.662849%5D%2C%20%5B33.934633000000005%2C%20-118.279831%5D%2C%20%5B33.853294%2C%20-85.91583299999998%5D%2C%20%5B33.735594%2C%20-117.818321%5D%2C%20%5B33.940984%2C%20-117.255223%5D%2C%20%5B26.10718%2C%20-80.16143000000002%5D%2C%20%5B41.84722100000001%2C%20-87.64215899999998%5D%2C%20%5B33.71191%2C%20-84.22014%5D%2C%20%5B45.614534%2C%20-121.997404%5D%2C%20%5B27.996487%2C%20-82.546097%5D%2C%20%5B33.230709000000004%2C%20-86.807327%5D%2C%20%5B33.990989%2C%20-117.931728%5D%2C%20%5B34.964642%2C%20-82.032372%5D%2C%20%5B35.637028%2C%20-78.564651%5D%2C%20%5B29.71163%2C%20-95.63725%5D%2C%20%5B32.861503000000006%2C%20-117.186839%5D%2C%20%5B41.68556%2C%20-87.66197%5D%2C%20%5B33.462070000000004%2C%20-112.07012%5D%2C%20%5B43.005939%2C%20-77.66655%5D%2C%20%5B35.352778%2C%20-119.0375%5D%2C%20%5B28.217205%2C%20-82.69516%5D%2C%20%5B34.05924%2C%20-118.25256%5D%2C%20%5B38.80668%2C%20-104.82239%5D%2C%20%5B37.963399%2C%20-122.292832%5D%2C%20%5B38.47177%2C%20-121.82518%5D%2C%20%5B33.782692%2C%20-78.989853%5D%2C%20%5B30.463699%2C%20-84.323868%5D%2C%20%5B37.726971%2C%20-121.724182%5D%2C%20%5B39.730141%2C%20-104.804489%5D%2C%20%5B30.394304%2C%20-97.869179%5D%2C%20%5B34.643757%2C%20-81.850815%5D%2C%20%5B30.438274%2C%20-81.724648%5D%2C%20%5B28.61328%2C%20-81.25861%5D%2C%20%5B47.4576%2C%20-122.26341%5D%2C%20%5B38.500487%2C%20-121.450816%5D%2C%20%5B34.898155%2C%20-82.413147%5D%2C%20%5B30.288351%2C%20-81.989303%5D%2C%20%5B38.292912%2C%20-122.651817%5D%2C%20%5B32.334027%2C%20-95.312868%5D%2C%20%5B30.443047%2C%20-84.41185%5D%2C%20%5B38.27002%2C%20-85.5009%5D%2C%20%5B38.700825%2C%20-120.077217%5D%2C%20%5B45.52623%2C%20-122.68691%5D%2C%20%5B43.258186%2C%20-77.833488%5D%2C%20%5B40.0715%2C%20-75.34525%5D%2C%20%5B42.84116%2C%20-73.62384%5D%2C%20%5B30.45126%2C%20-81.61808%5D%2C%20%5B31.698999%2C%20-106.339287%5D%2C%20%5B34.226845000000004%2C%20-118.244293%5D%2C%20%5B40.553835%2C%20-111.896879%5D%2C%20%5B45.134062%2C%20-93.235061%5D%2C%20%5B40.728376%2C%20-74.10263%5D%2C%20%5B33.1317%2C%20-117.32764%5D%2C%20%5B40.80814%2C%20-111.40766%5D%2C%20%5B30.4503%2C%20-91.15588%5D%2C%20%5B38.96808%2C%20-77.42947%5D%2C%20%5B33.50116%2C%20-82.08751%5D%2C%20%5B35.78112%2C%20-78.636421%5D%2C%20%5B25.778317%2C%20-80.320771%5D%2C%20%5B34.06758%2C%20-117.56318%5D%2C%20%5B30.423977%2C%20-91.074997%5D%2C%20%5B40.068333%2C%20-76.302025%5D%2C%20%5B35.53678499999999%2C%20-97.459061%5D%2C%20%5B33.782819%2C%20-84.49588100000003%5D%2C%20%5B27.3321%2C%20-82.44704%5D%2C%20%5B36.389945%2C%20-84.429255%5D%2C%20%5B37.994125%2C%20-122.297157%5D%2C%20%5B37.911745%2C%20-121.64126%5D%2C%20%5B37.642902%2C%20-121.88726%5D%2C%20%5B37.346874%2C%20-77.410599%5D%2C%20%5B34.02894000000001%2C%20-118.2253%5D%2C%20%5B40.143596%2C%20-74.955874%5D%2C%20%5B38.020869%2C%20-121.954423%5D%2C%20%5B39.557915%2C%20-121.598442%5D%2C%20%5B32.47432%2C%20-84.98754%5D%2C%20%5B40.193291%2C%20-74.879082%5D%2C%20%5B30.40163%2C%20-91.105484%5D%2C%20%5B45.52916%2C%20-122.68702%5D%2C%20%5B36.772709000000006%2C%20-121.66922%5D%2C%20%5B38.671078%2C%20-121.593773%5D%2C%20%5B39.018273%2C%20-94.692681%5D%2C%20%5B32.694431%2C%20-96.772118%5D%2C%20%5B36.423514%2C%20-86.992513%5D%2C%20%5B37.135498%2C%20-85.977905%5D%2C%20%5B45.000967%2C%20-123.362848%5D%2C%20%5B35.10611%2C%20-106.66613999999998%5D%2C%20%5B45.602867%2C%20-121.138474%5D%2C%20%5B30.45443%2C%20-88.83879%5D%2C%20%5B39.330604%2C%20-120.292792%5D%2C%20%5B29.737192%2C%20-95.531475%5D%2C%20%5B33.663486%2C%20-117.794792%5D%2C%20%5B29.81283%2C%20-95.617027%5D%2C%20%5B33.77811%2C%20-117.8606%5D%2C%20%5B40.610584%2C%20-74.032516%5D%2C%20%5B26.45376%2C%20-80.20468000000002%5D%2C%20%5B33.126881%2C%20-117.105003%5D%2C%20%5B42.95751%2C%20-88.059499%5D%2C%20%5B37.37677%2C%20-121.9414%5D%2C%20%5B39.053219%2C%20-94.67926%5D%2C%20%5B34.040665999999995%2C%20-118.218604%5D%2C%20%5B47.64292%2C%20-122.31698%5D%2C%20%5B33.897011%2C%20-118.192375%5D%2C%20%5B39.695827%2C%20-86.186745%5D%2C%20%5B37.77567%2C%20-121.97459%5D%2C%20%5B33.48512%2C%20-112.264%5D%2C%20%5B37.81074%2C%20-78.54005%5D%2C%20%5B46.980075%2C%20-122.29797%5D%2C%20%5B28.360914%2C%20-81.522644%5D%2C%20%5B36.070831%2C%20-95.85936%5D%2C%20%5B33.42442%2C%20-84.17786%5D%2C%20%5B27.26685%2C%20-81.34788%5D%2C%20%5B36.970826%2C%20-121.983106%5D%2C%20%5B38.681107%2C%20-121.333244%5D%2C%20%5B29.417240000000003%2C%20-81.16094%5D%2C%20%5B37.81053%2C%20-122.36464%5D%2C%20%5B27.807283%2C%20-82.75094399999998%5D%2C%20%5B30.24901%2C%20-81.595169%5D%2C%20%5B36.051044%2C%20-119.008186%5D%2C%20%5B35.48074000000001%2C%20-97.547729%5D%2C%20%5B34.115818%2C%20-80.75421899999998%5D%2C%20%5B36.26%2C%20-84.186891%5D%2C%20%5B39.523975%2C%20-119.86274%5D%2C%20%5B36.831638%2C%20-76.175598%5D%2C%20%5B45.569919%2C%20-122.678737%5D%2C%20%5B34.049313%2C%20-117.305252%5D%2C%20%5B44.94804%2C%20-92.961647%5D%2C%20%5B32.68108%2C%20-117.08676%5D%2C%20%5B30.229996000000003%2C%20-97.731606%5D%2C%20%5B38.686344%2C%20-121.46151%5D%2C%20%5B37.739313%2C%20-121.590853%5D%2C%20%5B33.501787%2C%20-117.661316%5D%2C%20%5B36.83741%2C%20-119.645973%5D%2C%20%5B42.337467%2C%20-83.124542%5D%2C%20%5B32.88421%2C%20-96.69716%5D%2C%20%5B43.19377100000001%2C%20-77.56133299999998%5D%2C%20%5B45.204472%2C%20-93.371553%5D%2C%20%5B33.207142%2C%20-87.524406%5D%2C%20%5B47.352901%2C%20-122.295807%5D%2C%20%5B40.283649%2C%20-74.696129%5D%2C%20%5B37.741867%2C%20-121.12528600000002%5D%2C%20%5B33.778919%2C%20-117.887794%5D%2C%20%5B28.368340000000003%2C%20-81.513072%5D%2C%20%5B34.168463%2C%20-114.557268%5D%2C%20%5B41.860363%2C%20-88.004791%5D%2C%20%5B29.614071000000006%2C%20-95.383675%5D%2C%20%5B37.342937%2C%20-120.615433%5D%2C%20%5B30.407295%2C%20-97.85218%5D%2C%20%5B39.09891%2C%20-94.60472%5D%2C%20%5B39.82509%2C%20-76.68395%5D%2C%20%5B38.188995%2C%20-85.73320799999998%5D%2C%20%5B31.773348%2C%20-106.446541%5D%2C%20%5B29.68885%2C%20-95.607163%5D%2C%20%5B35.565601%2C%20-97.531349%5D%2C%20%5B38.45545%2C%20-122.72592%5D%2C%20%5B32.84383%2C%20-79.978279%5D%2C%20%5B47.71953%2C%20-122.32423%5D%2C%20%5B35.501736%2C%20-97.534309%5D%2C%20%5B36.211411%2C%20-119.637253%5D%2C%20%5B40.625971%2C%20-111.901856%5D%2C%20%5B39.207591%2C%20-94.635992%5D%2C%20%5B28.193531%2C%20-82.58496%5D%2C%20%5B38.233131%2C%20-122.587427%5D%2C%20%5B38.568115%2C%20-121.510284%5D%2C%20%5B41.247594%2C%20-111.775261%5D%2C%20%5B40.561977%2C%20-74.322556%5D%2C%20%5B40.00018%2C%20-75.228768%5D%2C%20%5B32.96002%2C%20-96.72856%5D%2C%20%5B41.241508%2C%20-95.960358%5D%2C%20%5B33.989113%2C%20-79.81437700000002%5D%2C%20%5B39.50415%2C%20-121.511826%5D%2C%20%5B34.018459%2C%20-118.27935%5D%2C%20%5B34.019957%2C%20-118.181117%5D%2C%20%5B37.897396%2C%20-122.081879%5D%2C%20%5B43.04508%2C%20-89.32011999999997%5D%2C%20%5B45.394917%2C%20-92.667778%5D%2C%20%5B29.91512%2C%20-95.408887%5D%2C%20%5B34.1211%2C%20-118.47972%5D%2C%20%5B41.366863%2C%20-110.299484%5D%2C%20%5B45.05892%2C%20-93.30849%5D%2C%20%5B32.98315%2C%20-96.712372%5D%2C%20%5B36.011082%2C%20-86.702675%5D%2C%20%5B38.864831%2C%20-77.068569%5D%2C%20%5B33.855331%2C%20-117.87532%5D%2C%20%5B43.0249%2C%20-73.78782%5D%2C%20%5B39.18411500000001%2C%20-120.848096%5D%2C%20%5B40.744213%2C%20-73.771652%5D%2C%20%5B33.45124000000001%2C%20-111.92646%5D%2C%20%5B34.887697%2C%20-82.181529%5D%2C%20%5B43.1647%2C%20-77.682777%5D%2C%20%5B30.256813%2C%20-97.677246%5D%2C%20%5B39.595406%2C%20-75.25904799999998%5D%2C%20%5B28.51461%2C%20-81.31033000000002%5D%2C%20%5B42.49198%2C%20-83.02223000000002%5D%2C%20%5B25.892058%2C%20-80.163016%5D%2C%20%5B34.308193%2C%20-118.429466%5D%2C%20%5B45.07088%2C%20-93.30719%5D%2C%20%5B27.447226%2C%20-82.51616700000002%5D%2C%20%5B34.191979%2C%20-118.474161%5D%2C%20%5B35.902023%2C%20-78.681122%5D%2C%20%5B41.02883900000001%2C%20-81.547012%5D%2C%20%5B34.153866%2C%20-118.274971%5D%2C%20%5B38.74396%2C%20-90.41271%5D%2C%20%5B40.180592%2C%20-122.206177%5D%2C%20%5B41.037636%2C%20-73.949393%5D%2C%20%5B32.9141%2C%20-96.89765%5D%2C%20%5B34.502047999999995%2C%20-82.683823%5D%2C%20%5B40.291088%2C%20-76.881699%5D%2C%20%5B33.931213%2C%20-118.395988%5D%2C%20%5B47.04739%2C%20-122.99519%5D%2C%20%5B25.848295%2C%20-80.207268%5D%2C%20%5B41.252392%2C%20-95.959091%5D%2C%20%5B34.06833%2C%20-117.837499%5D%2C%20%5B29.96692%2C%20-95.41955%5D%2C%20%5B33.814104%2C%20-118.081558%5D%2C%20%5B39.016888%2C%20-122.912872%5D%2C%20%5B34.222572%2C%20-117.40341200000002%5D%2C%20%5B33.627621000000005%2C%20-111.559219%5D%2C%20%5B38.905624%2C%20-77.008999%5D%2C%20%5B36.118263%2C%20-86.70043199999998%5D%2C%20%5B45.08649000000001%2C%20-93.40222%5D%2C%20%5B39.007412%2C%20-77.394402%5D%2C%20%5B34.270144%2C%20-117.290178%5D%2C%20%5B42.827888%2C%20-78.791336%5D%2C%20%5B47.54259%2C%20-122.33415%5D%2C%20%5B34.10544%2C%20-118.25419%5D%2C%20%5B30.42091%2C%20-91.046654%5D%2C%20%5B37.261749%2C%20-121.931419%5D%2C%20%5B42.95917100000001%2C%20-83.718422%5D%2C%20%5B33.296784%2C%20-84.554992%5D%2C%20%5B27.83513%2C%20-82.3287%5D%2C%20%5B29.643684000000004%2C%20-95.386978%5D%2C%20%5B32.716858%2C%20-117.11953%5D%2C%20%5B38.715659%2C%20-121.318062%5D%2C%20%5B43.019272%2C%20-85.63651999999998%5D%2C%20%5B27.954018%2C%20-82.508315%5D%2C%20%5B32.264083%2C%20-110.978005%5D%2C%20%5B46.636179%2C%20-92.893341%5D%2C%20%5B32.7804%2C%20-96.77406%5D%2C%20%5B35.223187%2C%20-118.932162%5D%2C%20%5B42.000112%2C%20-121.891753%5D%2C%20%5B33.944916%2C%20-80.872978%5D%2C%20%5B33.878475%2C%20-117.657646%5D%2C%20%5B35.85869%2C%20-78.54516%5D%2C%20%5B37.352352%2C%20-76.730721%5D%2C%20%5B37.51466%2C%20-121.93988799999998%5D%2C%20%5B33.977989%2C%20-118.280998%5D%2C%20%5B40.72766%2C%20-73.92916%5D%2C%20%5B37.622635%2C%20-77.486839%5D%2C%20%5B38.86593%2C%20-77.05114%5D%2C%20%5B34.120436%2C%20-118.271244%5D%2C%20%5B38.432871%2C%20-122.716153%5D%2C%20%5B35.055782%2C%20-118.967117%5D%2C%20%5B25.854035%2C%20-80.32259499999998%5D%2C%20%5B39.058167%2C%20-94.628212%5D%2C%20%5B32.975152%2C%20-96.823486%5D%2C%20%5B38.899521%2C%20-104.696724%5D%2C%20%5B34.032063%2C%20-117.970657%5D%2C%20%5B29.676544%2C%20-95.26667%5D%2C%20%5B32.895610999999995%2C%20-96.475716%5D%2C%20%5B38.29717%2C%20-81.74797%5D%2C%20%5B30.266178000000004%2C%20-97.73616%5D%2C%20%5B30.436927%2C%20-91.084538%5D%2C%20%5B37.328884%2C%20-121.870255%5D%2C%20%5B38.655533%2C%20-90.448135%5D%2C%20%5B27.716923%2C%20-82.67885600000002%5D%2C%20%5B33.468613%2C%20-82.001305%5D%2C%20%5B39.772888%2C%20-104.940552%5D%2C%20%5B33.838852%2C%20-117.947624%5D%2C%20%5B39.04332%2C%20-76.95052%5D%2C%20%5B34.728027000000004%2C%20-86.670364%5D%2C%20%5B37.410472%2C%20-122.199266%5D%2C%20%5B39.56781%2C%20-77.640388%5D%2C%20%5B34.072540000000004%2C%20-118.23483%5D%2C%20%5B41.402641%2C%20-73.463623%5D%2C%20%5B36.995574%2C%20-121.556903%5D%2C%20%5B33.699898%2C%20-117.945604%5D%2C%20%5B33.91656%2C%20-84.34271%5D%2C%20%5B38.649197%2C%20-121.38295%5D%2C%20%5B48.042545%2C%20-122.180344%5D%2C%20%5B34.120436%2C%20-118.271244%5D%2C%20%5B40.79535300000001%2C%20-73.46835300000002%5D%2C%20%5B28.772372%2C%20-81.52486800000001%5D%2C%20%5B45.080976%2C%20-94.321274%5D%2C%20%5B38.743833%2C%20-78.651455%5D%2C%20%5B45.662194%2C%20-108.80236%5D%2C%20%5B45.03011%2C%20-122.98345%5D%2C%20%5B40.63851%2C%20-111.93883%5D%2C%20%5B32.658968%2C%20-117.084548%5D%2C%20%5B40.085018%2C%20-82.95105%5D%2C%20%5B28.566956%2C%20-81.207774%5D%2C%20%5B38.811089%2C%20-77.217506%5D%2C%20%5B39.121252%2C%20-94.56498%5D%2C%20%5B33.705688%2C%20-117.954422%5D%2C%20%5B40.884948%2C%20-111.89223%5D%2C%20%5B36.05031%2C%20-80.06528%5D%2C%20%5B37.986252%2C%20-84.42881%5D%2C%20%5B34.90546%2C%20-82.60144%5D%2C%20%5B42.760552%2C%20-74.118098%5D%2C%20%5B30.209915%2C%20-97.683304%5D%2C%20%5B34.031659999999995%2C%20-118.1861%5D%2C%20%5B37.08254%2C%20-80.65307%5D%2C%20%5B38.824659%2C%20-77.123072%5D%2C%20%5B35.778454%2C%20-78.664192%5D%2C%20%5B39.197891%2C%20-86.040741%5D%2C%20%5B45.47037%2C%20-122.68532%5D%2C%20%5B32.861169%2C%20-96.902064%5D%2C%20%5B37.93192%2C%20-122.40009%5D%2C%20%5B37.355961%2C%20-121.868294%5D%2C%20%5B37.74184%2C%20-121.12531%5D%2C%20%5B41.96102%2C%20-87.74266999999998%5D%2C%20%5B33.916172%2C%20-118.223541%5D%2C%20%5B43.04169%2C%20-89.37464%5D%2C%20%5B38.57972%2C%20-112.598999%5D%2C%20%5B34.071926%2C%20-118.084396%5D%2C%20%5B45.6567%2C%20-118.71881%5D%2C%20%5B35.035526000000004%2C%20-81.97183199999998%5D%2C%20%5B41.94772%2C%20-88.22296899999998%5D%2C%20%5B27.944488%2C%20-82.800031%5D%2C%20%5B35.36573%2C%20-80.82733%5D%2C%20%5B36.944756%2C%20-81.027222%5D%2C%20%5B35.73195399999999%2C%20-78.651323%5D%2C%20%5B37.21319%2C%20-121.72678%5D%2C%20%5B37.507475%2C%20-120.985553%5D%2C%20%5B43.291199%2C%20-77.77385699999998%5D%2C%20%5B40.064583%2C%20-75.320868%5D%2C%20%5B42.35967%2C%20-87.8976%5D%2C%20%5B33.69084%2C%20-117.92383%5D%2C%20%5B38.99077%2C%20-112.00499%5D%2C%20%5B33.864521%2C%20-98.537636%5D%2C%20%5B39.106499%2C%20-94.811081%5D%2C%20%5B42.104925%2C%20-122.610807%5D%2C%20%5B32.844203%2C%20-117.176222%5D%2C%20%5B44.86223%2C%20-93.23101%5D%2C%20%5B35.62364%2C%20-97.54953%5D%2C%20%5B25.927702%2C%20-80.206787%5D%2C%20%5B37.44425%2C%20-122.26912%5D%2C%20%5B33.422340000000005%2C%20-111.615334%5D%2C%20%5B34.286369%2C%20-79.43645500000002%5D%2C%20%5B33.37815%2C%20-111.96859%5D%2C%20%5B39.20425%2C%20-76.55450400000002%5D%2C%20%5B40.24478%2C%20-76.16802%5D%2C%20%5B34.100444%2C%20-80.426681%5D%2C%20%5B39.075697%2C%20-94.597795%5D%2C%20%5B28.507419%2C%20-81.07763100000003%5D%2C%20%5B28.546743%2C%20-81.504894%5D%2C%20%5B41.539807%2C%20-73.082726%5D%2C%20%5B38.852303000000006%2C%20-76.95599399999998%5D%2C%20%5B37.694698%2C%20-121.933815%5D%2C%20%5B30.246469%2C%20-92.663719%5D%2C%20%5B34.184212%2C%20-82.320541%5D%2C%20%5B37.777309%2C%20-121.179398%5D%2C%20%5B34.726971%2C%20-82.388802%5D%2C%20%5B34.16859%2C%20-118.59237%5D%2C%20%5B34.646011%2C%20-117.969902%5D%2C%20%5B33.960143%2C%20-118.244167%5D%2C%20%5B39.018967%2C%20-77.482384%5D%2C%20%5B41.856846%2C%20-73.88430799999998%5D%2C%20%5B40.73635%2C%20-81.12321%5D%2C%20%5B39.379276%2C%20-76.44828000000003%5D%2C%20%5B35.87353%2C%20-84.246891%5D%2C%20%5B32.61623%2C%20-96.823166%5D%2C%20%5B38.28396%2C%20-122.68554%5D%2C%20%5B30.46636%2C%20-91.10556%5D%2C%20%5B38.70735300000001%2C%20-121.383478%5D%2C%20%5B33.945325%2C%20-118.370054%5D%2C%20%5B35.17733%2C%20-80.81752%5D%2C%20%5B30.40728%2C%20-97.672325%5D%2C%20%5B38.651329%2C%20-78.66951800000002%5D%2C%20%5B40.533668%2C%20-104.994271%5D%2C%20%5B42.383945%2C%20-71.04843100000002%5D%2C%20%5B33.616844%2C%20-84.438622%5D%2C%20%5B37.611351%2C%20-77.563469%5D%2C%20%5B30.52273%2C%20-87.180389%5D%2C%20%5B33.150619%2C%20-117.198699%5D%2C%20%5B36.328407%2C%20-119.408951%5D%2C%20%5B41.219196%2C%20-77.221307%5D%2C%20%5B41.87248%2C%20-71.39455%5D%2C%20%5B38.645144%2C%20-121.067921%5D%2C%20%5B41.859344%2C%20-88.071297%5D%2C%20%5B37.826946%2C%20-122.286156%5D%2C%20%5B39.026756%2C%20-84.553997%5D%2C%20%5B43.121864%2C%20-75.230789%5D%2C%20%5B36.183472%2C%20-86.795029%5D%2C%20%5B38.236064%2C%20-122.670378%5D%2C%20%5B32.79178%2C%20-96.7334%5D%2C%20%5B45.03541%2C%20-93.19067%5D%2C%20%5B28.605703%2C%20-81.386368%5D%2C%20%5B39.012531%2C%20-78.363029%5D%2C%20%5B38.797508%2C%20-104.742844%5D%2C%20%5B34.935509%2C%20-82.193649%5D%2C%20%5B34.700859%2C%20-86.68875899999998%5D%2C%20%5B32.66192%2C%20-96.89588%5D%2C%20%5B43.11082800000001%2C%20-77.50703399999998%5D%2C%20%5B45.892422%2C%20-122.502814%5D%2C%20%5B33.929602%2C%20-118.239039%5D%2C%20%5B35.183205%2C%20-80.80680100000002%5D%2C%20%5B43.19086%2C%20-124.33775%5D%2C%20%5B38.866829%2C%20-104.819977%5D%2C%20%5B43.39968%2C%20-121.72531%5D%2C%20%5B38.522175%2C%20-77.369316%5D%2C%20%5B41.412827%2C%20-81.902061%5D%2C%20%5B39.53641500000001%2C%20-119.786682%5D%2C%20%5B38.101326%2C%20-121.228927%5D%2C%20%5B44.84846%2C%20-93.12693%5D%2C%20%5B29.689304%2C%20-95.451103%5D%2C%20%5B33.524025%2C%20-112.11688999999998%5D%2C%20%5B33.994862%2C%20-81.312279%5D%2C%20%5B46.073152%2C%20-122.904802%5D%2C%20%5B43.008598%2C%20-83.831451%5D%2C%20%5B32.469034%2C%20-93.70927%5D%2C%20%5B39.59201%2C%20-104.88337%5D%2C%20%5B39.315926%2C%20-76.544678%5D%2C%20%5B39.08915%2C%20-94.5715%5D%2C%20%5B29.597258%2C%20-95.387192%5D%2C%20%5B25.964765%2C%20-80.179878%5D%2C%20%5B37.730389%2C%20-122.191597%5D%2C%20%5B26.007812%2C%20-80.34072900000002%5D%2C%20%5B40.78074%2C%20-73.42013%5D%2C%20%5B34.166946%2C%20-118.299896%5D%2C%20%5B37.933819%2C%20-122.425258%5D%2C%20%5B30.484541%2C%20-91.086243%5D%2C%20%5B42.73538%2C%20-84.66852%5D%2C%20%5B34.24925%2C%20-111.28598999999998%5D%2C%20%5B33.465070000000004%2C%20-112.25515%5D%2C%20%5B34.693115%2C%20-112.168312%5D%2C%20%5B33.86034%2C%20-80.112953%5D%2C%20%5B41.093279%2C%20-73.610388%5D%2C%20%5B40.845722%2C%20-73.929606%5D%2C%20%5B26.230314%2C%20-80.136337%5D%2C%20%5B31.7048%2C%20-106.31762%5D%2C%20%5B39.17961%2C%20-94.57891%5D%2C%20%5B37.970849%2C%20-120.274577%5D%2C%20%5B30.395151%2C%20-90.998291%5D%2C%20%5B32.783354%2C%20-96.786344%5D%2C%20%5B33.784103%2C%20-117.49202%5D%2C%20%5B38.516869%2C%20-121.463257%5D%2C%20%5B43.032085%2C%20-83.724159%5D%2C%20%5B44.732079%2C%20-92.48687%5D%2C%20%5B32.728852%2C%20-117.10586200000002%5D%2C%20%5B33.89733%2C%20-117.49002%5D%2C%20%5B39.959553%2C%20-83.344803%5D%2C%20%5B37.31649%2C%20-121.9673%5D%2C%20%5B42.387089%2C%20-123.340408%5D%2C%20%5B41.793961%2C%20-83.462517%5D%2C%20%5B36.191765%2C%20-86.77739%5D%2C%20%5B44.05794%2C%20-121.30721%5D%2C%20%5B30.285259000000003%2C%20-97.713051%5D%2C%20%5B31.419970000000006%2C%20-89.410126%5D%2C%20%5B32.366394%2C%20-110.995743%5D%2C%20%5B37.039321%2C%20-119.781156%5D%2C%20%5B37.687714%2C%20-77.451813%5D%2C%20%5B41.241949%2C%20-73.079902%5D%2C%20%5B36.751789%2C%20-119.844299%5D%2C%20%5B37.852397%2C%20-122.029072%5D%2C%20%5B25.527536%2C%20-80.395573%5D%2C%20%5B44.20238%2C%20-124.11328%5D%2C%20%5B33.764790000000005%2C%20-84.387497%5D%2C%20%5B37.44928%2C%20-122.123245%5D%2C%20%5B34.13558%2C%20-117.99506%5D%2C%20%5B37.874851%2C%20-122.186584%5D%2C%20%5B43.05125%2C%20-83.615974%5D%2C%20%5B33.84855%2C%20-117.96464%5D%2C%20%5B37.68787%2C%20-113.06191%5D%2C%20%5B38.67705%2C%20-90.44958%5D%2C%20%5B32.742424%2C%20-96.653098%5D%2C%20%5B41.256222%2C%20-96.07637%5D%2C%20%5B37.486103%2C%20-122.193794%5D%2C%20%5B35.19426%2C%20-80.87288000000002%5D%2C%20%5B42.4747%2C%20-71.22629%5D%2C%20%5B34.221493%2C%20-118.473251%5D%2C%20%5B34.030505%2C%20-117.588112%5D%2C%20%5B34.273685%2C%20-79.851606%5D%2C%20%5B34.06653%2C%20-117.21926%5D%2C%20%5B30.487127%2C%20-91.166367%5D%2C%20%5B32.893769%2C%20-117.226863%5D%2C%20%5B34.012578000000005%2C%20-118.490649%5D%2C%20%5B35.04627%2C%20-89.69440999999998%5D%2C%20%5B28.53906%2C%20-81.4759%5D%2C%20%5B37.579979%2C%20-90.414169%5D%2C%20%5B26.88273%2C%20-80.12802099999998%5D%2C%20%5B34.107868%2C%20-80.950577%5D%2C%20%5B35.49321%2C%20-97.432831%5D%2C%20%5B42.99426%2C%20-73.79072%5D%2C%20%5B32.67951%2C%20-96.82267%5D%2C%20%5B34.113152%2C%20-80.947716%5D%2C%20%5B36.14122%2C%20-86.73161999999998%5D%2C%20%5B33.778420000000004%2C%20-118.088733%5D%2C%20%5B32.77882%2C%20-117.10613%5D%2C%20%5B38.24199%2C%20-122.90512%5D%2C%20%5B39.537311%2C%20-119.788%5D%2C%20%5B28.224772%2C%20-82.35315600000001%5D%2C%20%5B39.279816%2C%20-76.553085%5D%2C%20%5B29.867119%2C%20-95.446434%5D%2C%20%5B34.052710999999995%2C%20-118.227216%5D%2C%20%5B41.90815%2C%20-87.66243%5D%2C%20%5B44.93239000000001%2C%20-123.13525%5D%2C%20%5B37.31649%2C%20-121.9673%5D%2C%20%5B38.50759%2C%20-121.458226%5D%2C%20%5B47.451893%2C%20-122.264816%5D%2C%20%5B25.969907%2C%20-80.2467%5D%2C%20%5B39.527198%2C%20-119.707014%5D%2C%20%5B40.020485%2C%20-76.383896%5D%2C%20%5B32.66362%2C%20-97.28869%5D%2C%20%5B39.096245%2C%20-94.649445%5D%2C%20%5B40.14661%2C%20-75.271301%5D%2C%20%5B34.11663%2C%20-118.26895%5D%2C%20%5B40.657394%2C%20-74.64444%5D%2C%20%5B34.796219%2C%20-82.380066%5D%2C%20%5B41.800743%2C%20-71.402214%5D%2C%20%5B34.03452%2C%20-118.267167%5D%2C%20%5B42.37472%2C%20-122.85596%5D%2C%20%5B34.141403000000004%2C%20-118.01783%5D%2C%20%5B30.453152000000006%2C%20-91.166069%5D%2C%20%5B37.426056%2C%20-120.771263%5D%2C%20%5B35.867466%2C%20-78.571526%5D%2C%20%5B26.858213%2C%20-81.97097%5D%2C%20%5B45.037411%2C%20-93.04245%5D%2C%20%5B37.845863%2C%20-122.247887%5D%2C%20%5B37.500163%2C%20-122.319268%5D%2C%20%5B39.819862%2C%20-76.99559%5D%2C%20%5B32.77409%2C%20-96.79329%5D%2C%20%5B34.080846%2C%20-118.22513899999998%5D%2C%20%5B25.699027%2C%20-80.34114%5D%5D%2C%0A%20%20%20%20%20%20%20%20%20%20%20%20%20%20%20%20%7B%0A%20%20%20%20%20%20%20%20%20%20%20%20%20%20%20%20%20%20%20%20minOpacity%3A%200.5%2C%0A%20%20%20%20%20%20%20%20%20%20%20%20%20%20%20%20%20%20%20%20maxZoom%3A%2018%2C%0A%20%20%20%20%20%20%20%20%20%20%20%20%20%20%20%20%20%20%20%20max%3A%201.0%2C%0A%20%20%20%20%20%20%20%20%20%20%20%20%20%20%20%20%20%20%20%20radius%3A%2025%2C%0A%20%20%20%20%20%20%20%20%20%20%20%20%20%20%20%20%20%20%20%20blur%3A%2015%2C%0A%20%20%20%20%20%20%20%20%20%20%20%20%20%20%20%20%20%20%20%20gradient%3A%20null%0A%20%20%20%20%20%20%20%20%20%20%20%20%20%20%20%20%20%20%20%20%7D%29%0A%20%20%20%20%20%20%20%20%20%20%20%20%20%20%20%20.addTo%28map_59d2b3ebf6304dca852f513a351ccc1b%29%3B%0A%20%20%20%20%20%20%20%20%0A%3C/script%3E onload=\"this.contentDocument.open();this.contentDocument.write(    decodeURIComponent(this.getAttribute('data-html')));this.contentDocument.close();\" allowfullscreen webkitallowfullscreen mozallowfullscreen></iframe></div></div>"
            ],
            "text/plain": [
              "<folium.folium.Map at 0x7f7a5116fdd0>"
            ]
          },
          "metadata": {
            "tags": []
          },
          "execution_count": 80
        }
      ]
    },
    {
      "cell_type": "markdown",
      "metadata": {
        "id": "4210wXgDt0KL"
      },
      "source": [
        "#Insights:\n",
        "-No Data from New York\n",
        "- Less than 5% of cities have more than 1000 yearly accidents.\n",
        "-over 1200 cities have reported just one accident"
      ]
    },
    {
      "cell_type": "code",
      "metadata": {
        "id": "Yj1NSCpDIDEA"
      },
      "source": [
        ""
      ],
      "execution_count": null,
      "outputs": []
    },
    {
      "cell_type": "markdown",
      "metadata": {
        "id": "ZDrs4yrvmD5t"
      },
      "source": [
        "#Questions"
      ]
    },
    {
      "cell_type": "markdown",
      "metadata": {
        "id": "1jtrgFTTWPA_"
      },
      "source": [
        "1. Are there more accidents in warmer or colder areas\n",
        "2. Which states has the heighst number of accidents\n",
        "3. Accidents per capita?\n",
        "4. Among the top 100 cities, which state they belong to\n",
        "5. What time of the day are accidents most?\n",
        "6. What is the trend of accidents\n",
        "7. What is the trend over the year\n",
        "8. Accident per unit traffic--high\n"
      ]
    }
  ]
}